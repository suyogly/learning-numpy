{
 "cells": [
  {
   "cell_type": "markdown",
   "id": "660e460c",
   "metadata": {
    "papermill": {
     "duration": 0.010386,
     "end_time": "2025-07-11T16:26:40.095439",
     "exception": false,
     "start_time": "2025-07-11T16:26:40.085053",
     "status": "completed"
    },
    "tags": []
   },
   "source": [
    "# **Array Manipulation**"
   ]
  },
  {
   "cell_type": "markdown",
   "id": "b45e21d4",
   "metadata": {
    "papermill": {
     "duration": 0.00812,
     "end_time": "2025-07-11T16:26:40.112951",
     "exception": false,
     "start_time": "2025-07-11T16:26:40.104831",
     "status": "completed"
    },
    "tags": []
   },
   "source": [
    "Here, I will learn different methods of modiying the arrays while also learning about the arithmetic operations. "
   ]
  },
  {
   "cell_type": "markdown",
   "id": "d096b544",
   "metadata": {
    "papermill": {
     "duration": 0.008003,
     "end_time": "2025-07-11T16:26:40.129463",
     "exception": false,
     "start_time": "2025-07-11T16:26:40.121460",
     "status": "completed"
    },
    "tags": []
   },
   "source": [
    "## **1. Value Asignment and Conditional Updates**"
   ]
  },
  {
   "cell_type": "markdown",
   "id": "fc29b6e8",
   "metadata": {
    "papermill": {
     "duration": 0.008336,
     "end_time": "2025-07-11T16:26:40.146091",
     "exception": false,
     "start_time": "2025-07-11T16:26:40.137755",
     "status": "completed"
    },
    "tags": []
   },
   "source": [
    "This is fundamental because it's how you directly alter the data stored within your arrays. With three main ways:\n",
    "\n",
    "- **Direct Element Assignment**: Changing one specific value.\n",
    "- **Slice Assignment**: Changing a range of values.\n",
    "- **Boolean Mask Assignment**: Changing values based on a condition."
   ]
  },
  {
   "cell_type": "code",
   "execution_count": 1,
   "id": "c9dabf30",
   "metadata": {
    "execution": {
     "iopub.execute_input": "2025-07-11T16:26:40.164635Z",
     "iopub.status.busy": "2025-07-11T16:26:40.164276Z",
     "iopub.status.idle": "2025-07-11T16:26:40.172212Z",
     "shell.execute_reply": "2025-07-11T16:26:40.171239Z"
    },
    "papermill": {
     "duration": 0.019519,
     "end_time": "2025-07-11T16:26:40.174378",
     "exception": false,
     "start_time": "2025-07-11T16:26:40.154859",
     "status": "completed"
    },
    "tags": []
   },
   "outputs": [],
   "source": [
    "import numpy as np"
   ]
  },
  {
   "cell_type": "code",
   "execution_count": 2,
   "id": "8b7f2a36",
   "metadata": {
    "execution": {
     "iopub.execute_input": "2025-07-11T16:26:40.192231Z",
     "iopub.status.busy": "2025-07-11T16:26:40.191920Z",
     "iopub.status.idle": "2025-07-11T16:26:40.197775Z",
     "shell.execute_reply": "2025-07-11T16:26:40.196755Z"
    },
    "papermill": {
     "duration": 0.016572,
     "end_time": "2025-07-11T16:26:40.199369",
     "exception": false,
     "start_time": "2025-07-11T16:26:40.182797",
     "status": "completed"
    },
    "tags": []
   },
   "outputs": [],
   "source": [
    "assign_1d = np.array([10, 20, 30, 40, 50, 60, 70, 80, 90, 100]) #1d array\n",
    "\n",
    "assign_2d = np.array([ #2d array\n",
    "    [1, 2, 3, 4],\n",
    "    [5, 6, 7, 8],\n",
    "    [9, 10, 11, 12]\n",
    "])\n",
    "\n",
    "assign_3d = np.array([ #3d array\n",
    "    [[100, 200, 300],\n",
    "        [400, 500, 600]],\n",
    "\n",
    "    [[719, 819, 919],\n",
    "    [1019, 1119, 1129]]\n",
    "])"
   ]
  },
  {
   "cell_type": "markdown",
   "id": "ef897476",
   "metadata": {
    "papermill": {
     "duration": 0.007733,
     "end_time": "2025-07-11T16:26:40.215358",
     "exception": false,
     "start_time": "2025-07-11T16:26:40.207625",
     "status": "completed"
    },
    "tags": []
   },
   "source": [
    "### **Direct Element Assignment**"
   ]
  },
  {
   "cell_type": "markdown",
   "id": "86d90483",
   "metadata": {
    "papermill": {
     "duration": 0.007719,
     "end_time": "2025-07-11T16:26:40.231516",
     "exception": false,
     "start_time": "2025-07-11T16:26:40.223797",
     "status": "completed"
    },
    "tags": []
   },
   "source": [
    "Changing one specific value"
   ]
  },
  {
   "cell_type": "code",
   "execution_count": 3,
   "id": "185d94e3",
   "metadata": {
    "execution": {
     "iopub.execute_input": "2025-07-11T16:26:40.248952Z",
     "iopub.status.busy": "2025-07-11T16:26:40.248593Z",
     "iopub.status.idle": "2025-07-11T16:26:40.257618Z",
     "shell.execute_reply": "2025-07-11T16:26:40.256734Z"
    },
    "papermill": {
     "duration": 0.019408,
     "end_time": "2025-07-11T16:26:40.258992",
     "exception": false,
     "start_time": "2025-07-11T16:26:40.239584",
     "status": "completed"
    },
    "tags": []
   },
   "outputs": [
    {
     "data": {
      "text/plain": [
       "array([[[ 100,  200,  300],\n",
       "        [ 400,  500,    1]],\n",
       "\n",
       "       [[ 719,  819,  919],\n",
       "        [1019, 1119, 1129]]])"
      ]
     },
     "execution_count": 3,
     "metadata": {},
     "output_type": "execute_result"
    }
   ],
   "source": [
    "# this is easy, same as we did in indexing\n",
    "\n",
    "assign_1d [7] = 999 # changes the 7th index or 8th element -> from 80 to 999\n",
    "assign_1d\n",
    "\n",
    "assign_2d [1, -1] = 918 # changes the last element of the 2nd row -> from 8 to 918\n",
    "assign_2d\n",
    "\n",
    "assign_3d [0, 1, 2] = 1 # changes the 3rd element located in second row of 1st slice -> from 600 to 1\n",
    "assign_3d"
   ]
  },
  {
   "cell_type": "markdown",
   "id": "671e0e7d",
   "metadata": {
    "papermill": {
     "duration": 0.007934,
     "end_time": "2025-07-11T16:26:40.275460",
     "exception": false,
     "start_time": "2025-07-11T16:26:40.267526",
     "status": "completed"
    },
    "tags": []
   },
   "source": [
    "### **Slice Assignment**"
   ]
  },
  {
   "cell_type": "markdown",
   "id": "af87cbe8",
   "metadata": {
    "papermill": {
     "duration": 0.008132,
     "end_time": "2025-07-11T16:26:40.291668",
     "exception": false,
     "start_time": "2025-07-11T16:26:40.283536",
     "status": "completed"
    },
    "tags": []
   },
   "source": [
    "What if we want to change the multiple values at once? Like entire rows or from x-index to y-index?"
   ]
  },
  {
   "cell_type": "code",
   "execution_count": 4,
   "id": "5272452b",
   "metadata": {
    "execution": {
     "iopub.execute_input": "2025-07-11T16:26:40.309380Z",
     "iopub.status.busy": "2025-07-11T16:26:40.308994Z",
     "iopub.status.idle": "2025-07-11T16:26:40.315174Z",
     "shell.execute_reply": "2025-07-11T16:26:40.314014Z"
    },
    "papermill": {
     "duration": 0.017147,
     "end_time": "2025-07-11T16:26:40.316897",
     "exception": false,
     "start_time": "2025-07-11T16:26:40.299750",
     "status": "completed"
    },
    "tags": []
   },
   "outputs": [
    {
     "name": "stdout",
     "output_type": "stream",
     "text": [
      "1d: [ 10  20  30  40  50  60  70 999  90 100]\n",
      "2d: [[  1   2   3   4]\n",
      " [  5   6   7 918]\n",
      " [  9  10  11  12]]\n",
      "3d: [[[ 100  200  300]\n",
      "  [ 400  500    1]]\n",
      "\n",
      " [[ 719  819  919]\n",
      "  [1019 1119 1129]]]\n"
     ]
    }
   ],
   "source": [
    "print(f\"1d: {assign_1d}\")\n",
    "print(f\"2d: {assign_2d}\")\n",
    "print(f\"3d: {assign_3d}\")"
   ]
  },
  {
   "cell_type": "code",
   "execution_count": 5,
   "id": "c57dc4f6",
   "metadata": {
    "execution": {
     "iopub.execute_input": "2025-07-11T16:26:40.338015Z",
     "iopub.status.busy": "2025-07-11T16:26:40.337704Z",
     "iopub.status.idle": "2025-07-11T16:26:40.345286Z",
     "shell.execute_reply": "2025-07-11T16:26:40.344341Z"
    },
    "papermill": {
     "duration": 0.019444,
     "end_time": "2025-07-11T16:26:40.346912",
     "exception": false,
     "start_time": "2025-07-11T16:26:40.327468",
     "status": "completed"
    },
    "tags": []
   },
   "outputs": [
    {
     "data": {
      "text/plain": [
       "array([[[ 100,  200,  300],\n",
       "        [   1,    1,    1]],\n",
       "\n",
       "       [[ 719,  819,  919],\n",
       "        [1019, 1119, 1129]]])"
      ]
     },
     "execution_count": 5,
     "metadata": {},
     "output_type": "execute_result"
    }
   ],
   "source": [
    "# this is same as i read on slicing in reading-array\n",
    "\n",
    "assign_1d [0:3] = 39 # gives updated array with changed value of 39 in index 1, 2 and 3\n",
    "assign_1d\n",
    "\n",
    "assign_2d [:, 2] = 44 # gives updated array with changed value of 44 in 2nd index of all rows\n",
    "assign_2d\n",
    "\n",
    "assign_3d [0, 1, 0:2] = [1, 1] # changed value of [1, 1] in 0 and 1 index of 2nd row of 1st slice\n",
    "assign_3d"
   ]
  },
  {
   "cell_type": "markdown",
   "id": "fedb1203",
   "metadata": {
    "papermill": {
     "duration": 0.00812,
     "end_time": "2025-07-11T16:26:40.363731",
     "exception": false,
     "start_time": "2025-07-11T16:26:40.355611",
     "status": "completed"
    },
    "tags": []
   },
   "source": [
    "### **Boolean Mask Assignment**"
   ]
  },
  {
   "cell_type": "markdown",
   "id": "55a83421",
   "metadata": {
    "papermill": {
     "duration": 0.008583,
     "end_time": "2025-07-11T16:26:40.380566",
     "exception": false,
     "start_time": "2025-07-11T16:26:40.371983",
     "status": "completed"
    },
    "tags": []
   },
   "source": [
    "Changing values based on a condition."
   ]
  },
  {
   "cell_type": "code",
   "execution_count": 6,
   "id": "0a444e07",
   "metadata": {
    "execution": {
     "iopub.execute_input": "2025-07-11T16:26:40.400168Z",
     "iopub.status.busy": "2025-07-11T16:26:40.399847Z",
     "iopub.status.idle": "2025-07-11T16:26:40.405677Z",
     "shell.execute_reply": "2025-07-11T16:26:40.404704Z"
    },
    "papermill": {
     "duration": 0.017514,
     "end_time": "2025-07-11T16:26:40.407083",
     "exception": false,
     "start_time": "2025-07-11T16:26:40.389569",
     "status": "completed"
    },
    "tags": []
   },
   "outputs": [
    {
     "name": "stdout",
     "output_type": "stream",
     "text": [
      "1d: [ 39  39  39  40  50  60  70 999  90 100]\n",
      "2d: [[  1   2  44   4]\n",
      " [  5   6  44 918]\n",
      " [  9  10  44  12]]\n",
      "3d: [[[ 100  200  300]\n",
      "  [   1    1    1]]\n",
      "\n",
      " [[ 719  819  919]\n",
      "  [1019 1119 1129]]]\n"
     ]
    }
   ],
   "source": [
    "print(f\"1d: {assign_1d}\")\n",
    "print(f\"2d: {assign_2d}\")\n",
    "print(f\"3d: {assign_3d}\")"
   ]
  },
  {
   "cell_type": "code",
   "execution_count": 7,
   "id": "fee64d05",
   "metadata": {
    "execution": {
     "iopub.execute_input": "2025-07-11T16:26:40.495635Z",
     "iopub.status.busy": "2025-07-11T16:26:40.495333Z",
     "iopub.status.idle": "2025-07-11T16:26:40.504436Z",
     "shell.execute_reply": "2025-07-11T16:26:40.503589Z"
    },
    "papermill": {
     "duration": 0.089867,
     "end_time": "2025-07-11T16:26:40.505936",
     "exception": false,
     "start_time": "2025-07-11T16:26:40.416069",
     "status": "completed"
    },
    "tags": []
   },
   "outputs": [
    {
     "data": {
      "text/plain": [
       "array([[1, 1, 1, 1],\n",
       "       [1, 1, 1, 1],\n",
       "       [1, 1, 1, 1]])"
      ]
     },
     "execution_count": 7,
     "metadata": {},
     "output_type": "execute_result"
    }
   ],
   "source": [
    "# this is also same as boolean indexing i read\n",
    "\n",
    "assign_1d [assign_1d != 39] = 0\n",
    "assign_1d\n",
    "\n",
    "assign_2d [(assign_2d [1, 2] > 20) & (assign_2d [-1, 1] < 10)] = 0\n",
    "assign_2d\n",
    "\n",
    "assign_2d [(assign_2d [:, 2] == 0) | (assign_2d [:, 2] < 50)] = 1\n",
    "assign_2d"
   ]
  },
  {
   "cell_type": "markdown",
   "id": "b6baeb19",
   "metadata": {
    "papermill": {
     "duration": 0.008322,
     "end_time": "2025-07-11T16:26:40.523227",
     "exception": false,
     "start_time": "2025-07-11T16:26:40.514905",
     "status": "completed"
    },
    "tags": []
   },
   "source": [
    "## **2. Reshaping and Dimension Manipulation**"
   ]
  },
  {
   "cell_type": "markdown",
   "id": "f74226e8",
   "metadata": {
    "papermill": {
     "duration": 0.00861,
     "end_time": "2025-07-11T16:26:40.540410",
     "exception": false,
     "start_time": "2025-07-11T16:26:40.531800",
     "status": "completed"
    },
    "tags": []
   },
   "source": [
    "- changing an array's shape and flattening the arr >= 2 to 1d array\n",
    "- adding new dimension/s\n",
    "- transposing"
   ]
  },
  {
   "cell_type": "markdown",
   "id": "1be42c48",
   "metadata": {
    "papermill": {
     "duration": 0.008861,
     "end_time": "2025-07-11T16:26:40.557763",
     "exception": false,
     "start_time": "2025-07-11T16:26:40.548902",
     "status": "completed"
    },
    "tags": []
   },
   "source": [
    "### **Changing Array Shape**"
   ]
  },
  {
   "cell_type": "code",
   "execution_count": 8,
   "id": "c3a266a9",
   "metadata": {
    "execution": {
     "iopub.execute_input": "2025-07-11T16:26:40.576648Z",
     "iopub.status.busy": "2025-07-11T16:26:40.576347Z",
     "iopub.status.idle": "2025-07-11T16:26:40.582988Z",
     "shell.execute_reply": "2025-07-11T16:26:40.581891Z"
    },
    "papermill": {
     "duration": 0.01804,
     "end_time": "2025-07-11T16:26:40.584468",
     "exception": false,
     "start_time": "2025-07-11T16:26:40.566428",
     "status": "completed"
    },
    "tags": []
   },
   "outputs": [
    {
     "name": "stdout",
     "output_type": "stream",
     "text": [
      "[ 0  1  2  3  4  5  6  7  8  9 10 11 12 13 14 15 16 17 18 19 20 21 22 23]\n",
      "[[ 0  1  2  3  4  5]\n",
      " [ 6  7  8  9 10 11]\n",
      " [12 13 14 15 16 17]\n",
      " [18 19 20 21 22 23]]\n",
      "[[[ 0  1  2  3]\n",
      "  [ 4  5  6  7]\n",
      "  [ 8  9 10 11]]\n",
      "\n",
      " [[12 13 14 15]\n",
      "  [16 17 18 19]\n",
      "  [20 21 22 23]]]\n"
     ]
    }
   ],
   "source": [
    "arr_1d = np.arange(24) # 1d array from 0 to 23\n",
    "arr_2d = np.arange(24).reshape(4, 6) # 2d array with 4 rows and 6 comlumns each from 0 to 23\n",
    "arr_3d = np.arange(24).reshape(2, 3, 4) # 3d array with 2 slices, 3 rows each and 4 columns\n",
    "\n",
    "print(arr_1d)\n",
    "print(arr_2d)\n",
    "print(arr_3d)"
   ]
  },
  {
   "cell_type": "code",
   "execution_count": 9,
   "id": "81acba3d",
   "metadata": {
    "execution": {
     "iopub.execute_input": "2025-07-11T16:26:40.604173Z",
     "iopub.status.busy": "2025-07-11T16:26:40.603820Z",
     "iopub.status.idle": "2025-07-11T16:26:40.611312Z",
     "shell.execute_reply": "2025-07-11T16:26:40.610228Z"
    },
    "papermill": {
     "duration": 0.019542,
     "end_time": "2025-07-11T16:26:40.613172",
     "exception": false,
     "start_time": "2025-07-11T16:26:40.593630",
     "status": "completed"
    },
    "tags": []
   },
   "outputs": [
    {
     "data": {
      "text/plain": [
       "array([[[ 0,  1],\n",
       "        [ 2,  3],\n",
       "        [ 4,  5]],\n",
       "\n",
       "       [[ 6,  7],\n",
       "        [ 8,  9],\n",
       "        [10, 11]],\n",
       "\n",
       "       [[12, 13],\n",
       "        [14, 15],\n",
       "        [16, 17]],\n",
       "\n",
       "       [[18, 19],\n",
       "        [20, 21],\n",
       "        [22, 23]]])"
      ]
     },
     "execution_count": 9,
     "metadata": {},
     "output_type": "execute_result"
    }
   ],
   "source": [
    "# changing the shape of 1d array to 2d and 3d array\n",
    "\n",
    "# using .reshape()\n",
    "\n",
    "one_2d = arr_1d.reshape(2, 12) # 2 rows, 12 columns each\n",
    "one_2d\n",
    "\n",
    "one_2d_1 = arr_1d.reshape(3, 8) # 3 rows, 8 columns each\n",
    "one_2d_1\n",
    "\n",
    "one_2d_2 = arr_1d.reshape(12, 2) # 12 rows, 2 columns each\n",
    "one_2d_2\n",
    "\n",
    "one_3d = arr_1d.reshape(2, 4, 3) # 2 slices, 4 rows each with 3 columns\n",
    "one_3d\n",
    "\n",
    "one_3d_1 = arr_1d.reshape(4, 3, 2) # 4 slices, 3 rows each with 2 columns\n",
    "one_3d_1"
   ]
  },
  {
   "cell_type": "code",
   "execution_count": 10,
   "id": "88267b69",
   "metadata": {
    "execution": {
     "iopub.execute_input": "2025-07-11T16:26:40.633681Z",
     "iopub.status.busy": "2025-07-11T16:26:40.633372Z",
     "iopub.status.idle": "2025-07-11T16:26:40.640409Z",
     "shell.execute_reply": "2025-07-11T16:26:40.639508Z"
    },
    "papermill": {
     "duration": 0.019244,
     "end_time": "2025-07-11T16:26:40.641893",
     "exception": false,
     "start_time": "2025-07-11T16:26:40.622649",
     "status": "completed"
    },
    "tags": []
   },
   "outputs": [
    {
     "data": {
      "text/plain": [
       "array([ 0,  1,  2,  3,  4,  5,  6,  7,  8,  9, 10, 11, 12, 13, 14, 15, 16,\n",
       "       17, 18, 19, 20, 21, 22, 23])"
      ]
     },
     "execution_count": 10,
     "metadata": {},
     "output_type": "execute_result"
    }
   ],
   "source": [
    "# 2d to 3d and 1d\n",
    "\n",
    "two_3d = arr_2d.reshape(3, 4, 2)\n",
    "two_3d\n",
    "\n",
    "two_3d_1 = arr_2d.reshape(6, 2, 2)\n",
    "two_3d_1\n",
    "\n",
    "# 2d to 1d\n",
    "\n",
    "# we can use either .ravel() or .flatten() or .reshape(-1)\n",
    "\n",
    "two_1d = arr_2d.ravel()\n",
    "two_1d\n",
    "\n",
    "two_1d_1 = arr_2d.flatten()\n",
    "two_1d_1\n",
    "\n",
    "two_1d_2 = arr_2d.reshape(-1)\n",
    "two_1d_2"
   ]
  },
  {
   "cell_type": "code",
   "execution_count": 11,
   "id": "e695623e",
   "metadata": {
    "execution": {
     "iopub.execute_input": "2025-07-11T16:26:40.660925Z",
     "iopub.status.busy": "2025-07-11T16:26:40.660630Z",
     "iopub.status.idle": "2025-07-11T16:26:40.666670Z",
     "shell.execute_reply": "2025-07-11T16:26:40.665812Z"
    },
    "papermill": {
     "duration": 0.017404,
     "end_time": "2025-07-11T16:26:40.668208",
     "exception": false,
     "start_time": "2025-07-11T16:26:40.650804",
     "status": "completed"
    },
    "tags": []
   },
   "outputs": [
    {
     "data": {
      "text/plain": [
       "array([ 0,  1,  2,  3,  4,  5,  6,  7,  8,  9, 10, 11, 12, 13, 14, 15, 16,\n",
       "       17, 18, 19, 20, 21, 22, 23])"
      ]
     },
     "execution_count": 11,
     "metadata": {},
     "output_type": "execute_result"
    }
   ],
   "source": [
    "# 3d to 2d\n",
    "\n",
    "three_2d = arr_3d.reshape(6, 4)\n",
    "three_2d\n",
    "\n",
    "three_2d_1 = arr_3d.reshape(4, 6)\n",
    "three_2d_1\n",
    "\n",
    "# 3d to 1d\n",
    "\n",
    "three_1d = arr_3d.reshape(-1)\n",
    "three_1d\n",
    "\n",
    "# we can also use .ravel and .flatten"
   ]
  },
  {
   "cell_type": "markdown",
   "id": "fde91968",
   "metadata": {
    "papermill": {
     "duration": 0.008871,
     "end_time": "2025-07-11T16:26:40.686614",
     "exception": false,
     "start_time": "2025-07-11T16:26:40.677743",
     "status": "completed"
    },
    "tags": []
   },
   "source": [
    "### **Adding new Dimensions**"
   ]
  },
  {
   "cell_type": "code",
   "execution_count": 12,
   "id": "064f1bb7",
   "metadata": {
    "execution": {
     "iopub.execute_input": "2025-07-11T16:26:40.706245Z",
     "iopub.status.busy": "2025-07-11T16:26:40.705935Z",
     "iopub.status.idle": "2025-07-11T16:26:40.710835Z",
     "shell.execute_reply": "2025-07-11T16:26:40.709988Z"
    },
    "papermill": {
     "duration": 0.01666,
     "end_time": "2025-07-11T16:26:40.712352",
     "exception": false,
     "start_time": "2025-07-11T16:26:40.695692",
     "status": "completed"
    },
    "tags": []
   },
   "outputs": [],
   "source": [
    "newd_1d = np.arange(24) # 1d array from 0 to 23\n",
    "newd_2d = np.arange(24).reshape(4, 6) # 2d array with 4 rows and 6 comlumns each from 0 to 23\n",
    "newd_3d = np.arange(24).reshape(2, 3, 4) # 3d array with 2 slices, 3 rows each and 4 columns"
   ]
  },
  {
   "cell_type": "code",
   "execution_count": 13,
   "id": "fb290ece",
   "metadata": {
    "execution": {
     "iopub.execute_input": "2025-07-11T16:26:40.732649Z",
     "iopub.status.busy": "2025-07-11T16:26:40.732231Z",
     "iopub.status.idle": "2025-07-11T16:26:40.738975Z",
     "shell.execute_reply": "2025-07-11T16:26:40.738190Z"
    },
    "papermill": {
     "duration": 0.018255,
     "end_time": "2025-07-11T16:26:40.740403",
     "exception": false,
     "start_time": "2025-07-11T16:26:40.722148",
     "status": "completed"
    },
    "tags": []
   },
   "outputs": [
    {
     "data": {
      "text/plain": [
       "array([[ 0],\n",
       "       [ 1],\n",
       "       [ 2],\n",
       "       [ 3],\n",
       "       [ 4],\n",
       "       [ 5],\n",
       "       [ 6],\n",
       "       [ 7],\n",
       "       [ 8],\n",
       "       [ 9],\n",
       "       [10],\n",
       "       [11],\n",
       "       [12],\n",
       "       [13],\n",
       "       [14],\n",
       "       [15],\n",
       "       [16],\n",
       "       [17],\n",
       "       [18],\n",
       "       [19],\n",
       "       [20],\n",
       "       [21],\n",
       "       [22],\n",
       "       [23]])"
      ]
     },
     "execution_count": 13,
     "metadata": {},
     "output_type": "execute_result"
    }
   ],
   "source": [
    "# adding new dimension in 1d array, which will make it 2d\n",
    "\n",
    "newd_as_row = newd_1d[None, :]\n",
    "newd_as_row\n",
    "\n",
    "newd_as_col = newd_1d[:, np.newaxis]\n",
    "newd_as_col"
   ]
  },
  {
   "cell_type": "code",
   "execution_count": 14,
   "id": "b0432c47",
   "metadata": {
    "execution": {
     "iopub.execute_input": "2025-07-11T16:26:40.760019Z",
     "iopub.status.busy": "2025-07-11T16:26:40.759751Z",
     "iopub.status.idle": "2025-07-11T16:26:40.766783Z",
     "shell.execute_reply": "2025-07-11T16:26:40.765887Z"
    },
    "papermill": {
     "duration": 0.018608,
     "end_time": "2025-07-11T16:26:40.768239",
     "exception": false,
     "start_time": "2025-07-11T16:26:40.749631",
     "status": "completed"
    },
    "tags": []
   },
   "outputs": [
    {
     "data": {
      "text/plain": [
       "array([[[ 0],\n",
       "        [ 1],\n",
       "        [ 2],\n",
       "        [ 3],\n",
       "        [ 4],\n",
       "        [ 5]],\n",
       "\n",
       "       [[ 6],\n",
       "        [ 7],\n",
       "        [ 8],\n",
       "        [ 9],\n",
       "        [10],\n",
       "        [11]],\n",
       "\n",
       "       [[12],\n",
       "        [13],\n",
       "        [14],\n",
       "        [15],\n",
       "        [16],\n",
       "        [17]],\n",
       "\n",
       "       [[18],\n",
       "        [19],\n",
       "        [20],\n",
       "        [21],\n",
       "        [22],\n",
       "        [23]]])"
      ]
     },
     "execution_count": 14,
     "metadata": {},
     "output_type": "execute_result"
    }
   ],
   "source": [
    "# adding new dimension in 2d array, which will make it 3d\n",
    "\n",
    "newd_in_2d_as_row = newd_2d[None, :, :]\n",
    "newd_in_2d_as_row\n",
    "\n",
    "newd_in_2d_as_col = newd_2d[:, :, np.newaxis]\n",
    "newd_in_2d_as_col\n",
    "\n",
    "# same for 3d "
   ]
  },
  {
   "cell_type": "markdown",
   "id": "0420c17a",
   "metadata": {
    "papermill": {
     "duration": 0.009736,
     "end_time": "2025-07-11T16:26:40.787250",
     "exception": false,
     "start_time": "2025-07-11T16:26:40.777514",
     "status": "completed"
    },
    "tags": []
   },
   "source": [
    "### **Transposing**"
   ]
  },
  {
   "cell_type": "code",
   "execution_count": 15,
   "id": "b1c4204a",
   "metadata": {
    "execution": {
     "iopub.execute_input": "2025-07-11T16:26:40.808028Z",
     "iopub.status.busy": "2025-07-11T16:26:40.807758Z",
     "iopub.status.idle": "2025-07-11T16:26:40.814664Z",
     "shell.execute_reply": "2025-07-11T16:26:40.813744Z"
    },
    "papermill": {
     "duration": 0.019305,
     "end_time": "2025-07-11T16:26:40.816208",
     "exception": false,
     "start_time": "2025-07-11T16:26:40.796903",
     "status": "completed"
    },
    "tags": []
   },
   "outputs": [
    {
     "data": {
      "text/plain": [
       "array([[[ 0, 12],\n",
       "        [ 3, 15],\n",
       "        [ 6, 18],\n",
       "        [ 9, 21]],\n",
       "\n",
       "       [[ 1, 13],\n",
       "        [ 4, 16],\n",
       "        [ 7, 19],\n",
       "        [10, 22]],\n",
       "\n",
       "       [[ 2, 14],\n",
       "        [ 5, 17],\n",
       "        [ 8, 20],\n",
       "        [11, 23]]])"
      ]
     },
     "execution_count": 15,
     "metadata": {},
     "output_type": "execute_result"
    }
   ],
   "source": [
    "# .T, which transposes the order of axes, rows element to column and vice versa (applies to arr > 1)\n",
    "t_2d = np.arange(24).reshape(4, 6)\n",
    "t_2d.shape\n",
    "t_2d.T.shape # -> from (4,6) to (6,4)\n",
    "\n",
    "t_3d = np.arange(24).reshape(2, 4, 3)\n",
    "t_3d.T # from (2, 4, 3) to (3, 4, 2)"
   ]
  },
  {
   "cell_type": "code",
   "execution_count": 16,
   "id": "a52dffc2",
   "metadata": {
    "execution": {
     "iopub.execute_input": "2025-07-11T16:26:40.836860Z",
     "iopub.status.busy": "2025-07-11T16:26:40.836591Z",
     "iopub.status.idle": "2025-07-11T16:26:40.843847Z",
     "shell.execute_reply": "2025-07-11T16:26:40.842986Z"
    },
    "papermill": {
     "duration": 0.019724,
     "end_time": "2025-07-11T16:26:40.845424",
     "exception": false,
     "start_time": "2025-07-11T16:26:40.825700",
     "status": "completed"
    },
    "tags": []
   },
   "outputs": [
    {
     "name": "stdout",
     "output_type": "stream",
     "text": [
      "[[[ 0  1  2]\n",
      "  [ 3  4  5]\n",
      "  [ 6  7  8]\n",
      "  [ 9 10 11]]\n",
      "\n",
      " [[12 13 14]\n",
      "  [15 16 17]\n",
      "  [18 19 20]\n",
      "  [21 22 23]]]\n"
     ]
    },
    {
     "data": {
      "text/plain": [
       "array([[[ 0,  3,  6,  9],\n",
       "        [ 1,  4,  7, 10],\n",
       "        [ 2,  5,  8, 11]],\n",
       "\n",
       "       [[12, 15, 18, 21],\n",
       "        [13, 16, 19, 22],\n",
       "        [14, 17, 20, 23]]])"
      ]
     },
     "execution_count": 16,
     "metadata": {},
     "output_type": "execute_result"
    }
   ],
   "source": [
    "# .transpose, flexible than .T\n",
    "\n",
    "transpose_3d = np.arange(24).reshape(2, 4, 3)\n",
    "print(transpose_3d)\n",
    "\n",
    "new = np.transpose(transpose_3d, axes=(0, 2, 1)) # keep the slices of same number, exchange the number of rows and columns with each other\n",
    "new"
   ]
  },
  {
   "cell_type": "markdown",
   "id": "516bf22d",
   "metadata": {
    "papermill": {
     "duration": 0.009893,
     "end_time": "2025-07-11T16:26:40.864722",
     "exception": false,
     "start_time": "2025-07-11T16:26:40.854829",
     "status": "completed"
    },
    "tags": []
   },
   "source": [
    "## **3. Array Combination and Alteration**"
   ]
  },
  {
   "cell_type": "markdown",
   "id": "6f46e873",
   "metadata": {
    "papermill": {
     "duration": 0.009011,
     "end_time": "2025-07-11T16:26:40.883687",
     "exception": false,
     "start_time": "2025-07-11T16:26:40.874676",
     "status": "completed"
    },
    "tags": []
   },
   "source": [
    "Focuses on operations that change the size or number of elements in your arrays by combining multiple arrays, or by adding/removing elements. Topics included are:\n",
    "\n",
    "- Concatenation\n",
    "- Vertical Stacking\n",
    "- Horizontal Stacking\n",
    "- adding elements"
   ]
  },
  {
   "cell_type": "markdown",
   "id": "b42ab291",
   "metadata": {
    "papermill": {
     "duration": 0.009606,
     "end_time": "2025-07-11T16:26:40.902552",
     "exception": false,
     "start_time": "2025-07-11T16:26:40.892946",
     "status": "completed"
    },
    "tags": []
   },
   "source": [
    "### **Concatenation**"
   ]
  },
  {
   "cell_type": "markdown",
   "id": "3802d0a5",
   "metadata": {
    "papermill": {
     "duration": 0.009173,
     "end_time": "2025-07-11T16:26:40.921995",
     "exception": false,
     "start_time": "2025-07-11T16:26:40.912822",
     "status": "completed"
    },
    "tags": []
   },
   "source": [
    "Basically, to add multiple arrays in one single array we use np.concatenate(). But where to add the array if it's multi-dimensional? As row, as column, as slice? That's why we use axes(0, 1, 2, ..., n). But, axes are always not similar in all nd-arrays. For example, for 2d array row is axis-0 where was for 3d arrays it's axis-1.\n",
    "\n",
    "Simply put, axis-0 is always the first dimension for that array. Remember? When we used to slice?\n",
    "For 3-d array we used to say, [x-slice] [y-row] [z-column], we are saying [axis-0] [axis-1] [axis-2]"
   ]
  },
  {
   "cell_type": "code",
   "execution_count": 17,
   "id": "93ea86f3",
   "metadata": {
    "execution": {
     "iopub.execute_input": "2025-07-11T16:26:40.943276Z",
     "iopub.status.busy": "2025-07-11T16:26:40.942935Z",
     "iopub.status.idle": "2025-07-11T16:26:40.949464Z",
     "shell.execute_reply": "2025-07-11T16:26:40.948590Z"
    },
    "papermill": {
     "duration": 0.019007,
     "end_time": "2025-07-11T16:26:40.950999",
     "exception": false,
     "start_time": "2025-07-11T16:26:40.931992",
     "status": "completed"
    },
    "tags": []
   },
   "outputs": [
    {
     "name": "stdout",
     "output_type": "stream",
     "text": [
      "[0 1 2 3 4 5]\n",
      "[[ 0  1  2]\n",
      " [ 3  4  5]\n",
      " [ 6  7  8]\n",
      " [ 9 10 11]]\n",
      "[[[ 0  1  2  3]\n",
      "  [ 4  5  6  7]]\n",
      "\n",
      " [[ 8  9 10 11]\n",
      "  [12 13 14 15]]\n",
      "\n",
      " [[16 17 18 19]\n",
      "  [20 21 22 23]]]\n"
     ]
    }
   ],
   "source": [
    "x = np.arange(0, 6)\n",
    "y = np.arange(0, 12).reshape(4, 3)\n",
    "z = np.arange(0, 24).reshape(3, 2, 4)\n",
    "\n",
    "print(x)\n",
    "print(y)\n",
    "print(z)\n",
    "\n",
    "a = np.array([1, 2, 3, 4, 5])\n",
    "b = np.array([[9, 9, 9, 9]])\n",
    "c = np.array([100, 100, 100])\n",
    "d = np.array([\n",
    "    [69],\n",
    "    [69],\n",
    "    [69],\n",
    "    [69],\n",
    "])\n"
   ]
  },
  {
   "cell_type": "code",
   "execution_count": 18,
   "id": "1910f001",
   "metadata": {
    "execution": {
     "iopub.execute_input": "2025-07-11T16:26:40.972156Z",
     "iopub.status.busy": "2025-07-11T16:26:40.971788Z",
     "iopub.status.idle": "2025-07-11T16:26:40.977839Z",
     "shell.execute_reply": "2025-07-11T16:26:40.977070Z"
    },
    "papermill": {
     "duration": 0.018436,
     "end_time": "2025-07-11T16:26:40.979440",
     "exception": false,
     "start_time": "2025-07-11T16:26:40.961004",
     "status": "completed"
    },
    "tags": []
   },
   "outputs": [
    {
     "data": {
      "text/plain": [
       "array([0, 1, 2, 3, 4, 5, 1, 2, 3, 4, 5])"
      ]
     },
     "execution_count": 18,
     "metadata": {},
     "output_type": "execute_result"
    }
   ],
   "source": [
    "x_concat = np.concatenate((x, a))\n",
    "x_concat\n",
    "\n",
    "# y_axis0 = np.concatenate((y, c), axis = 0) # it shows error. because we used 1d array to concatenate with 2d array. hmm interesting i am making such mistakes\n",
    "# y_axis0"
   ]
  },
  {
   "cell_type": "code",
   "execution_count": 19,
   "id": "f3398b91",
   "metadata": {
    "execution": {
     "iopub.execute_input": "2025-07-11T16:26:40.999789Z",
     "iopub.status.busy": "2025-07-11T16:26:40.999524Z",
     "iopub.status.idle": "2025-07-11T16:26:41.005860Z",
     "shell.execute_reply": "2025-07-11T16:26:41.005053Z"
    },
    "papermill": {
     "duration": 0.018193,
     "end_time": "2025-07-11T16:26:41.007327",
     "exception": false,
     "start_time": "2025-07-11T16:26:40.989134",
     "status": "completed"
    },
    "tags": []
   },
   "outputs": [
    {
     "data": {
      "text/plain": [
       "array([[  0,   1,   2],\n",
       "       [  3,   4,   5],\n",
       "       [  6,   7,   8],\n",
       "       [  9,  10,  11],\n",
       "       [100, 100, 100]])"
      ]
     },
     "execution_count": 19,
     "metadata": {},
     "output_type": "execute_result"
    }
   ],
   "source": [
    "c = np.array([[100, 100, 100]])\n",
    "\n",
    "y_axis0 = np.concatenate((y, c), axis=0) # add a row \n",
    "y_axis0"
   ]
  },
  {
   "cell_type": "code",
   "execution_count": 20,
   "id": "41b0f461",
   "metadata": {
    "execution": {
     "iopub.execute_input": "2025-07-11T16:26:41.029393Z",
     "iopub.status.busy": "2025-07-11T16:26:41.029071Z",
     "iopub.status.idle": "2025-07-11T16:26:41.035485Z",
     "shell.execute_reply": "2025-07-11T16:26:41.034381Z"
    },
    "papermill": {
     "duration": 0.019289,
     "end_time": "2025-07-11T16:26:41.037050",
     "exception": false,
     "start_time": "2025-07-11T16:26:41.017761",
     "status": "completed"
    },
    "tags": []
   },
   "outputs": [
    {
     "data": {
      "text/plain": [
       "array([[ 0,  1,  2, 69],\n",
       "       [ 3,  4,  5, 69],\n",
       "       [ 6,  7,  8, 69],\n",
       "       [ 9, 10, 11, 69]])"
      ]
     },
     "execution_count": 20,
     "metadata": {},
     "output_type": "execute_result"
    }
   ],
   "source": [
    "y_axis1 = np.concatenate((y, d), axis=1) # add a column\n",
    "y_axis1"
   ]
  },
  {
   "cell_type": "markdown",
   "id": "c702a792",
   "metadata": {
    "papermill": {
     "duration": 0.009356,
     "end_time": "2025-07-11T16:26:41.057742",
     "exception": false,
     "start_time": "2025-07-11T16:26:41.048386",
     "status": "completed"
    },
    "tags": []
   },
   "source": [
    "### **Vertical Stacking (.vstack)**"
   ]
  },
  {
   "cell_type": "markdown",
   "id": "f71b30f4",
   "metadata": {
    "papermill": {
     "duration": 0.009491,
     "end_time": "2025-07-11T16:26:41.076647",
     "exception": false,
     "start_time": "2025-07-11T16:26:41.067156",
     "status": "completed"
    },
    "tags": []
   },
   "source": [
    "It's just the specialized and concise version of np.concatenate((arr, arr2), axis=0) for 2d arrays"
   ]
  },
  {
   "cell_type": "code",
   "execution_count": 21,
   "id": "afc523c2",
   "metadata": {
    "execution": {
     "iopub.execute_input": "2025-07-11T16:26:41.097188Z",
     "iopub.status.busy": "2025-07-11T16:26:41.096834Z",
     "iopub.status.idle": "2025-07-11T16:26:41.101242Z",
     "shell.execute_reply": "2025-07-11T16:26:41.100483Z"
    },
    "papermill": {
     "duration": 0.016535,
     "end_time": "2025-07-11T16:26:41.102634",
     "exception": false,
     "start_time": "2025-07-11T16:26:41.086099",
     "status": "completed"
    },
    "tags": []
   },
   "outputs": [],
   "source": [
    "varr = np.arange(0, 12).reshape(3, 4)\n",
    "addin = np.arange(4, 8).reshape(1, 4)"
   ]
  },
  {
   "cell_type": "code",
   "execution_count": 22,
   "id": "c5f9ddca",
   "metadata": {
    "execution": {
     "iopub.execute_input": "2025-07-11T16:26:41.123425Z",
     "iopub.status.busy": "2025-07-11T16:26:41.123102Z",
     "iopub.status.idle": "2025-07-11T16:26:41.128979Z",
     "shell.execute_reply": "2025-07-11T16:26:41.128200Z"
    },
    "papermill": {
     "duration": 0.018188,
     "end_time": "2025-07-11T16:26:41.130401",
     "exception": false,
     "start_time": "2025-07-11T16:26:41.112213",
     "status": "completed"
    },
    "tags": []
   },
   "outputs": [
    {
     "data": {
      "text/plain": [
       "array([[ 0,  1,  2,  3],\n",
       "       [ 4,  5,  6,  7],\n",
       "       [ 8,  9, 10, 11],\n",
       "       [ 4,  5,  6,  7]])"
      ]
     },
     "execution_count": 22,
     "metadata": {},
     "output_type": "execute_result"
    }
   ],
   "source": [
    "vstacked = np.vstack((varr, addin)) # adds rows\n",
    "vstacked"
   ]
  },
  {
   "cell_type": "markdown",
   "id": "07c77b9b",
   "metadata": {
    "papermill": {
     "duration": 0.009318,
     "end_time": "2025-07-11T16:26:41.149804",
     "exception": false,
     "start_time": "2025-07-11T16:26:41.140486",
     "status": "completed"
    },
    "tags": []
   },
   "source": [
    "### **Horizantal Stacking (.hstack)**"
   ]
  },
  {
   "cell_type": "code",
   "execution_count": 23,
   "id": "dd81e4ef",
   "metadata": {
    "execution": {
     "iopub.execute_input": "2025-07-11T16:26:41.170342Z",
     "iopub.status.busy": "2025-07-11T16:26:41.170012Z",
     "iopub.status.idle": "2025-07-11T16:26:41.174360Z",
     "shell.execute_reply": "2025-07-11T16:26:41.173525Z"
    },
    "papermill": {
     "duration": 0.01639,
     "end_time": "2025-07-11T16:26:41.175819",
     "exception": false,
     "start_time": "2025-07-11T16:26:41.159429",
     "status": "completed"
    },
    "tags": []
   },
   "outputs": [],
   "source": [
    "harr = np.arange(0, 12).reshape(3, 4)\n",
    "addin = np.arange(4, 7).reshape(3, 1)"
   ]
  },
  {
   "cell_type": "code",
   "execution_count": 24,
   "id": "60cdb53d",
   "metadata": {
    "execution": {
     "iopub.execute_input": "2025-07-11T16:26:41.196340Z",
     "iopub.status.busy": "2025-07-11T16:26:41.195986Z",
     "iopub.status.idle": "2025-07-11T16:26:41.201806Z",
     "shell.execute_reply": "2025-07-11T16:26:41.201002Z"
    },
    "papermill": {
     "duration": 0.01782,
     "end_time": "2025-07-11T16:26:41.203281",
     "exception": false,
     "start_time": "2025-07-11T16:26:41.185461",
     "status": "completed"
    },
    "tags": []
   },
   "outputs": [
    {
     "data": {
      "text/plain": [
       "array([[ 0,  1,  2,  3,  4],\n",
       "       [ 4,  5,  6,  7,  5],\n",
       "       [ 8,  9, 10, 11,  6]])"
      ]
     },
     "execution_count": 24,
     "metadata": {},
     "output_type": "execute_result"
    }
   ],
   "source": [
    "hstacked = np.hstack((harr, addin)) # adds columns but number of rows has to be same \n",
    "hstacked"
   ]
  },
  {
   "cell_type": "markdown",
   "id": "15ab450f",
   "metadata": {
    "papermill": {
     "duration": 0.009636,
     "end_time": "2025-07-11T16:26:41.222801",
     "exception": false,
     "start_time": "2025-07-11T16:26:41.213165",
     "status": "completed"
    },
    "tags": []
   },
   "source": [
    "## **4. Element-wise Operations and Broadcasting**"
   ]
  },
  {
   "cell_type": "markdown",
   "id": "16e9eee7",
   "metadata": {
    "papermill": {
     "duration": 0.009591,
     "end_time": "2025-07-11T16:26:41.242249",
     "exception": false,
     "start_time": "2025-07-11T16:26:41.232658",
     "status": "completed"
    },
    "tags": []
   },
   "source": [
    "We will focus on some arithmetic operations that exists on numpy. And then we will get to broadcasting. \n",
    "\n",
    "- Basic Arithmetic (+, -, *, /, **)\n",
    "- Universal Functions (ufuncs like np.sqrt, np.log, np.exp, np.sin, etc.)\n",
    "- Understanding Broadcasting Rules"
   ]
  },
  {
   "cell_type": "markdown",
   "id": "7c9b6662",
   "metadata": {
    "papermill": {
     "duration": 0.009547,
     "end_time": "2025-07-11T16:26:41.262037",
     "exception": false,
     "start_time": "2025-07-11T16:26:41.252490",
     "status": "completed"
    },
    "tags": []
   },
   "source": [
    "### **Arithmetic Operations**"
   ]
  },
  {
   "cell_type": "code",
   "execution_count": 25,
   "id": "7585220f",
   "metadata": {
    "execution": {
     "iopub.execute_input": "2025-07-11T16:26:41.283392Z",
     "iopub.status.busy": "2025-07-11T16:26:41.283055Z",
     "iopub.status.idle": "2025-07-11T16:26:41.290406Z",
     "shell.execute_reply": "2025-07-11T16:26:41.289192Z"
    },
    "papermill": {
     "duration": 0.019825,
     "end_time": "2025-07-11T16:26:41.292170",
     "exception": false,
     "start_time": "2025-07-11T16:26:41.272345",
     "status": "completed"
    },
    "tags": []
   },
   "outputs": [
    {
     "name": "stdout",
     "output_type": "stream",
     "text": [
      "[1 2 3 4] \n",
      " \n",
      "[5 6 7 8] \n",
      "\n",
      "[[100 105 110 115 120]\n",
      " [125 130 135 140 145]\n",
      " [150 155 160 165 170]\n",
      " [175 180 185 190 195]] \n",
      " \n",
      "[[ 1  6 11 16 21]\n",
      " [26 31 36 41 46]\n",
      " [51 56 61 66 71]\n",
      " [76 81 86 91 96]]\n"
     ]
    }
   ],
   "source": [
    "arith1 = np.array([1, 2, 3, 4])\n",
    "arith2 = np.array([5, 6, 7, 8])\n",
    "print(f\"{arith1} \\n \\n{arith2} \\n\")\n",
    "\n",
    "ar2d1 = np.arange(100, 200, 5).reshape(4, 5)\n",
    "ar2d2 = np.arange(1, 100, 5).reshape(4, 5)\n",
    "print(f\"{ar2d1} \\n \\n{ar2d2}\")"
   ]
  },
  {
   "cell_type": "code",
   "execution_count": 26,
   "id": "24c5fd07",
   "metadata": {
    "execution": {
     "iopub.execute_input": "2025-07-11T16:26:41.314973Z",
     "iopub.status.busy": "2025-07-11T16:26:41.314536Z",
     "iopub.status.idle": "2025-07-11T16:26:41.326566Z",
     "shell.execute_reply": "2025-07-11T16:26:41.325605Z"
    },
    "papermill": {
     "duration": 0.024741,
     "end_time": "2025-07-11T16:26:41.328018",
     "exception": false,
     "start_time": "2025-07-11T16:26:41.303277",
     "status": "completed"
    },
    "tags": []
   },
   "outputs": [
    {
     "name": "stdout",
     "output_type": "stream",
     "text": [
      "[ 6  8 10 12]\n",
      "\n",
      "\n",
      "[[101 111 121 131 141]\n",
      " [151 161 171 181 191]\n",
      " [201 211 221 231 241]\n",
      " [251 261 271 281 291]]\n",
      "\n",
      "\n",
      "[-4 -4 -4 -4]\n",
      "\n",
      "\n",
      "[[99 99 99 99 99]\n",
      " [99 99 99 99 99]\n",
      " [99 99 99 99 99]\n",
      " [99 99 99 99 99]]\n",
      "\n",
      "\n",
      "[ 5 12 21 32]\n",
      "\n",
      "\n",
      "[[  100   630  1210  1840  2520]\n",
      " [ 3250  4030  4860  5740  6670]\n",
      " [ 7650  8680  9760 10890 12070]\n",
      " [13300 14580 15910 17290 18720]]\n",
      "\n",
      "\n",
      "[0.2        0.33333333 0.42857143 0.5       ]\n",
      "\n",
      "\n",
      "[[100.          17.5         10.           7.1875       5.71428571]\n",
      " [  4.80769231   4.19354839   3.75         3.41463415   3.15217391]\n",
      " [  2.94117647   2.76785714   2.62295082   2.5          2.3943662 ]\n",
      " [  2.30263158   2.22222222   2.15116279   2.08791209   2.03125   ]]\n",
      "\n",
      "\n",
      "[ 1  8 27 64]\n",
      "\n",
      "\n",
      "[[     1    216   1331   4096   9261]\n",
      " [ 17576  29791  46656  68921  97336]\n",
      " [132651 175616 226981 287496 357911]\n",
      " [438976 531441 636056 753571 884736]]\n",
      "\n",
      "\n"
     ]
    }
   ],
   "source": [
    "# adding\n",
    "\n",
    "add1 = np.add(arith1, arith2) # or we can use arr1 + arr2\n",
    "print(add1)\n",
    "print(\"\\n\")\n",
    "\n",
    "add2 = np.add(ar2d1, ar2d2)\n",
    "print(add2)\n",
    "print(\"\\n\")\n",
    "\n",
    "# subtract\n",
    "\n",
    "sub1 = np.subtract(arith1, arith2)\n",
    "print(sub1)\n",
    "print(\"\\n\")\n",
    "\n",
    "sub2 = np.subtract(ar2d1, ar2d2)\n",
    "print(sub2)\n",
    "print(\"\\n\")\n",
    "\n",
    "# multiply\n",
    "\n",
    "mul1 = np.multiply(arith1, arith2)\n",
    "print(mul1)\n",
    "print(\"\\n\")\n",
    "\n",
    "mul2 = np.multiply(ar2d1, ar2d2)\n",
    "print(mul2)\n",
    "print(\"\\n\")\n",
    "\n",
    "# division\n",
    "\n",
    "div1 = np.divide(arith1, arith2)\n",
    "print(div1)\n",
    "print(\"\\n\")\n",
    "\n",
    "div2 = np.divide(ar2d1, ar2d2)\n",
    "print(div2)\n",
    "print(\"\\n\")\n",
    "\n",
    "# power\n",
    "\n",
    "pow1 = arith1 ** 3\n",
    "print(pow1)\n",
    "print(\"\\n\")\n",
    "\n",
    "pow2 = ar2d2 ** 3\n",
    "print(pow2)\n",
    "print(\"\\n\")"
   ]
  },
  {
   "cell_type": "markdown",
   "id": "6bc00392",
   "metadata": {
    "papermill": {
     "duration": 0.010371,
     "end_time": "2025-07-11T16:26:41.348335",
     "exception": false,
     "start_time": "2025-07-11T16:26:41.337964",
     "status": "completed"
    },
    "tags": []
   },
   "source": [
    "### **Universal Operations**"
   ]
  },
  {
   "cell_type": "code",
   "execution_count": 27,
   "id": "c8a5b4d6",
   "metadata": {
    "execution": {
     "iopub.execute_input": "2025-07-11T16:26:41.370071Z",
     "iopub.status.busy": "2025-07-11T16:26:41.369793Z",
     "iopub.status.idle": "2025-07-11T16:26:41.376218Z",
     "shell.execute_reply": "2025-07-11T16:26:41.375210Z"
    },
    "papermill": {
     "duration": 0.019617,
     "end_time": "2025-07-11T16:26:41.377852",
     "exception": false,
     "start_time": "2025-07-11T16:26:41.358235",
     "status": "completed"
    },
    "tags": []
   },
   "outputs": [
    {
     "name": "stdout",
     "output_type": "stream",
     "text": [
      "[1 2 3 4] \n",
      " \n",
      "[5 6 7 8] \n",
      "\n",
      "[[100 105 110 115 120]\n",
      " [125 130 135 140 145]\n",
      " [150 155 160 165 170]\n",
      " [175 180 185 190 195]] \n",
      " \n",
      "[[ 1  6 11 16 21]\n",
      " [26 31 36 41 46]\n",
      " [51 56 61 66 71]\n",
      " [76 81 86 91 96]]\n"
     ]
    }
   ],
   "source": [
    "uni1 = np.array([1, 2, 3, 4])\n",
    "uni2 = np.array([5, 6, 7, 8])\n",
    "print(f\"{uni1} \\n \\n{uni2} \\n\")\n",
    "\n",
    "uni2da = np.arange(100, 200, 5).reshape(4, 5)\n",
    "uni2db = np.arange(1, 100, 5).reshape(4, 5)\n",
    "print(f\"{uni2da} \\n \\n{uni2db}\")"
   ]
  },
  {
   "cell_type": "code",
   "execution_count": 28,
   "id": "c0463f51",
   "metadata": {
    "execution": {
     "iopub.execute_input": "2025-07-11T16:26:41.399388Z",
     "iopub.status.busy": "2025-07-11T16:26:41.399035Z",
     "iopub.status.idle": "2025-07-11T16:26:41.450902Z",
     "shell.execute_reply": "2025-07-11T16:26:41.450025Z"
    },
    "papermill": {
     "duration": 0.064493,
     "end_time": "2025-07-11T16:26:41.452539",
     "exception": false,
     "start_time": "2025-07-11T16:26:41.388046",
     "status": "completed"
    },
    "tags": []
   },
   "outputs": [
    {
     "name": "stdout",
     "output_type": "stream",
     "text": [
      "[1.         1.41421356 1.73205081 2.        ]\n",
      "\n",
      "\n",
      "[[10.         10.24695077 10.48808848 10.72380529 10.95445115]\n",
      " [11.18033989 11.40175425 11.61895004 11.83215957 12.04159458]\n",
      " [12.24744871 12.4498996  12.64911064 12.84523258 13.03840481]\n",
      " [13.22875656 13.41640786 13.60147051 13.78404875 13.96424004]]\n",
      "\n",
      "\n",
      "[ 2.71828183  7.3890561  20.08553692 54.59815003]\n",
      "\n",
      "\n",
      "[[2.71828183e+00 4.03428793e+02 5.98741417e+04 8.88611052e+06\n",
      "  1.31881573e+09]\n",
      " [1.95729609e+11 2.90488497e+13 4.31123155e+15 6.39843494e+17\n",
      "  9.49611942e+19]\n",
      " [1.40934908e+22 2.09165950e+24 3.10429794e+26 4.60718663e+28\n",
      "  6.83767123e+30]\n",
      " [1.01480039e+33 1.50609731e+35 2.23524660e+37 3.31740010e+39\n",
      "  4.92345829e+41]]\n",
      "\n",
      "\n",
      "[0.         0.69314718 1.09861229 1.38629436]\n",
      "\n",
      "\n",
      "[[4.60517019 4.65396035 4.70048037 4.74493213 4.78749174]\n",
      " [4.82831374 4.86753445 4.90527478 4.94164242 4.97673374]\n",
      " [5.01063529 5.04342512 5.07517382 5.10594547 5.13579844]\n",
      " [5.16478597 5.19295685 5.22035583 5.24702407 5.27299956]]\n",
      "\n",
      "\n",
      "[ 0.84147098  0.90929743  0.14112001 -0.7568025 ]\n",
      "\n",
      "\n",
      "[ 0.28366219  0.96017029  0.75390225 -0.14550003]\n",
      "\n",
      "\n",
      "[[ -0.58721392   4.02780176   0.04428604  -2.90180135   0.71312301]\n",
      " [ -0.78206057   2.53233843  -0.08871576  -4.95537106   0.52920528]\n",
      " [ -1.02234624   1.79265449  -0.22490638 -15.04135305   0.36956439]\n",
      " [ -1.33860605   1.33869021  -0.36953013  15.04820623   0.22493805]]\n",
      "\n",
      "\n",
      "[1 2 8 9 0]\n",
      "\n",
      "\n",
      "[[16.85558331 12.01527675 19.30614637]\n",
      " [14.69336166 13.85154422 14.99277972]]\n",
      "[[17. 13. 20.]\n",
      " [15. 14. 15.]]\n",
      "\n",
      "\n",
      "3.0\n",
      "\n",
      "\n",
      "4.0\n",
      "\n",
      "\n",
      "[[17 17 14]\n",
      " [14 13 13]] \n",
      "[[24 23 29]\n",
      " [29 29 22]]\n",
      "\n",
      "[[24 23 29]\n",
      " [29 29 22]]\n",
      "\n",
      "[[17 17 14]\n",
      " [14 13 13]]\n",
      "\n"
     ]
    }
   ],
   "source": [
    "# square root\n",
    "\n",
    "sq1 = (np.sqrt(uni1))\n",
    "print(sq1)\n",
    "print(\"\\n\")\n",
    "\n",
    "sq2 = np.sqrt(uni2da)\n",
    "print(sq2)\n",
    "print(\"\\n\")\n",
    "\n",
    "# exponential\n",
    "\n",
    "exp1 = (np.exp(uni1)) # this exponential is not equal to power, but is Euler number (e) founded by Jacob Bernoulii, so it's e^x\n",
    "print(exp1)\n",
    "print(\"\\n\")\n",
    "\n",
    "exp2 = np.exp(uni2db)\n",
    "print(exp2)\n",
    "print(\"\\n\")\n",
    "\n",
    "#logarithm - log(x)\n",
    "\n",
    "log1 = (np.log(uni1))\n",
    "print(log1)\n",
    "print(\"\\n\")\n",
    "\n",
    "log2 = np.log(uni2da)\n",
    "print(log2)\n",
    "print(\"\\n\")\n",
    "\n",
    "# trignometric (sin, cos, tan)\n",
    "\n",
    "sin1 = (np.sin(uni1))\n",
    "print(sin1)\n",
    "print(\"\\n\")\n",
    "\n",
    "cos1 = np.cos(uni2)\n",
    "print(cos1)\n",
    "print(\"\\n\")\n",
    "\n",
    "tan1 = np.tan(uni2da)\n",
    "print(tan1)\n",
    "print(\"\\n\")\n",
    "\n",
    "# absolute (abs) Removes the negative sign from negative numbers. For complex numbers, it returns the magnitude.\n",
    "\n",
    "abs1 = np.array([-1, -2, 8, -9, 0])\n",
    "res_abs1 = np.abs(abs1)\n",
    "print(res_abs1)\n",
    "print(\"\\n\")\n",
    "\n",
    "# ceiling (.ceil) roundoffs to the nearest smallest integer greater or euqal to it, if 3.123, it will round off to 14\n",
    "\n",
    "ceil1 = np.random.uniform(10, 20, size=(2, 3)) # generates the random float numbers from 10 to 20 with 2d array\n",
    "print(ceil1)\n",
    "result = np.ceil(ceil1)\n",
    "print(result)\n",
    "print(\"\\n\")\n",
    "\n",
    "# flooring (.floor) just opposite to ceil, it will roundoff to nearest integer smaller to it. if 2.9, it will be 2\n",
    "\n",
    "floor1 = np.floor(3.1415)\n",
    "print(floor1)\n",
    "print(\"\\n\")\n",
    "\n",
    "# rounding (.round) \n",
    "\n",
    "round1 = np.round(3.657, decimals=0) # rounds off to the nearest possible integer\n",
    "print(round1)\n",
    "print(\"\\n\")\n",
    "\n",
    "# maximum and minimum, it does the element-wise ops in two arrays and find the maximum/minimum between two indexes of each array (takes two arguments and the array dimensions should be the same)\n",
    "\n",
    "max1 = np.random.randint(10, 20, size=(2,3))\n",
    "max2 = np.random.randint(20, 30, size=(2,3))\n",
    "print(f\"{max1} \\n{max2}\\n\")\n",
    "\n",
    "res1 = np.maximum(max1, max2)\n",
    "print(f\"{res1}\\n\")\n",
    "\n",
    "res2 = np.minimum(max1, max2)\n",
    "print(f\"{res2}\\n\")"
   ]
  },
  {
   "cell_type": "markdown",
   "id": "c8c554f5",
   "metadata": {
    "papermill": {
     "duration": 0.009681,
     "end_time": "2025-07-11T16:26:41.472345",
     "exception": false,
     "start_time": "2025-07-11T16:26:41.462664",
     "status": "completed"
    },
    "tags": []
   },
   "source": [
    "### **Broadcasting**"
   ]
  },
  {
   "cell_type": "markdown",
   "id": "6de8eb09",
   "metadata": {
    "papermill": {
     "duration": 0.010122,
     "end_time": "2025-07-11T16:26:41.493465",
     "exception": false,
     "start_time": "2025-07-11T16:26:41.483343",
     "status": "completed"
    },
    "tags": []
   },
   "source": [
    "The numpy way to deal with the arithmetic operations of different shapes and dimensions.\n",
    "\n",
    "The Broadcasting Rules:\n",
    "\n",
    "To determine if two arrays (Array A and Array B) are compatible for broadcasting, NumPy compares their shapes dimension by dimension, starting from the trailing (rightmost) dimension and moving left.\n",
    "\n",
    "Two dimensions are compatible if:\n",
    "\n",
    "    They are equal, OR\n",
    "\n",
    "    One of the dimensions is 1.\n",
    "\n",
    "If these rules are met, the arrays can be broadcast. If not, a ValueError (specifically, \"operands could not be broadcast together\") is raised.\n",
    "\n",
    "The resulting array's shape will be the maximum size along each dimension of the input arrays.\n",
    "\n",
    "Examples of Broadcasting Rules in Action\n",
    "\n",
    "Example 1: Compatible Shapes (Equal Dimensions)\n",
    "\n",
    "    A: (4, 3)\n",
    "\n",
    "    B: (4, 3)\n",
    "\n",
    "    Trailing dimensions: 3 and 3 (Equal) - Compatible.\n",
    "\n",
    "    Next dimensions: 4 and 4 (Equal) - Compatible.\n",
    "\n",
    "Result: (4, 3)\n",
    "\n",
    "Example 2: Compatible (One dimension is 1)\n",
    "\n",
    "    A: (4, 3)\n",
    "\n",
    "    B: (1, 3)\n",
    "\n",
    "    Trailing dimensions: 3 and 3 (Equal) - Compatible.\n",
    "\n",
    "    Next dimensions: 4 and 1 (One is 1) - Compatible.\n",
    "\n",
    "Result: (4, 3) (The dimension of size 1 is stretched to 4).\n",
    "\n",
    "Example 3: Compatible (Scalar or 1D array with matching trailing dimension)\n",
    "\n",
    "    A: (4, 3)\n",
    "\n",
    "    B: (3,) (NumPy implicitly treats this as (1, 3) when broadcasting against 2D)\n",
    "\n",
    "    Trailing dimensions: 3 and 3 (Equal) - Compatible.\n",
    "\n",
    "    Next dimensions: 4 and 1 (One is 1) - Compatible.\n",
    "\n",
    "Result: (4, 3)\n",
    "\n",
    "Example 4: Incompatible Shapes\n",
    "\n",
    "    A: (4, 3)\n",
    "\n",
    "    B: (4,)\n",
    "\n",
    "    Trailing dimensions: 3 and 4 (Not equal, neither is 1) - Incompatible.\n",
    "\n",
    "Result: ValueError: operands could not be broadcast together with shapes (4,3) (4,)"
   ]
  },
  {
   "cell_type": "code",
   "execution_count": 29,
   "id": "f8547d2f",
   "metadata": {
    "execution": {
     "iopub.execute_input": "2025-07-11T16:26:41.515753Z",
     "iopub.status.busy": "2025-07-11T16:26:41.515458Z",
     "iopub.status.idle": "2025-07-11T16:26:41.521205Z",
     "shell.execute_reply": "2025-07-11T16:26:41.520365Z"
    },
    "papermill": {
     "duration": 0.01916,
     "end_time": "2025-07-11T16:26:41.522681",
     "exception": false,
     "start_time": "2025-07-11T16:26:41.503521",
     "status": "completed"
    },
    "tags": []
   },
   "outputs": [
    {
     "name": "stdout",
     "output_type": "stream",
     "text": [
      "[[17 12 19]\n",
      " [29 12 16]]\n",
      "[24 23 20]\n",
      "(3,)\n"
     ]
    }
   ],
   "source": [
    "bro1 = np.random.randint(10, 30, size=(2, 3))\n",
    "print(bro1)\n",
    "bro2 = np.random.randint(10, 30, size=(3, ))\n",
    "print(bro2)\n",
    "print(bro2.shape)"
   ]
  },
  {
   "cell_type": "code",
   "execution_count": 30,
   "id": "2e6d4d0b",
   "metadata": {
    "execution": {
     "iopub.execute_input": "2025-07-11T16:26:41.545250Z",
     "iopub.status.busy": "2025-07-11T16:26:41.544924Z",
     "iopub.status.idle": "2025-07-11T16:26:41.551129Z",
     "shell.execute_reply": "2025-07-11T16:26:41.550088Z"
    },
    "papermill": {
     "duration": 0.019037,
     "end_time": "2025-07-11T16:26:41.552751",
     "exception": false,
     "start_time": "2025-07-11T16:26:41.533714",
     "status": "completed"
    },
    "tags": []
   },
   "outputs": [
    {
     "name": "stdout",
     "output_type": "stream",
     "text": [
      "[[41 35 39]\n",
      " [53 35 36]]\n",
      "\n",
      "\n",
      "[[17 12]\n",
      " [19 29]\n",
      " [12 16]]\n",
      "(3, 2)\n",
      "\n",
      "\n",
      "[[24]\n",
      " [23]\n",
      " [20]]\n",
      "(3, 1)\n",
      "\n",
      "\n",
      "[[41 36]\n",
      " [42 52]\n",
      " [32 36]]\n"
     ]
    }
   ],
   "source": [
    "# to do the ops between 2d and 1d array, first we will do row to row and then column to column\n",
    "\n",
    "row = bro1 + bro2 # success because 1d array is (3, ) which numpy takes as (1, 3)\n",
    "print(row)\n",
    "print(\"\\n\")\n",
    "\n",
    "# but for bro1 and bro2 to be operated columnwise, we have to reshape our bro1 and add column to bro2\n",
    "\n",
    "bro1reshape = bro1.reshape(3,2)\n",
    "print(bro1reshape)\n",
    "print(bro1reshape.shape)\n",
    "print(\"\\n\")\n",
    "\n",
    "bro2reshape = bro2[:, None]\n",
    "print(bro2reshape)\n",
    "print(bro2reshape.shape)\n",
    "print(\"\\n\")\n",
    "\n",
    "add = bro1reshape + bro2reshape\n",
    "print(add)"
   ]
  },
  {
   "cell_type": "markdown",
   "id": "14dc1031",
   "metadata": {
    "papermill": {
     "duration": 0.010444,
     "end_time": "2025-07-11T16:26:41.573649",
     "exception": false,
     "start_time": "2025-07-11T16:26:41.563205",
     "status": "completed"
    },
    "tags": []
   },
   "source": [
    "## **5. Statistical Methods**"
   ]
  },
  {
   "cell_type": "markdown",
   "id": "088eb7ff",
   "metadata": {
    "papermill": {
     "duration": 0.010033,
     "end_time": "2025-07-11T16:26:41.594717",
     "exception": false,
     "start_time": "2025-07-11T16:26:41.584684",
     "status": "completed"
    },
    "tags": []
   },
   "source": [
    "Now let's dive into statistical method like aggregation functions(mean, median, etc), min/max, standard deviation, etc.\n",
    "\n",
    "* Mean (.mean())\n",
    "* Sum (.sum())\n",
    "* Min/Max (.min(), .max())\n",
    "* Standard Deviation (.std())\n",
    "* Median (np.median())\n",
    "* Using the axis parameter for directional aggregation"
   ]
  },
  {
   "cell_type": "code",
   "execution_count": 31,
   "id": "bc48dc4b",
   "metadata": {
    "execution": {
     "iopub.execute_input": "2025-07-11T16:26:41.617250Z",
     "iopub.status.busy": "2025-07-11T16:26:41.616937Z",
     "iopub.status.idle": "2025-07-11T16:26:41.623396Z",
     "shell.execute_reply": "2025-07-11T16:26:41.622393Z"
    },
    "papermill": {
     "duration": 0.01997,
     "end_time": "2025-07-11T16:26:41.624993",
     "exception": false,
     "start_time": "2025-07-11T16:26:41.605023",
     "status": "completed"
    },
    "tags": []
   },
   "outputs": [
    {
     "name": "stdout",
     "output_type": "stream",
     "text": [
      "[10 11 12 13 14 15 16 17 18 19]\n",
      "\n",
      "\n",
      "[[146 146 149 474 294]\n",
      " [330 449 275 270 263]\n",
      " [ 86 363 285 410 237]\n",
      " [ 33 487 274 300 276]]\n",
      "\n",
      "\n",
      "[[[284  94 218 113  32]\n",
      "  [197 146 619 594 556]\n",
      "  [390 226 685 422 684]\n",
      "  [368 381 230 471 624]]\n",
      "\n",
      " [[408 270 270 214 640]\n",
      "  [639 612 269  97 660]\n",
      "  [ 40  88 327 285 344]\n",
      "  [104 623 295 345 506]]\n",
      "\n",
      " [[620 412 613  55 334]\n",
      "  [144 177 685 431 391]\n",
      "  [ 21 193 528 698 341]\n",
      "  [446 676 345 519  98]]]\n",
      "\n",
      "\n"
     ]
    }
   ],
   "source": [
    "stat1 = np.arange(10, 20)\n",
    "stat2 = np.random.randint(10, 500, size=(4, 5), dtype=\"int\")\n",
    "stat3 = np.random.randint(10, 700, size=(3, 4, 5), dtype=\"int\")\n",
    "\n",
    "print(stat1)\n",
    "print(\"\\n\")\n",
    "print(stat2)\n",
    "print(\"\\n\")\n",
    "print(stat3)\n",
    "print(\"\\n\")"
   ]
  },
  {
   "cell_type": "code",
   "execution_count": 32,
   "id": "949220ea",
   "metadata": {
    "execution": {
     "iopub.execute_input": "2025-07-11T16:26:41.647619Z",
     "iopub.status.busy": "2025-07-11T16:26:41.647287Z",
     "iopub.status.idle": "2025-07-11T16:26:41.662688Z",
     "shell.execute_reply": "2025-07-11T16:26:41.661400Z"
    },
    "papermill": {
     "duration": 0.028336,
     "end_time": "2025-07-11T16:26:41.664286",
     "exception": false,
     "start_time": "2025-07-11T16:26:41.635950",
     "status": "completed"
    },
    "tags": []
   },
   "outputs": [
    {
     "name": "stdout",
     "output_type": "stream",
     "text": [
      "145, 5547, 22097\n",
      "14.5, 277.35, 368.28333333333336\n",
      "14.5, 275.5, 345.0\n",
      "2.8722813232690143, 120.38449858681973, 204.294729224444\n",
      "8.25, 14492.427500000002, 41736.33638888889\n",
      "10, 33, 21\n",
      "19, 487, 698\n",
      "0, 16, 50\n"
     ]
    }
   ],
   "source": [
    "# sum\n",
    "sum1 = np.sum(stat1)\n",
    "sum2 = np.sum(stat2)\n",
    "sum3 = np.sum(stat3)\n",
    "print(f\"{sum1}, {sum2}, {sum3}\")\n",
    "\n",
    "# mean\n",
    "mean1 = np.mean(stat1)\n",
    "mean2 = np.mean(stat2)\n",
    "mean3 = np.mean(stat3)\n",
    "print(f\"{mean1}, {mean2}, {mean3}\")\n",
    "\n",
    "# median\n",
    "med1 = np.median(stat1)\n",
    "med2 = np.median(stat2)\n",
    "med3 = np.median(stat3)\n",
    "print(f\"{med1}, {med2}, {med3}\")\n",
    "\n",
    "# standard deviation\n",
    "std1 = np.std(stat1)\n",
    "std2 = np.std(stat2)\n",
    "std3 = np.std(stat3)\n",
    "print(f\"{std1}, {std2}, {std3}\")\n",
    "\n",
    "# variance of all elements\n",
    "var1 = np.var(stat1)\n",
    "var2 = np.var(stat2)\n",
    "var3 = np.var(stat3)\n",
    "print(f\"{var1}, {var2}, {var3}\")\n",
    "\n",
    "# minimum among all\n",
    "min1 = np.min(stat1)\n",
    "min2 = np.min(stat2)\n",
    "min3 = np.min(stat3)\n",
    "print(f\"{min1}, {min2}, {min3}\")\n",
    "\n",
    "# maximum among all\n",
    "max1 = np.max(stat1)\n",
    "max2 = np.max(stat2)\n",
    "max3 = np.max(stat3)\n",
    "print(f\"{max1}, {max2}, {max3}\")\n",
    "\n",
    "# index of maximum and minimum\n",
    "ind1 = np.argmin(stat1)\n",
    "ind2 = np.argmax(stat2)\n",
    "ind3 = np.argmin(stat3)\n",
    "print(f\"{ind1}, {ind2}, {ind3}\")"
   ]
  }
 ],
 "metadata": {
  "kaggle": {
   "accelerator": "none",
   "dataSources": [],
   "dockerImageVersionId": 31040,
   "isGpuEnabled": false,
   "isInternetEnabled": false,
   "language": "python",
   "sourceType": "notebook"
  },
  "kernelspec": {
   "display_name": "Python 3",
   "language": "python",
   "name": "python3"
  },
  "language_info": {
   "codemirror_mode": {
    "name": "ipython",
    "version": 3
   },
   "file_extension": ".py",
   "mimetype": "text/x-python",
   "name": "python",
   "nbconvert_exporter": "python",
   "pygments_lexer": "ipython3",
   "version": "3.11.11"
  },
  "papermill": {
   "default_parameters": {},
   "duration": 7.939995,
   "end_time": "2025-07-11T16:26:42.094825",
   "environment_variables": {},
   "exception": null,
   "input_path": "__notebook__.ipynb",
   "output_path": "__notebook__.ipynb",
   "parameters": {},
   "start_time": "2025-07-11T16:26:34.154830",
   "version": "2.6.0"
  }
 },
 "nbformat": 4,
 "nbformat_minor": 5
}
