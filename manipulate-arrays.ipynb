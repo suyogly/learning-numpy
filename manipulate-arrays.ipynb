{
 "cells": [
  {
   "cell_type": "markdown",
   "id": "fc4cfdb5",
   "metadata": {
    "papermill": {
     "duration": 0.008418,
     "end_time": "2025-07-11T14:36:12.389969",
     "exception": false,
     "start_time": "2025-07-11T14:36:12.381551",
     "status": "completed"
    },
    "tags": []
   },
   "source": [
    "# **Array Manipulation**"
   ]
  },
  {
   "cell_type": "markdown",
   "id": "4a9945a6",
   "metadata": {
    "papermill": {
     "duration": 0.007153,
     "end_time": "2025-07-11T14:36:12.404953",
     "exception": false,
     "start_time": "2025-07-11T14:36:12.397800",
     "status": "completed"
    },
    "tags": []
   },
   "source": [
    "Here, I will learn different methods of modiying the arrays while also learning about the arithmetic operations. "
   ]
  },
  {
   "cell_type": "markdown",
   "id": "3c6ed80f",
   "metadata": {
    "papermill": {
     "duration": 0.008266,
     "end_time": "2025-07-11T14:36:12.420926",
     "exception": false,
     "start_time": "2025-07-11T14:36:12.412660",
     "status": "completed"
    },
    "tags": []
   },
   "source": [
    "## **1. Value Asignment and Conditional Updates**"
   ]
  },
  {
   "cell_type": "markdown",
   "id": "a2430f1b",
   "metadata": {
    "papermill": {
     "duration": 0.007414,
     "end_time": "2025-07-11T14:36:12.435797",
     "exception": false,
     "start_time": "2025-07-11T14:36:12.428383",
     "status": "completed"
    },
    "tags": []
   },
   "source": [
    "This is fundamental because it's how you directly alter the data stored within your arrays. With three main ways:\n",
    "\n",
    "- **Direct Element Assignment**: Changing one specific value.\n",
    "- **Slice Assignment**: Changing a range of values.\n",
    "- **Boolean Mask Assignment**: Changing values based on a condition."
   ]
  },
  {
   "cell_type": "code",
   "execution_count": 1,
   "id": "1050a1f7",
   "metadata": {
    "execution": {
     "iopub.execute_input": "2025-07-11T14:36:12.452688Z",
     "iopub.status.busy": "2025-07-11T14:36:12.452196Z",
     "iopub.status.idle": "2025-07-11T14:36:12.460633Z",
     "shell.execute_reply": "2025-07-11T14:36:12.459678Z"
    },
    "papermill": {
     "duration": 0.018887,
     "end_time": "2025-07-11T14:36:12.462273",
     "exception": false,
     "start_time": "2025-07-11T14:36:12.443386",
     "status": "completed"
    },
    "tags": []
   },
   "outputs": [],
   "source": [
    "import numpy as np"
   ]
  },
  {
   "cell_type": "code",
   "execution_count": 2,
   "id": "3c1bcef6",
   "metadata": {
    "execution": {
     "iopub.execute_input": "2025-07-11T14:36:12.478706Z",
     "iopub.status.busy": "2025-07-11T14:36:12.478396Z",
     "iopub.status.idle": "2025-07-11T14:36:12.485102Z",
     "shell.execute_reply": "2025-07-11T14:36:12.483604Z"
    },
    "papermill": {
     "duration": 0.017061,
     "end_time": "2025-07-11T14:36:12.486982",
     "exception": false,
     "start_time": "2025-07-11T14:36:12.469921",
     "status": "completed"
    },
    "tags": []
   },
   "outputs": [],
   "source": [
    "assign_1d = np.array([10, 20, 30, 40, 50, 60, 70, 80, 90, 100]) #1d array\n",
    "\n",
    "assign_2d = np.array([ #2d array\n",
    "    [1, 2, 3, 4],\n",
    "    [5, 6, 7, 8],\n",
    "    [9, 10, 11, 12]\n",
    "])\n",
    "\n",
    "assign_3d = np.array([ #3d array\n",
    "    [[100, 200, 300],\n",
    "        [400, 500, 600]],\n",
    "\n",
    "    [[719, 819, 919],\n",
    "    [1019, 1119, 1129]]\n",
    "])"
   ]
  },
  {
   "cell_type": "markdown",
   "id": "33d92310",
   "metadata": {
    "papermill": {
     "duration": 0.006876,
     "end_time": "2025-07-11T14:36:12.502033",
     "exception": false,
     "start_time": "2025-07-11T14:36:12.495157",
     "status": "completed"
    },
    "tags": []
   },
   "source": [
    "### **Direct Element Assignment**"
   ]
  },
  {
   "cell_type": "markdown",
   "id": "c668c1bc",
   "metadata": {
    "papermill": {
     "duration": 0.007175,
     "end_time": "2025-07-11T14:36:12.516847",
     "exception": false,
     "start_time": "2025-07-11T14:36:12.509672",
     "status": "completed"
    },
    "tags": []
   },
   "source": [
    "Changing one specific value"
   ]
  },
  {
   "cell_type": "code",
   "execution_count": 3,
   "id": "319d5571",
   "metadata": {
    "execution": {
     "iopub.execute_input": "2025-07-11T14:36:12.532656Z",
     "iopub.status.busy": "2025-07-11T14:36:12.532290Z",
     "iopub.status.idle": "2025-07-11T14:36:12.541576Z",
     "shell.execute_reply": "2025-07-11T14:36:12.540457Z"
    },
    "papermill": {
     "duration": 0.019265,
     "end_time": "2025-07-11T14:36:12.543265",
     "exception": false,
     "start_time": "2025-07-11T14:36:12.524000",
     "status": "completed"
    },
    "tags": []
   },
   "outputs": [
    {
     "data": {
      "text/plain": [
       "array([[[ 100,  200,  300],\n",
       "        [ 400,  500,    1]],\n",
       "\n",
       "       [[ 719,  819,  919],\n",
       "        [1019, 1119, 1129]]])"
      ]
     },
     "execution_count": 3,
     "metadata": {},
     "output_type": "execute_result"
    }
   ],
   "source": [
    "# this is easy, same as we did in indexing\n",
    "\n",
    "assign_1d [7] = 999 # changes the 7th index or 8th element -> from 80 to 999\n",
    "assign_1d\n",
    "\n",
    "assign_2d [1, -1] = 918 # changes the last element of the 2nd row -> from 8 to 918\n",
    "assign_2d\n",
    "\n",
    "assign_3d [0, 1, 2] = 1 # changes the 3rd element located in second row of 1st slice -> from 600 to 1\n",
    "assign_3d"
   ]
  },
  {
   "cell_type": "markdown",
   "id": "5f00e3f3",
   "metadata": {
    "papermill": {
     "duration": 0.007231,
     "end_time": "2025-07-11T14:36:12.558897",
     "exception": false,
     "start_time": "2025-07-11T14:36:12.551666",
     "status": "completed"
    },
    "tags": []
   },
   "source": [
    "### **Slice Assignment**"
   ]
  },
  {
   "cell_type": "markdown",
   "id": "9907e5b9",
   "metadata": {
    "papermill": {
     "duration": 0.006971,
     "end_time": "2025-07-11T14:36:12.573054",
     "exception": false,
     "start_time": "2025-07-11T14:36:12.566083",
     "status": "completed"
    },
    "tags": []
   },
   "source": [
    "What if we want to change the multiple values at once? Like entire rows or from x-index to y-index?"
   ]
  },
  {
   "cell_type": "code",
   "execution_count": 4,
   "id": "05720231",
   "metadata": {
    "execution": {
     "iopub.execute_input": "2025-07-11T14:36:12.588950Z",
     "iopub.status.busy": "2025-07-11T14:36:12.588615Z",
     "iopub.status.idle": "2025-07-11T14:36:12.595699Z",
     "shell.execute_reply": "2025-07-11T14:36:12.594373Z"
    },
    "papermill": {
     "duration": 0.017404,
     "end_time": "2025-07-11T14:36:12.597691",
     "exception": false,
     "start_time": "2025-07-11T14:36:12.580287",
     "status": "completed"
    },
    "tags": []
   },
   "outputs": [
    {
     "name": "stdout",
     "output_type": "stream",
     "text": [
      "1d: [ 10  20  30  40  50  60  70 999  90 100]\n",
      "2d: [[  1   2   3   4]\n",
      " [  5   6   7 918]\n",
      " [  9  10  11  12]]\n",
      "3d: [[[ 100  200  300]\n",
      "  [ 400  500    1]]\n",
      "\n",
      " [[ 719  819  919]\n",
      "  [1019 1119 1129]]]\n"
     ]
    }
   ],
   "source": [
    "print(f\"1d: {assign_1d}\")\n",
    "print(f\"2d: {assign_2d}\")\n",
    "print(f\"3d: {assign_3d}\")"
   ]
  },
  {
   "cell_type": "code",
   "execution_count": 5,
   "id": "aaa489c1",
   "metadata": {
    "execution": {
     "iopub.execute_input": "2025-07-11T14:36:12.614088Z",
     "iopub.status.busy": "2025-07-11T14:36:12.613770Z",
     "iopub.status.idle": "2025-07-11T14:36:12.621016Z",
     "shell.execute_reply": "2025-07-11T14:36:12.620015Z"
    },
    "papermill": {
     "duration": 0.017977,
     "end_time": "2025-07-11T14:36:12.623271",
     "exception": false,
     "start_time": "2025-07-11T14:36:12.605294",
     "status": "completed"
    },
    "tags": []
   },
   "outputs": [
    {
     "data": {
      "text/plain": [
       "array([[[ 100,  200,  300],\n",
       "        [   1,    1,    1]],\n",
       "\n",
       "       [[ 719,  819,  919],\n",
       "        [1019, 1119, 1129]]])"
      ]
     },
     "execution_count": 5,
     "metadata": {},
     "output_type": "execute_result"
    }
   ],
   "source": [
    "# this is same as i read on slicing in reading-array\n",
    "\n",
    "assign_1d [0:3] = 39 # gives updated array with changed value of 39 in index 1, 2 and 3\n",
    "assign_1d\n",
    "\n",
    "assign_2d [:, 2] = 44 # gives updated array with changed value of 44 in 2nd index of all rows\n",
    "assign_2d\n",
    "\n",
    "assign_3d [0, 1, 0:2] = [1, 1] # changed value of [1, 1] in 0 and 1 index of 2nd row of 1st slice\n",
    "assign_3d"
   ]
  },
  {
   "cell_type": "markdown",
   "id": "da64b498",
   "metadata": {
    "papermill": {
     "duration": 0.00835,
     "end_time": "2025-07-11T14:36:12.639900",
     "exception": false,
     "start_time": "2025-07-11T14:36:12.631550",
     "status": "completed"
    },
    "tags": []
   },
   "source": [
    "### **Boolean Mask Assignment**"
   ]
  },
  {
   "cell_type": "markdown",
   "id": "641f3888",
   "metadata": {
    "papermill": {
     "duration": 0.00857,
     "end_time": "2025-07-11T14:36:12.656141",
     "exception": false,
     "start_time": "2025-07-11T14:36:12.647571",
     "status": "completed"
    },
    "tags": []
   },
   "source": [
    "Changing values based on a condition."
   ]
  },
  {
   "cell_type": "code",
   "execution_count": 6,
   "id": "dafd8c51",
   "metadata": {
    "execution": {
     "iopub.execute_input": "2025-07-11T14:36:12.672919Z",
     "iopub.status.busy": "2025-07-11T14:36:12.672588Z",
     "iopub.status.idle": "2025-07-11T14:36:12.678714Z",
     "shell.execute_reply": "2025-07-11T14:36:12.677507Z"
    },
    "papermill": {
     "duration": 0.016525,
     "end_time": "2025-07-11T14:36:12.680352",
     "exception": false,
     "start_time": "2025-07-11T14:36:12.663827",
     "status": "completed"
    },
    "tags": []
   },
   "outputs": [
    {
     "name": "stdout",
     "output_type": "stream",
     "text": [
      "1d: [ 39  39  39  40  50  60  70 999  90 100]\n",
      "2d: [[  1   2  44   4]\n",
      " [  5   6  44 918]\n",
      " [  9  10  44  12]]\n",
      "3d: [[[ 100  200  300]\n",
      "  [   1    1    1]]\n",
      "\n",
      " [[ 719  819  919]\n",
      "  [1019 1119 1129]]]\n"
     ]
    }
   ],
   "source": [
    "print(f\"1d: {assign_1d}\")\n",
    "print(f\"2d: {assign_2d}\")\n",
    "print(f\"3d: {assign_3d}\")"
   ]
  },
  {
   "cell_type": "code",
   "execution_count": 7,
   "id": "af337c3e",
   "metadata": {
    "execution": {
     "iopub.execute_input": "2025-07-11T14:36:12.697288Z",
     "iopub.status.busy": "2025-07-11T14:36:12.696939Z",
     "iopub.status.idle": "2025-07-11T14:36:12.707030Z",
     "shell.execute_reply": "2025-07-11T14:36:12.705777Z"
    },
    "papermill": {
     "duration": 0.020641,
     "end_time": "2025-07-11T14:36:12.708889",
     "exception": false,
     "start_time": "2025-07-11T14:36:12.688248",
     "status": "completed"
    },
    "tags": []
   },
   "outputs": [
    {
     "data": {
      "text/plain": [
       "array([[1, 1, 1, 1],\n",
       "       [1, 1, 1, 1],\n",
       "       [1, 1, 1, 1]])"
      ]
     },
     "execution_count": 7,
     "metadata": {},
     "output_type": "execute_result"
    }
   ],
   "source": [
    "# this is also same as boolean indexing i read\n",
    "\n",
    "assign_1d [assign_1d != 39] = 0\n",
    "assign_1d\n",
    "\n",
    "assign_2d [(assign_2d [1, 2] > 20) & (assign_2d [-1, 1] < 10)] = 0\n",
    "assign_2d\n",
    "\n",
    "assign_2d [(assign_2d [:, 2] == 0) | (assign_2d [:, 2] < 50)] = 1\n",
    "assign_2d"
   ]
  },
  {
   "cell_type": "markdown",
   "id": "5f891ffa",
   "metadata": {
    "papermill": {
     "duration": 0.007705,
     "end_time": "2025-07-11T14:36:12.793332",
     "exception": false,
     "start_time": "2025-07-11T14:36:12.785627",
     "status": "completed"
    },
    "tags": []
   },
   "source": [
    "## **2. Reshaping and Dimension Manipulation**"
   ]
  },
  {
   "cell_type": "markdown",
   "id": "e28486dd",
   "metadata": {
    "papermill": {
     "duration": 0.007468,
     "end_time": "2025-07-11T14:36:12.808558",
     "exception": false,
     "start_time": "2025-07-11T14:36:12.801090",
     "status": "completed"
    },
    "tags": []
   },
   "source": [
    "- changing an array's shape and flattening the arr >= 2 to 1d array\n",
    "- adding new dimension/s\n",
    "- transposing"
   ]
  },
  {
   "cell_type": "markdown",
   "id": "229ac81c",
   "metadata": {
    "papermill": {
     "duration": 0.007532,
     "end_time": "2025-07-11T14:36:12.823809",
     "exception": false,
     "start_time": "2025-07-11T14:36:12.816277",
     "status": "completed"
    },
    "tags": []
   },
   "source": [
    "### **Changing Array Shape**"
   ]
  },
  {
   "cell_type": "code",
   "execution_count": 8,
   "id": "520b2bb3",
   "metadata": {
    "execution": {
     "iopub.execute_input": "2025-07-11T14:36:12.842140Z",
     "iopub.status.busy": "2025-07-11T14:36:12.841802Z",
     "iopub.status.idle": "2025-07-11T14:36:12.848659Z",
     "shell.execute_reply": "2025-07-11T14:36:12.847663Z"
    },
    "papermill": {
     "duration": 0.017728,
     "end_time": "2025-07-11T14:36:12.850272",
     "exception": false,
     "start_time": "2025-07-11T14:36:12.832544",
     "status": "completed"
    },
    "tags": []
   },
   "outputs": [
    {
     "name": "stdout",
     "output_type": "stream",
     "text": [
      "[ 0  1  2  3  4  5  6  7  8  9 10 11 12 13 14 15 16 17 18 19 20 21 22 23]\n",
      "[[ 0  1  2  3  4  5]\n",
      " [ 6  7  8  9 10 11]\n",
      " [12 13 14 15 16 17]\n",
      " [18 19 20 21 22 23]]\n",
      "[[[ 0  1  2  3]\n",
      "  [ 4  5  6  7]\n",
      "  [ 8  9 10 11]]\n",
      "\n",
      " [[12 13 14 15]\n",
      "  [16 17 18 19]\n",
      "  [20 21 22 23]]]\n"
     ]
    }
   ],
   "source": [
    "arr_1d = np.arange(24) # 1d array from 0 to 23\n",
    "arr_2d = np.arange(24).reshape(4, 6) # 2d array with 4 rows and 6 comlumns each from 0 to 23\n",
    "arr_3d = np.arange(24).reshape(2, 3, 4) # 3d array with 2 slices, 3 rows each and 4 columns\n",
    "\n",
    "print(arr_1d)\n",
    "print(arr_2d)\n",
    "print(arr_3d)"
   ]
  },
  {
   "cell_type": "code",
   "execution_count": 9,
   "id": "8cb1bd72",
   "metadata": {
    "execution": {
     "iopub.execute_input": "2025-07-11T14:36:12.867714Z",
     "iopub.status.busy": "2025-07-11T14:36:12.867400Z",
     "iopub.status.idle": "2025-07-11T14:36:12.875455Z",
     "shell.execute_reply": "2025-07-11T14:36:12.874328Z"
    },
    "papermill": {
     "duration": 0.018928,
     "end_time": "2025-07-11T14:36:12.877120",
     "exception": false,
     "start_time": "2025-07-11T14:36:12.858192",
     "status": "completed"
    },
    "tags": []
   },
   "outputs": [
    {
     "data": {
      "text/plain": [
       "array([[[ 0,  1],\n",
       "        [ 2,  3],\n",
       "        [ 4,  5]],\n",
       "\n",
       "       [[ 6,  7],\n",
       "        [ 8,  9],\n",
       "        [10, 11]],\n",
       "\n",
       "       [[12, 13],\n",
       "        [14, 15],\n",
       "        [16, 17]],\n",
       "\n",
       "       [[18, 19],\n",
       "        [20, 21],\n",
       "        [22, 23]]])"
      ]
     },
     "execution_count": 9,
     "metadata": {},
     "output_type": "execute_result"
    }
   ],
   "source": [
    "# changing the shape of 1d array to 2d and 3d array\n",
    "\n",
    "# using .reshape()\n",
    "\n",
    "one_2d = arr_1d.reshape(2, 12) # 2 rows, 12 columns each\n",
    "one_2d\n",
    "\n",
    "one_2d_1 = arr_1d.reshape(3, 8) # 3 rows, 8 columns each\n",
    "one_2d_1\n",
    "\n",
    "one_2d_2 = arr_1d.reshape(12, 2) # 12 rows, 2 columns each\n",
    "one_2d_2\n",
    "\n",
    "one_3d = arr_1d.reshape(2, 4, 3) # 2 slices, 4 rows each with 3 columns\n",
    "one_3d\n",
    "\n",
    "one_3d_1 = arr_1d.reshape(4, 3, 2) # 4 slices, 3 rows each with 2 columns\n",
    "one_3d_1"
   ]
  },
  {
   "cell_type": "code",
   "execution_count": 10,
   "id": "d878d3f7",
   "metadata": {
    "execution": {
     "iopub.execute_input": "2025-07-11T14:36:12.895413Z",
     "iopub.status.busy": "2025-07-11T14:36:12.894900Z",
     "iopub.status.idle": "2025-07-11T14:36:12.902205Z",
     "shell.execute_reply": "2025-07-11T14:36:12.901173Z"
    },
    "papermill": {
     "duration": 0.017956,
     "end_time": "2025-07-11T14:36:12.903739",
     "exception": false,
     "start_time": "2025-07-11T14:36:12.885783",
     "status": "completed"
    },
    "tags": []
   },
   "outputs": [
    {
     "data": {
      "text/plain": [
       "array([ 0,  1,  2,  3,  4,  5,  6,  7,  8,  9, 10, 11, 12, 13, 14, 15, 16,\n",
       "       17, 18, 19, 20, 21, 22, 23])"
      ]
     },
     "execution_count": 10,
     "metadata": {},
     "output_type": "execute_result"
    }
   ],
   "source": [
    "# 2d to 3d and 1d\n",
    "\n",
    "two_3d = arr_2d.reshape(3, 4, 2)\n",
    "two_3d\n",
    "\n",
    "two_3d_1 = arr_2d.reshape(6, 2, 2)\n",
    "two_3d_1\n",
    "\n",
    "# 2d to 1d\n",
    "\n",
    "# we can use either .ravel() or .flatten() or .reshape(-1)\n",
    "\n",
    "two_1d = arr_2d.ravel()\n",
    "two_1d\n",
    "\n",
    "two_1d_1 = arr_2d.flatten()\n",
    "two_1d_1\n",
    "\n",
    "two_1d_2 = arr_2d.reshape(-1)\n",
    "two_1d_2"
   ]
  },
  {
   "cell_type": "code",
   "execution_count": 11,
   "id": "a20e71eb",
   "metadata": {
    "execution": {
     "iopub.execute_input": "2025-07-11T14:36:12.921556Z",
     "iopub.status.busy": "2025-07-11T14:36:12.921252Z",
     "iopub.status.idle": "2025-07-11T14:36:12.927957Z",
     "shell.execute_reply": "2025-07-11T14:36:12.926842Z"
    },
    "papermill": {
     "duration": 0.017543,
     "end_time": "2025-07-11T14:36:12.929777",
     "exception": false,
     "start_time": "2025-07-11T14:36:12.912234",
     "status": "completed"
    },
    "tags": []
   },
   "outputs": [
    {
     "data": {
      "text/plain": [
       "array([ 0,  1,  2,  3,  4,  5,  6,  7,  8,  9, 10, 11, 12, 13, 14, 15, 16,\n",
       "       17, 18, 19, 20, 21, 22, 23])"
      ]
     },
     "execution_count": 11,
     "metadata": {},
     "output_type": "execute_result"
    }
   ],
   "source": [
    "# 3d to 2d\n",
    "\n",
    "three_2d = arr_3d.reshape(6, 4)\n",
    "three_2d\n",
    "\n",
    "three_2d_1 = arr_3d.reshape(4, 6)\n",
    "three_2d_1\n",
    "\n",
    "# 3d to 1d\n",
    "\n",
    "three_1d = arr_3d.reshape(-1)\n",
    "three_1d\n",
    "\n",
    "# we can also use .ravel and .flatten"
   ]
  },
  {
   "cell_type": "markdown",
   "id": "3729272b",
   "metadata": {
    "papermill": {
     "duration": 0.00812,
     "end_time": "2025-07-11T14:36:12.946380",
     "exception": false,
     "start_time": "2025-07-11T14:36:12.938260",
     "status": "completed"
    },
    "tags": []
   },
   "source": [
    "### **Adding new Dimensions**"
   ]
  },
  {
   "cell_type": "code",
   "execution_count": 12,
   "id": "439e824b",
   "metadata": {
    "execution": {
     "iopub.execute_input": "2025-07-11T14:36:12.964014Z",
     "iopub.status.busy": "2025-07-11T14:36:12.963738Z",
     "iopub.status.idle": "2025-07-11T14:36:12.968684Z",
     "shell.execute_reply": "2025-07-11T14:36:12.967874Z"
    },
    "papermill": {
     "duration": 0.01585,
     "end_time": "2025-07-11T14:36:12.970353",
     "exception": false,
     "start_time": "2025-07-11T14:36:12.954503",
     "status": "completed"
    },
    "tags": []
   },
   "outputs": [],
   "source": [
    "newd_1d = np.arange(24) # 1d array from 0 to 23\n",
    "newd_2d = np.arange(24).reshape(4, 6) # 2d array with 4 rows and 6 comlumns each from 0 to 23\n",
    "newd_3d = np.arange(24).reshape(2, 3, 4) # 3d array with 2 slices, 3 rows each and 4 columns"
   ]
  },
  {
   "cell_type": "code",
   "execution_count": 13,
   "id": "aa357385",
   "metadata": {
    "execution": {
     "iopub.execute_input": "2025-07-11T14:36:12.987822Z",
     "iopub.status.busy": "2025-07-11T14:36:12.987543Z",
     "iopub.status.idle": "2025-07-11T14:36:12.994601Z",
     "shell.execute_reply": "2025-07-11T14:36:12.993603Z"
    },
    "papermill": {
     "duration": 0.017672,
     "end_time": "2025-07-11T14:36:12.996365",
     "exception": false,
     "start_time": "2025-07-11T14:36:12.978693",
     "status": "completed"
    },
    "tags": []
   },
   "outputs": [
    {
     "data": {
      "text/plain": [
       "array([[ 0],\n",
       "       [ 1],\n",
       "       [ 2],\n",
       "       [ 3],\n",
       "       [ 4],\n",
       "       [ 5],\n",
       "       [ 6],\n",
       "       [ 7],\n",
       "       [ 8],\n",
       "       [ 9],\n",
       "       [10],\n",
       "       [11],\n",
       "       [12],\n",
       "       [13],\n",
       "       [14],\n",
       "       [15],\n",
       "       [16],\n",
       "       [17],\n",
       "       [18],\n",
       "       [19],\n",
       "       [20],\n",
       "       [21],\n",
       "       [22],\n",
       "       [23]])"
      ]
     },
     "execution_count": 13,
     "metadata": {},
     "output_type": "execute_result"
    }
   ],
   "source": [
    "# adding new dimension in 1d array, which will make it 2d\n",
    "\n",
    "newd_as_row = newd_1d[None, :]\n",
    "newd_as_row\n",
    "\n",
    "newd_as_col = newd_1d[:, np.newaxis]\n",
    "newd_as_col"
   ]
  },
  {
   "cell_type": "code",
   "execution_count": 14,
   "id": "dc69a532",
   "metadata": {
    "execution": {
     "iopub.execute_input": "2025-07-11T14:36:13.015923Z",
     "iopub.status.busy": "2025-07-11T14:36:13.015648Z",
     "iopub.status.idle": "2025-07-11T14:36:13.022451Z",
     "shell.execute_reply": "2025-07-11T14:36:13.021435Z"
    },
    "papermill": {
     "duration": 0.018147,
     "end_time": "2025-07-11T14:36:13.023974",
     "exception": false,
     "start_time": "2025-07-11T14:36:13.005827",
     "status": "completed"
    },
    "tags": []
   },
   "outputs": [
    {
     "data": {
      "text/plain": [
       "array([[[ 0],\n",
       "        [ 1],\n",
       "        [ 2],\n",
       "        [ 3],\n",
       "        [ 4],\n",
       "        [ 5]],\n",
       "\n",
       "       [[ 6],\n",
       "        [ 7],\n",
       "        [ 8],\n",
       "        [ 9],\n",
       "        [10],\n",
       "        [11]],\n",
       "\n",
       "       [[12],\n",
       "        [13],\n",
       "        [14],\n",
       "        [15],\n",
       "        [16],\n",
       "        [17]],\n",
       "\n",
       "       [[18],\n",
       "        [19],\n",
       "        [20],\n",
       "        [21],\n",
       "        [22],\n",
       "        [23]]])"
      ]
     },
     "execution_count": 14,
     "metadata": {},
     "output_type": "execute_result"
    }
   ],
   "source": [
    "# adding new dimension in 2d array, which will make it 3d\n",
    "\n",
    "newd_in_2d_as_row = newd_2d[None, :, :]\n",
    "newd_in_2d_as_row\n",
    "\n",
    "newd_in_2d_as_col = newd_2d[:, :, np.newaxis]\n",
    "newd_in_2d_as_col\n",
    "\n",
    "# same for 3d "
   ]
  },
  {
   "cell_type": "markdown",
   "id": "c8f3f06b",
   "metadata": {
    "papermill": {
     "duration": 0.008333,
     "end_time": "2025-07-11T14:36:13.041291",
     "exception": false,
     "start_time": "2025-07-11T14:36:13.032958",
     "status": "completed"
    },
    "tags": []
   },
   "source": [
    "### **Transposing**"
   ]
  },
  {
   "cell_type": "code",
   "execution_count": 15,
   "id": "deccdc4c",
   "metadata": {
    "execution": {
     "iopub.execute_input": "2025-07-11T14:36:13.059640Z",
     "iopub.status.busy": "2025-07-11T14:36:13.059354Z",
     "iopub.status.idle": "2025-07-11T14:36:13.066087Z",
     "shell.execute_reply": "2025-07-11T14:36:13.065304Z"
    },
    "papermill": {
     "duration": 0.017749,
     "end_time": "2025-07-11T14:36:13.067634",
     "exception": false,
     "start_time": "2025-07-11T14:36:13.049885",
     "status": "completed"
    },
    "tags": []
   },
   "outputs": [
    {
     "data": {
      "text/plain": [
       "array([[[ 0, 12],\n",
       "        [ 3, 15],\n",
       "        [ 6, 18],\n",
       "        [ 9, 21]],\n",
       "\n",
       "       [[ 1, 13],\n",
       "        [ 4, 16],\n",
       "        [ 7, 19],\n",
       "        [10, 22]],\n",
       "\n",
       "       [[ 2, 14],\n",
       "        [ 5, 17],\n",
       "        [ 8, 20],\n",
       "        [11, 23]]])"
      ]
     },
     "execution_count": 15,
     "metadata": {},
     "output_type": "execute_result"
    }
   ],
   "source": [
    "# .T, which transposes the order of axes, rows element to column and vice versa (applies to arr > 1)\n",
    "t_2d = np.arange(24).reshape(4, 6)\n",
    "t_2d.shape\n",
    "t_2d.T.shape # -> from (4,6) to (6,4)\n",
    "\n",
    "t_3d = np.arange(24).reshape(2, 4, 3)\n",
    "t_3d.T # from (2, 4, 3) to (3, 4, 2)"
   ]
  },
  {
   "cell_type": "code",
   "execution_count": 16,
   "id": "be43ddfd",
   "metadata": {
    "execution": {
     "iopub.execute_input": "2025-07-11T14:36:13.085753Z",
     "iopub.status.busy": "2025-07-11T14:36:13.085445Z",
     "iopub.status.idle": "2025-07-11T14:36:13.092822Z",
     "shell.execute_reply": "2025-07-11T14:36:13.091922Z"
    },
    "papermill": {
     "duration": 0.018369,
     "end_time": "2025-07-11T14:36:13.094404",
     "exception": false,
     "start_time": "2025-07-11T14:36:13.076035",
     "status": "completed"
    },
    "tags": []
   },
   "outputs": [
    {
     "name": "stdout",
     "output_type": "stream",
     "text": [
      "[[[ 0  1  2]\n",
      "  [ 3  4  5]\n",
      "  [ 6  7  8]\n",
      "  [ 9 10 11]]\n",
      "\n",
      " [[12 13 14]\n",
      "  [15 16 17]\n",
      "  [18 19 20]\n",
      "  [21 22 23]]]\n"
     ]
    },
    {
     "data": {
      "text/plain": [
       "array([[[ 0,  3,  6,  9],\n",
       "        [ 1,  4,  7, 10],\n",
       "        [ 2,  5,  8, 11]],\n",
       "\n",
       "       [[12, 15, 18, 21],\n",
       "        [13, 16, 19, 22],\n",
       "        [14, 17, 20, 23]]])"
      ]
     },
     "execution_count": 16,
     "metadata": {},
     "output_type": "execute_result"
    }
   ],
   "source": [
    "# .transpose, flexible than .T\n",
    "\n",
    "transpose_3d = np.arange(24).reshape(2, 4, 3)\n",
    "print(transpose_3d)\n",
    "\n",
    "new = np.transpose(transpose_3d, axes=(0, 2, 1)) # keep the slices of same number, exchange the number of rows and columns with each other\n",
    "new"
   ]
  },
  {
   "cell_type": "markdown",
   "id": "f9d17ff4",
   "metadata": {
    "papermill": {
     "duration": 0.008313,
     "end_time": "2025-07-11T14:36:13.111392",
     "exception": false,
     "start_time": "2025-07-11T14:36:13.103079",
     "status": "completed"
    },
    "tags": []
   },
   "source": [
    "## **3. Array Combination and Alteration**"
   ]
  },
  {
   "cell_type": "markdown",
   "id": "e8c8b4bd",
   "metadata": {
    "papermill": {
     "duration": 0.009399,
     "end_time": "2025-07-11T14:36:13.129512",
     "exception": false,
     "start_time": "2025-07-11T14:36:13.120113",
     "status": "completed"
    },
    "tags": []
   },
   "source": [
    "Focuses on operations that change the size or number of elements in your arrays by combining multiple arrays, or by adding/removing elements. Topics included are:\n",
    "\n",
    "- Concatenation\n",
    "- Vertical Stacking\n",
    "- Horizontal Stacking\n",
    "- adding elements"
   ]
  },
  {
   "cell_type": "markdown",
   "id": "125dd892",
   "metadata": {
    "papermill": {
     "duration": 0.008564,
     "end_time": "2025-07-11T14:36:13.147142",
     "exception": false,
     "start_time": "2025-07-11T14:36:13.138578",
     "status": "completed"
    },
    "tags": []
   },
   "source": [
    "### **Concatenation**"
   ]
  },
  {
   "cell_type": "markdown",
   "id": "75df349c",
   "metadata": {
    "papermill": {
     "duration": 0.00862,
     "end_time": "2025-07-11T14:36:13.164756",
     "exception": false,
     "start_time": "2025-07-11T14:36:13.156136",
     "status": "completed"
    },
    "tags": []
   },
   "source": [
    "Basically, to add multiple arrays in one single array we use np.concatenate(). But where to add the array if it's multi-dimensional? As row, as column, as slice? That's why we use axes(0, 1, 2, ..., n). But, axes are always not similar in all nd-arrays. For example, for 2d array row is axis-0 where was for 3d arrays it's axis-1.\n",
    "\n",
    "Simply put, axis-0 is always the first dimension for that array. Remember? When we used to slice?\n",
    "For 3-d array we used to say, [x-slice] [y-row] [z-column], we are saying [axis-0] [axis-1] [axis-2]"
   ]
  },
  {
   "cell_type": "code",
   "execution_count": 17,
   "id": "c96ceccc",
   "metadata": {
    "execution": {
     "iopub.execute_input": "2025-07-11T14:36:13.183193Z",
     "iopub.status.busy": "2025-07-11T14:36:13.182866Z",
     "iopub.status.idle": "2025-07-11T14:36:13.190175Z",
     "shell.execute_reply": "2025-07-11T14:36:13.189113Z"
    },
    "papermill": {
     "duration": 0.01838,
     "end_time": "2025-07-11T14:36:13.191716",
     "exception": false,
     "start_time": "2025-07-11T14:36:13.173336",
     "status": "completed"
    },
    "tags": []
   },
   "outputs": [
    {
     "name": "stdout",
     "output_type": "stream",
     "text": [
      "[0 1 2 3 4 5]\n",
      "[[ 0  1  2]\n",
      " [ 3  4  5]\n",
      " [ 6  7  8]\n",
      " [ 9 10 11]]\n",
      "[[[ 0  1  2  3]\n",
      "  [ 4  5  6  7]]\n",
      "\n",
      " [[ 8  9 10 11]\n",
      "  [12 13 14 15]]\n",
      "\n",
      " [[16 17 18 19]\n",
      "  [20 21 22 23]]]\n"
     ]
    }
   ],
   "source": [
    "x = np.arange(0, 6)\n",
    "y = np.arange(0, 12).reshape(4, 3)\n",
    "z = np.arange(0, 24).reshape(3, 2, 4)\n",
    "\n",
    "print(x)\n",
    "print(y)\n",
    "print(z)\n",
    "\n",
    "a = np.array([1, 2, 3, 4, 5])\n",
    "b = np.array([[9, 9, 9, 9]])\n",
    "c = np.array([100, 100, 100])\n",
    "d = np.array([\n",
    "    [69],\n",
    "    [69],\n",
    "    [69],\n",
    "    [69],\n",
    "])\n"
   ]
  },
  {
   "cell_type": "code",
   "execution_count": 18,
   "id": "6815dee2",
   "metadata": {
    "execution": {
     "iopub.execute_input": "2025-07-11T14:36:13.210860Z",
     "iopub.status.busy": "2025-07-11T14:36:13.210533Z",
     "iopub.status.idle": "2025-07-11T14:36:13.216938Z",
     "shell.execute_reply": "2025-07-11T14:36:13.215959Z"
    },
    "papermill": {
     "duration": 0.018402,
     "end_time": "2025-07-11T14:36:13.218837",
     "exception": false,
     "start_time": "2025-07-11T14:36:13.200435",
     "status": "completed"
    },
    "tags": []
   },
   "outputs": [
    {
     "data": {
      "text/plain": [
       "array([0, 1, 2, 3, 4, 5, 1, 2, 3, 4, 5])"
      ]
     },
     "execution_count": 18,
     "metadata": {},
     "output_type": "execute_result"
    }
   ],
   "source": [
    "x_concat = np.concatenate((x, a))\n",
    "x_concat\n",
    "\n",
    "# y_axis0 = np.concatenate((y, c), axis = 0) # it shows error. because we used 1d array to concatenate with 2d array. hmm interesting i am making such mistakes\n",
    "# y_axis0"
   ]
  },
  {
   "cell_type": "code",
   "execution_count": 19,
   "id": "f61f23cb",
   "metadata": {
    "execution": {
     "iopub.execute_input": "2025-07-11T14:36:13.237784Z",
     "iopub.status.busy": "2025-07-11T14:36:13.237426Z",
     "iopub.status.idle": "2025-07-11T14:36:13.244608Z",
     "shell.execute_reply": "2025-07-11T14:36:13.243449Z"
    },
    "papermill": {
     "duration": 0.018731,
     "end_time": "2025-07-11T14:36:13.246513",
     "exception": false,
     "start_time": "2025-07-11T14:36:13.227782",
     "status": "completed"
    },
    "tags": []
   },
   "outputs": [
    {
     "data": {
      "text/plain": [
       "array([[  0,   1,   2],\n",
       "       [  3,   4,   5],\n",
       "       [  6,   7,   8],\n",
       "       [  9,  10,  11],\n",
       "       [100, 100, 100]])"
      ]
     },
     "execution_count": 19,
     "metadata": {},
     "output_type": "execute_result"
    }
   ],
   "source": [
    "c = np.array([[100, 100, 100]])\n",
    "\n",
    "y_axis0 = np.concatenate((y, c), axis=0) # add a row \n",
    "y_axis0"
   ]
  },
  {
   "cell_type": "code",
   "execution_count": 20,
   "id": "bf06adba",
   "metadata": {
    "execution": {
     "iopub.execute_input": "2025-07-11T14:36:13.266338Z",
     "iopub.status.busy": "2025-07-11T14:36:13.266011Z",
     "iopub.status.idle": "2025-07-11T14:36:13.272078Z",
     "shell.execute_reply": "2025-07-11T14:36:13.271283Z"
    },
    "papermill": {
     "duration": 0.017668,
     "end_time": "2025-07-11T14:36:13.273822",
     "exception": false,
     "start_time": "2025-07-11T14:36:13.256154",
     "status": "completed"
    },
    "tags": []
   },
   "outputs": [
    {
     "data": {
      "text/plain": [
       "array([[ 0,  1,  2, 69],\n",
       "       [ 3,  4,  5, 69],\n",
       "       [ 6,  7,  8, 69],\n",
       "       [ 9, 10, 11, 69]])"
      ]
     },
     "execution_count": 20,
     "metadata": {},
     "output_type": "execute_result"
    }
   ],
   "source": [
    "y_axis1 = np.concatenate((y, d), axis=1) # add a column\n",
    "y_axis1"
   ]
  },
  {
   "cell_type": "markdown",
   "id": "ce0f2c63",
   "metadata": {
    "papermill": {
     "duration": 0.008577,
     "end_time": "2025-07-11T14:36:13.291357",
     "exception": false,
     "start_time": "2025-07-11T14:36:13.282780",
     "status": "completed"
    },
    "tags": []
   },
   "source": [
    "### **Vertical Stacking (.vstack)**"
   ]
  },
  {
   "cell_type": "markdown",
   "id": "dc756ac8",
   "metadata": {
    "papermill": {
     "duration": 0.009342,
     "end_time": "2025-07-11T14:36:13.310134",
     "exception": false,
     "start_time": "2025-07-11T14:36:13.300792",
     "status": "completed"
    },
    "tags": []
   },
   "source": [
    "It's just the specialized and concise version of np.concatenate((arr, arr2), axis=0) for 2d arrays"
   ]
  },
  {
   "cell_type": "code",
   "execution_count": 21,
   "id": "d3f391ec",
   "metadata": {
    "execution": {
     "iopub.execute_input": "2025-07-11T14:36:13.331523Z",
     "iopub.status.busy": "2025-07-11T14:36:13.331157Z",
     "iopub.status.idle": "2025-07-11T14:36:13.336086Z",
     "shell.execute_reply": "2025-07-11T14:36:13.334966Z"
    },
    "papermill": {
     "duration": 0.018153,
     "end_time": "2025-07-11T14:36:13.338101",
     "exception": false,
     "start_time": "2025-07-11T14:36:13.319948",
     "status": "completed"
    },
    "tags": []
   },
   "outputs": [],
   "source": [
    "varr = np.arange(0, 12).reshape(3, 4)\n",
    "addin = np.arange(4, 8).reshape(1, 4)"
   ]
  },
  {
   "cell_type": "code",
   "execution_count": 22,
   "id": "cabc144f",
   "metadata": {
    "execution": {
     "iopub.execute_input": "2025-07-11T14:36:13.358560Z",
     "iopub.status.busy": "2025-07-11T14:36:13.358232Z",
     "iopub.status.idle": "2025-07-11T14:36:13.364685Z",
     "shell.execute_reply": "2025-07-11T14:36:13.363792Z"
    },
    "papermill": {
     "duration": 0.017752,
     "end_time": "2025-07-11T14:36:13.366268",
     "exception": false,
     "start_time": "2025-07-11T14:36:13.348516",
     "status": "completed"
    },
    "tags": []
   },
   "outputs": [
    {
     "data": {
      "text/plain": [
       "array([[ 0,  1,  2,  3],\n",
       "       [ 4,  5,  6,  7],\n",
       "       [ 8,  9, 10, 11],\n",
       "       [ 4,  5,  6,  7]])"
      ]
     },
     "execution_count": 22,
     "metadata": {},
     "output_type": "execute_result"
    }
   ],
   "source": [
    "vstacked = np.vstack((varr, addin)) # adds rows\n",
    "vstacked"
   ]
  },
  {
   "cell_type": "markdown",
   "id": "a40a96b7",
   "metadata": {
    "papermill": {
     "duration": 0.009409,
     "end_time": "2025-07-11T14:36:13.385604",
     "exception": false,
     "start_time": "2025-07-11T14:36:13.376195",
     "status": "completed"
    },
    "tags": []
   },
   "source": [
    "### **Horizantal Stacking (.hstack)**"
   ]
  },
  {
   "cell_type": "code",
   "execution_count": 23,
   "id": "5d763330",
   "metadata": {
    "execution": {
     "iopub.execute_input": "2025-07-11T14:36:13.406641Z",
     "iopub.status.busy": "2025-07-11T14:36:13.406261Z",
     "iopub.status.idle": "2025-07-11T14:36:13.410774Z",
     "shell.execute_reply": "2025-07-11T14:36:13.409784Z"
    },
    "papermill": {
     "duration": 0.017258,
     "end_time": "2025-07-11T14:36:13.412700",
     "exception": false,
     "start_time": "2025-07-11T14:36:13.395442",
     "status": "completed"
    },
    "tags": []
   },
   "outputs": [],
   "source": [
    "harr = np.arange(0, 12).reshape(3, 4)\n",
    "addin = np.arange(4, 7).reshape(3, 1)"
   ]
  },
  {
   "cell_type": "code",
   "execution_count": 24,
   "id": "dc22cde0",
   "metadata": {
    "execution": {
     "iopub.execute_input": "2025-07-11T14:36:13.432121Z",
     "iopub.status.busy": "2025-07-11T14:36:13.431832Z",
     "iopub.status.idle": "2025-07-11T14:36:13.439016Z",
     "shell.execute_reply": "2025-07-11T14:36:13.437840Z"
    },
    "papermill": {
     "duration": 0.019043,
     "end_time": "2025-07-11T14:36:13.440949",
     "exception": false,
     "start_time": "2025-07-11T14:36:13.421906",
     "status": "completed"
    },
    "tags": []
   },
   "outputs": [
    {
     "data": {
      "text/plain": [
       "array([[ 0,  1,  2,  3,  4],\n",
       "       [ 4,  5,  6,  7,  5],\n",
       "       [ 8,  9, 10, 11,  6]])"
      ]
     },
     "execution_count": 24,
     "metadata": {},
     "output_type": "execute_result"
    }
   ],
   "source": [
    "hstacked = np.hstack((harr, addin)) # adds columns but number of rows has to be same \n",
    "hstacked"
   ]
  },
  {
   "cell_type": "markdown",
   "id": "5033a393",
   "metadata": {
    "papermill": {
     "duration": 0.010722,
     "end_time": "2025-07-11T14:36:13.461988",
     "exception": false,
     "start_time": "2025-07-11T14:36:13.451266",
     "status": "completed"
    },
    "tags": []
   },
   "source": [
    "## **5. Element-wise Operations and Broadcasting**"
   ]
  },
  {
   "cell_type": "markdown",
   "id": "27de024e",
   "metadata": {
    "papermill": {
     "duration": 0.00924,
     "end_time": "2025-07-11T14:36:13.481660",
     "exception": false,
     "start_time": "2025-07-11T14:36:13.472420",
     "status": "completed"
    },
    "tags": []
   },
   "source": [
    "We will focus on some arithmetic operations that exists on numpy. And then we will get to broadcasting. \n",
    "\n",
    "- Basic Arithmetic (+, -, *, /, **)\n",
    "- Universal Functions (ufuncs like np.sqrt, np.log, np.exp, np.sin, etc.)\n",
    "- Understanding Broadcasting Rules"
   ]
  },
  {
   "cell_type": "markdown",
   "id": "cb159ce0",
   "metadata": {
    "papermill": {
     "duration": 0.010024,
     "end_time": "2025-07-11T14:36:13.501172",
     "exception": false,
     "start_time": "2025-07-11T14:36:13.491148",
     "status": "completed"
    },
    "tags": []
   },
   "source": [
    "### **Arithmetic Operations**"
   ]
  },
  {
   "cell_type": "code",
   "execution_count": 25,
   "id": "a9d0ac64",
   "metadata": {
    "execution": {
     "iopub.execute_input": "2025-07-11T14:36:13.521641Z",
     "iopub.status.busy": "2025-07-11T14:36:13.521140Z",
     "iopub.status.idle": "2025-07-11T14:36:13.528361Z",
     "shell.execute_reply": "2025-07-11T14:36:13.527169Z"
    },
    "papermill": {
     "duration": 0.018756,
     "end_time": "2025-07-11T14:36:13.529995",
     "exception": false,
     "start_time": "2025-07-11T14:36:13.511239",
     "status": "completed"
    },
    "tags": []
   },
   "outputs": [
    {
     "name": "stdout",
     "output_type": "stream",
     "text": [
      "[1 2 3 4] \n",
      " \n",
      "[5 6 7 8] \n",
      "\n",
      "[[100 105 110 115 120]\n",
      " [125 130 135 140 145]\n",
      " [150 155 160 165 170]\n",
      " [175 180 185 190 195]] \n",
      " \n",
      "[[ 1  6 11 16 21]\n",
      " [26 31 36 41 46]\n",
      " [51 56 61 66 71]\n",
      " [76 81 86 91 96]]\n"
     ]
    }
   ],
   "source": [
    "arith1 = np.array([1, 2, 3, 4])\n",
    "arith2 = np.array([5, 6, 7, 8])\n",
    "print(f\"{arith1} \\n \\n{arith2} \\n\")\n",
    "\n",
    "ar2d1 = np.arange(100, 200, 5).reshape(4, 5)\n",
    "ar2d2 = np.arange(1, 100, 5).reshape(4, 5)\n",
    "print(f\"{ar2d1} \\n \\n{ar2d2}\")"
   ]
  },
  {
   "cell_type": "code",
   "execution_count": 26,
   "id": "9e8197e6",
   "metadata": {
    "execution": {
     "iopub.execute_input": "2025-07-11T14:36:13.549963Z",
     "iopub.status.busy": "2025-07-11T14:36:13.549655Z",
     "iopub.status.idle": "2025-07-11T14:36:13.562450Z",
     "shell.execute_reply": "2025-07-11T14:36:13.561154Z"
    },
    "papermill": {
     "duration": 0.025147,
     "end_time": "2025-07-11T14:36:13.564465",
     "exception": false,
     "start_time": "2025-07-11T14:36:13.539318",
     "status": "completed"
    },
    "tags": []
   },
   "outputs": [
    {
     "name": "stdout",
     "output_type": "stream",
     "text": [
      "[ 6  8 10 12]\n",
      "\n",
      "\n",
      "[[101 111 121 131 141]\n",
      " [151 161 171 181 191]\n",
      " [201 211 221 231 241]\n",
      " [251 261 271 281 291]]\n",
      "\n",
      "\n",
      "[-4 -4 -4 -4]\n",
      "\n",
      "\n",
      "[[99 99 99 99 99]\n",
      " [99 99 99 99 99]\n",
      " [99 99 99 99 99]\n",
      " [99 99 99 99 99]]\n",
      "\n",
      "\n",
      "[ 5 12 21 32]\n",
      "\n",
      "\n",
      "[[  100   630  1210  1840  2520]\n",
      " [ 3250  4030  4860  5740  6670]\n",
      " [ 7650  8680  9760 10890 12070]\n",
      " [13300 14580 15910 17290 18720]]\n",
      "\n",
      "\n",
      "[0.2        0.33333333 0.42857143 0.5       ]\n",
      "\n",
      "\n",
      "[[100.          17.5         10.           7.1875       5.71428571]\n",
      " [  4.80769231   4.19354839   3.75         3.41463415   3.15217391]\n",
      " [  2.94117647   2.76785714   2.62295082   2.5          2.3943662 ]\n",
      " [  2.30263158   2.22222222   2.15116279   2.08791209   2.03125   ]]\n",
      "\n",
      "\n",
      "[ 1  8 27 64]\n",
      "\n",
      "\n",
      "[[     1    216   1331   4096   9261]\n",
      " [ 17576  29791  46656  68921  97336]\n",
      " [132651 175616 226981 287496 357911]\n",
      " [438976 531441 636056 753571 884736]]\n",
      "\n",
      "\n"
     ]
    }
   ],
   "source": [
    "# adding\n",
    "\n",
    "add1 = np.add(arith1, arith2) # or we can use arr1 + arr2\n",
    "print(add1)\n",
    "print(\"\\n\")\n",
    "\n",
    "add2 = np.add(ar2d1, ar2d2)\n",
    "print(add2)\n",
    "print(\"\\n\")\n",
    "\n",
    "# subtract\n",
    "\n",
    "sub1 = np.subtract(arith1, arith2)\n",
    "print(sub1)\n",
    "print(\"\\n\")\n",
    "\n",
    "sub2 = np.subtract(ar2d1, ar2d2)\n",
    "print(sub2)\n",
    "print(\"\\n\")\n",
    "\n",
    "# multiply\n",
    "\n",
    "mul1 = np.multiply(arith1, arith2)\n",
    "print(mul1)\n",
    "print(\"\\n\")\n",
    "\n",
    "mul2 = np.multiply(ar2d1, ar2d2)\n",
    "print(mul2)\n",
    "print(\"\\n\")\n",
    "\n",
    "# division\n",
    "\n",
    "div1 = np.divide(arith1, arith2)\n",
    "print(div1)\n",
    "print(\"\\n\")\n",
    "\n",
    "div2 = np.divide(ar2d1, ar2d2)\n",
    "print(div2)\n",
    "print(\"\\n\")\n",
    "\n",
    "# power\n",
    "\n",
    "pow1 = arith1 ** 3\n",
    "print(pow1)\n",
    "print(\"\\n\")\n",
    "\n",
    "pow2 = ar2d2 ** 3\n",
    "print(pow2)\n",
    "print(\"\\n\")"
   ]
  },
  {
   "cell_type": "markdown",
   "id": "2b86e496",
   "metadata": {
    "papermill": {
     "duration": 0.009611,
     "end_time": "2025-07-11T14:36:13.584692",
     "exception": false,
     "start_time": "2025-07-11T14:36:13.575081",
     "status": "completed"
    },
    "tags": []
   },
   "source": [
    "### **Universal Operations**"
   ]
  },
  {
   "cell_type": "code",
   "execution_count": 27,
   "id": "8c8214aa",
   "metadata": {
    "execution": {
     "iopub.execute_input": "2025-07-11T14:36:13.606429Z",
     "iopub.status.busy": "2025-07-11T14:36:13.606073Z",
     "iopub.status.idle": "2025-07-11T14:36:13.613570Z",
     "shell.execute_reply": "2025-07-11T14:36:13.612528Z"
    },
    "papermill": {
     "duration": 0.020117,
     "end_time": "2025-07-11T14:36:13.615093",
     "exception": false,
     "start_time": "2025-07-11T14:36:13.594976",
     "status": "completed"
    },
    "tags": []
   },
   "outputs": [
    {
     "name": "stdout",
     "output_type": "stream",
     "text": [
      "[1 2 3 4] \n",
      " \n",
      "[5 6 7 8] \n",
      "\n",
      "[[100 105 110 115 120]\n",
      " [125 130 135 140 145]\n",
      " [150 155 160 165 170]\n",
      " [175 180 185 190 195]] \n",
      " \n",
      "[[ 1  6 11 16 21]\n",
      " [26 31 36 41 46]\n",
      " [51 56 61 66 71]\n",
      " [76 81 86 91 96]]\n"
     ]
    }
   ],
   "source": [
    "uni1 = np.array([1, 2, 3, 4])\n",
    "uni2 = np.array([5, 6, 7, 8])\n",
    "print(f\"{uni1} \\n \\n{uni2} \\n\")\n",
    "\n",
    "uni2da = np.arange(100, 200, 5).reshape(4, 5)\n",
    "uni2db = np.arange(1, 100, 5).reshape(4, 5)\n",
    "print(f\"{uni2da} \\n \\n{uni2db}\")"
   ]
  },
  {
   "cell_type": "code",
   "execution_count": 28,
   "id": "1306e1db",
   "metadata": {
    "execution": {
     "iopub.execute_input": "2025-07-11T14:36:13.636418Z",
     "iopub.status.busy": "2025-07-11T14:36:13.636080Z",
     "iopub.status.idle": "2025-07-11T14:36:13.672763Z",
     "shell.execute_reply": "2025-07-11T14:36:13.671598Z"
    },
    "papermill": {
     "duration": 0.049807,
     "end_time": "2025-07-11T14:36:13.674240",
     "exception": false,
     "start_time": "2025-07-11T14:36:13.624433",
     "status": "completed"
    },
    "tags": []
   },
   "outputs": [
    {
     "name": "stdout",
     "output_type": "stream",
     "text": [
      "[1.         1.41421356 1.73205081 2.        ]\n",
      "\n",
      "\n",
      "[[10.         10.24695077 10.48808848 10.72380529 10.95445115]\n",
      " [11.18033989 11.40175425 11.61895004 11.83215957 12.04159458]\n",
      " [12.24744871 12.4498996  12.64911064 12.84523258 13.03840481]\n",
      " [13.22875656 13.41640786 13.60147051 13.78404875 13.96424004]]\n",
      "\n",
      "\n",
      "[ 2.71828183  7.3890561  20.08553692 54.59815003]\n",
      "\n",
      "\n",
      "[[2.71828183e+00 4.03428793e+02 5.98741417e+04 8.88611052e+06\n",
      "  1.31881573e+09]\n",
      " [1.95729609e+11 2.90488497e+13 4.31123155e+15 6.39843494e+17\n",
      "  9.49611942e+19]\n",
      " [1.40934908e+22 2.09165950e+24 3.10429794e+26 4.60718663e+28\n",
      "  6.83767123e+30]\n",
      " [1.01480039e+33 1.50609731e+35 2.23524660e+37 3.31740010e+39\n",
      "  4.92345829e+41]]\n",
      "\n",
      "\n",
      "[0.         0.69314718 1.09861229 1.38629436]\n",
      "\n",
      "\n",
      "[[4.60517019 4.65396035 4.70048037 4.74493213 4.78749174]\n",
      " [4.82831374 4.86753445 4.90527478 4.94164242 4.97673374]\n",
      " [5.01063529 5.04342512 5.07517382 5.10594547 5.13579844]\n",
      " [5.16478597 5.19295685 5.22035583 5.24702407 5.27299956]]\n",
      "\n",
      "\n",
      "[ 0.84147098  0.90929743  0.14112001 -0.7568025 ]\n",
      "\n",
      "\n",
      "[ 0.28366219  0.96017029  0.75390225 -0.14550003]\n",
      "\n",
      "\n",
      "[[ -0.58721392   4.02780176   0.04428604  -2.90180135   0.71312301]\n",
      " [ -0.78206057   2.53233843  -0.08871576  -4.95537106   0.52920528]\n",
      " [ -1.02234624   1.79265449  -0.22490638 -15.04135305   0.36956439]\n",
      " [ -1.33860605   1.33869021  -0.36953013  15.04820623   0.22493805]]\n",
      "\n",
      "\n",
      "[1 2 8 9 0]\n",
      "\n",
      "\n",
      "[[19.2570606  19.25057793 13.73484634]\n",
      " [10.62077383 14.97996297 12.67557151]]\n",
      "[[20. 20. 14.]\n",
      " [11. 15. 13.]]\n",
      "\n",
      "\n",
      "3.0\n",
      "\n",
      "\n",
      "4.0\n",
      "\n",
      "\n",
      "[[12 16 12]\n",
      " [13 13 13]] \n",
      "[[26 26 20]\n",
      " [20 27 28]]\n",
      "\n",
      "[[26 26 20]\n",
      " [20 27 28]]\n",
      "\n",
      "[[12 16 12]\n",
      " [13 13 13]]\n",
      "\n"
     ]
    }
   ],
   "source": [
    "# square root\n",
    "\n",
    "sq1 = (np.sqrt(uni1))\n",
    "print(sq1)\n",
    "print(\"\\n\")\n",
    "\n",
    "sq2 = np.sqrt(uni2da)\n",
    "print(sq2)\n",
    "print(\"\\n\")\n",
    "\n",
    "# exponential\n",
    "\n",
    "exp1 = (np.exp(uni1)) # this exponential is not equal to power, but is Euler number (e) founded by Jacob Bernoulii, so it's e^x\n",
    "print(exp1)\n",
    "print(\"\\n\")\n",
    "\n",
    "exp2 = np.exp(uni2db)\n",
    "print(exp2)\n",
    "print(\"\\n\")\n",
    "\n",
    "#logarithm - log(x)\n",
    "\n",
    "log1 = (np.log(uni1))\n",
    "print(log1)\n",
    "print(\"\\n\")\n",
    "\n",
    "log2 = np.log(uni2da)\n",
    "print(log2)\n",
    "print(\"\\n\")\n",
    "\n",
    "# trignometric (sin, cos, tan)\n",
    "\n",
    "sin1 = (np.sin(uni1))\n",
    "print(sin1)\n",
    "print(\"\\n\")\n",
    "\n",
    "cos1 = np.cos(uni2)\n",
    "print(cos1)\n",
    "print(\"\\n\")\n",
    "\n",
    "tan1 = np.tan(uni2da)\n",
    "print(tan1)\n",
    "print(\"\\n\")\n",
    "\n",
    "# absolute (abs) Removes the negative sign from negative numbers. For complex numbers, it returns the magnitude.\n",
    "\n",
    "abs1 = np.array([-1, -2, 8, -9, 0])\n",
    "res_abs1 = np.abs(abs1)\n",
    "print(res_abs1)\n",
    "print(\"\\n\")\n",
    "\n",
    "# ceiling (.ceil) roundoffs to the nearest smallest integer greater or euqal to it, if 3.123, it will round off to 14\n",
    "\n",
    "ceil1 = np.random.uniform(10, 20, size=(2, 3)) # generates the random float numbers from 10 to 20 with 2d array\n",
    "print(ceil1)\n",
    "result = np.ceil(ceil1)\n",
    "print(result)\n",
    "print(\"\\n\")\n",
    "\n",
    "# flooring (.floor) just opposite to ceil, it will roundoff to nearest integer smaller to it. if 2.9, it will be 2\n",
    "\n",
    "floor1 = np.floor(3.1415)\n",
    "print(floor1)\n",
    "print(\"\\n\")\n",
    "\n",
    "# rounding (.round) \n",
    "\n",
    "round1 = np.round(3.657, decimals=0) # rounds off to the nearest possible integer\n",
    "print(round1)\n",
    "print(\"\\n\")\n",
    "\n",
    "# maximum and minimum, it does the element-wise ops in two arrays and find the maximum/minimum between two indexes of each array (takes two arguments and the array dimensions should be the same)\n",
    "\n",
    "max1 = np.random.randint(10, 20, size=(2,3))\n",
    "max2 = np.random.randint(20, 30, size=(2,3))\n",
    "print(f\"{max1} \\n{max2}\\n\")\n",
    "\n",
    "res1 = np.maximum(max1, max2)\n",
    "print(f\"{res1}\\n\")\n",
    "\n",
    "res2 = np.minimum(max1, max2)\n",
    "print(f\"{res2}\\n\")"
   ]
  }
 ],
 "metadata": {
  "kaggle": {
   "accelerator": "none",
   "dataSources": [],
   "dockerImageVersionId": 31040,
   "isGpuEnabled": false,
   "isInternetEnabled": false,
   "language": "python",
   "sourceType": "notebook"
  },
  "kernelspec": {
   "display_name": "Python 3",
   "language": "python",
   "name": "python3"
  },
  "language_info": {
   "codemirror_mode": {
    "name": "ipython",
    "version": 3
   },
   "file_extension": ".py",
   "mimetype": "text/x-python",
   "name": "python",
   "nbconvert_exporter": "python",
   "pygments_lexer": "ipython3",
   "version": "3.11.11"
  },
  "papermill": {
   "default_parameters": {},
   "duration": 7.729908,
   "end_time": "2025-07-11T14:36:14.104672",
   "environment_variables": {},
   "exception": null,
   "input_path": "__notebook__.ipynb",
   "output_path": "__notebook__.ipynb",
   "parameters": {},
   "start_time": "2025-07-11T14:36:06.374764",
   "version": "2.6.0"
  }
 },
 "nbformat": 4,
 "nbformat_minor": 5
}
