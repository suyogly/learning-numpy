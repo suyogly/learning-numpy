{
 "cells": [
  {
   "cell_type": "markdown",
   "id": "64a33eed",
   "metadata": {
    "papermill": {
     "duration": 0.013727,
     "end_time": "2025-07-10T14:58:15.290685",
     "exception": false,
     "start_time": "2025-07-10T14:58:15.276958",
     "status": "completed"
    },
    "tags": []
   },
   "source": [
    "# **Array Manipulation**"
   ]
  },
  {
   "cell_type": "markdown",
   "id": "1d0af99d",
   "metadata": {
    "papermill": {
     "duration": 0.006876,
     "end_time": "2025-07-10T14:58:15.304931",
     "exception": false,
     "start_time": "2025-07-10T14:58:15.298055",
     "status": "completed"
    },
    "tags": []
   },
   "source": [
    "Here, I will learn different methods of modiying the arrays while also learning about the arithmetic operations. "
   ]
  },
  {
   "cell_type": "markdown",
   "id": "00369cec",
   "metadata": {
    "papermill": {
     "duration": 0.006685,
     "end_time": "2025-07-10T14:58:15.318998",
     "exception": false,
     "start_time": "2025-07-10T14:58:15.312313",
     "status": "completed"
    },
    "tags": []
   },
   "source": [
    "## **1. Value Asignment and Conditional Updates**"
   ]
  },
  {
   "cell_type": "markdown",
   "id": "57c9e739",
   "metadata": {
    "papermill": {
     "duration": 0.006681,
     "end_time": "2025-07-10T14:58:15.332451",
     "exception": false,
     "start_time": "2025-07-10T14:58:15.325770",
     "status": "completed"
    },
    "tags": []
   },
   "source": [
    "This is fundamental because it's how you directly alter the data stored within your arrays. With three main ways:\n",
    "\n",
    "- **Direct Element Assignment**: Changing one specific value.\n",
    "- **Slice Assignment**: Changing a range of values.\n",
    "- **Boolean Mask Assignment**: Changing values based on a condition."
   ]
  },
  {
   "cell_type": "code",
   "execution_count": 1,
   "id": "299628bb",
   "metadata": {
    "execution": {
     "iopub.execute_input": "2025-07-10T14:58:15.348130Z",
     "iopub.status.busy": "2025-07-10T14:58:15.347754Z",
     "iopub.status.idle": "2025-07-10T14:58:15.355662Z",
     "shell.execute_reply": "2025-07-10T14:58:15.354720Z"
    },
    "papermill": {
     "duration": 0.017995,
     "end_time": "2025-07-10T14:58:15.357335",
     "exception": false,
     "start_time": "2025-07-10T14:58:15.339340",
     "status": "completed"
    },
    "tags": []
   },
   "outputs": [],
   "source": [
    "import numpy as np"
   ]
  },
  {
   "cell_type": "code",
   "execution_count": 2,
   "id": "f5531373",
   "metadata": {
    "execution": {
     "iopub.execute_input": "2025-07-10T14:58:15.385252Z",
     "iopub.status.busy": "2025-07-10T14:58:15.384929Z",
     "iopub.status.idle": "2025-07-10T14:58:15.390561Z",
     "shell.execute_reply": "2025-07-10T14:58:15.389632Z"
    },
    "papermill": {
     "duration": 0.021357,
     "end_time": "2025-07-10T14:58:15.392187",
     "exception": false,
     "start_time": "2025-07-10T14:58:15.370830",
     "status": "completed"
    },
    "tags": []
   },
   "outputs": [],
   "source": [
    "assign_1d = np.array([10, 20, 30, 40, 50, 60, 70, 80, 90, 100]) #1d array\n",
    "\n",
    "assign_2d = np.array([ #2d array\n",
    "    [1, 2, 3, 4],\n",
    "    [5, 6, 7, 8],\n",
    "    [9, 10, 11, 12]\n",
    "])\n",
    "\n",
    "assign_3d = np.array([ #3d array\n",
    "    [[100, 200, 300],\n",
    "        [400, 500, 600]],\n",
    "\n",
    "    [[719, 819, 919],\n",
    "    [1019, 1119, 1129]]\n",
    "])"
   ]
  },
  {
   "cell_type": "markdown",
   "id": "2447a0cd",
   "metadata": {
    "papermill": {
     "duration": 0.007818,
     "end_time": "2025-07-10T14:58:15.413460",
     "exception": false,
     "start_time": "2025-07-10T14:58:15.405642",
     "status": "completed"
    },
    "tags": []
   },
   "source": [
    "### **Direct Element Assignment**"
   ]
  },
  {
   "cell_type": "markdown",
   "id": "d0930b76",
   "metadata": {
    "papermill": {
     "duration": 0.006856,
     "end_time": "2025-07-10T14:58:15.427402",
     "exception": false,
     "start_time": "2025-07-10T14:58:15.420546",
     "status": "completed"
    },
    "tags": []
   },
   "source": [
    "Changing one specific value"
   ]
  },
  {
   "cell_type": "code",
   "execution_count": 3,
   "id": "0c7605f1",
   "metadata": {
    "execution": {
     "iopub.execute_input": "2025-07-10T14:58:15.443007Z",
     "iopub.status.busy": "2025-07-10T14:58:15.442706Z",
     "iopub.status.idle": "2025-07-10T14:58:15.451868Z",
     "shell.execute_reply": "2025-07-10T14:58:15.450922Z"
    },
    "papermill": {
     "duration": 0.018869,
     "end_time": "2025-07-10T14:58:15.453556",
     "exception": false,
     "start_time": "2025-07-10T14:58:15.434687",
     "status": "completed"
    },
    "tags": []
   },
   "outputs": [
    {
     "data": {
      "text/plain": [
       "array([[[ 100,  200,  300],\n",
       "        [ 400,  500,    1]],\n",
       "\n",
       "       [[ 719,  819,  919],\n",
       "        [1019, 1119, 1129]]])"
      ]
     },
     "execution_count": 3,
     "metadata": {},
     "output_type": "execute_result"
    }
   ],
   "source": [
    "# this is easy, same as we did in indexing\n",
    "\n",
    "assign_1d [7] = 999 # changes the 7th index or 8th element -> from 80 to 999\n",
    "assign_1d\n",
    "\n",
    "assign_2d [1, -1] = 918 # changes the last element of the 2nd row -> from 8 to 918\n",
    "assign_2d\n",
    "\n",
    "assign_3d [0, 1, 2] = 1 # changes the 3rd element located in second row of 1st slice -> from 600 to 1\n",
    "assign_3d"
   ]
  },
  {
   "cell_type": "markdown",
   "id": "71ab0108",
   "metadata": {
    "papermill": {
     "duration": 0.007086,
     "end_time": "2025-07-10T14:58:15.468058",
     "exception": false,
     "start_time": "2025-07-10T14:58:15.460972",
     "status": "completed"
    },
    "tags": []
   },
   "source": [
    "### **Slice Assignment**"
   ]
  },
  {
   "cell_type": "markdown",
   "id": "a25cf457",
   "metadata": {
    "papermill": {
     "duration": 0.006945,
     "end_time": "2025-07-10T14:58:15.482189",
     "exception": false,
     "start_time": "2025-07-10T14:58:15.475244",
     "status": "completed"
    },
    "tags": []
   },
   "source": [
    "What if we want to change the multiple values at once? Like entire rows or from x-index to y-index?"
   ]
  },
  {
   "cell_type": "code",
   "execution_count": 4,
   "id": "e9646587",
   "metadata": {
    "execution": {
     "iopub.execute_input": "2025-07-10T14:58:15.497747Z",
     "iopub.status.busy": "2025-07-10T14:58:15.497451Z",
     "iopub.status.idle": "2025-07-10T14:58:15.503109Z",
     "shell.execute_reply": "2025-07-10T14:58:15.502288Z"
    },
    "papermill": {
     "duration": 0.015,
     "end_time": "2025-07-10T14:58:15.504434",
     "exception": false,
     "start_time": "2025-07-10T14:58:15.489434",
     "status": "completed"
    },
    "tags": []
   },
   "outputs": [
    {
     "name": "stdout",
     "output_type": "stream",
     "text": [
      "1d: [ 10  20  30  40  50  60  70 999  90 100]\n",
      "2d: [[  1   2   3   4]\n",
      " [  5   6   7 918]\n",
      " [  9  10  11  12]]\n",
      "3d: [[[ 100  200  300]\n",
      "  [ 400  500    1]]\n",
      "\n",
      " [[ 719  819  919]\n",
      "  [1019 1119 1129]]]\n"
     ]
    }
   ],
   "source": [
    "print(f\"1d: {assign_1d}\")\n",
    "print(f\"2d: {assign_2d}\")\n",
    "print(f\"3d: {assign_3d}\")"
   ]
  },
  {
   "cell_type": "code",
   "execution_count": 5,
   "id": "f615a322",
   "metadata": {
    "execution": {
     "iopub.execute_input": "2025-07-10T14:58:15.520313Z",
     "iopub.status.busy": "2025-07-10T14:58:15.519925Z",
     "iopub.status.idle": "2025-07-10T14:58:15.528276Z",
     "shell.execute_reply": "2025-07-10T14:58:15.527251Z"
    },
    "papermill": {
     "duration": 0.018146,
     "end_time": "2025-07-10T14:58:15.529819",
     "exception": false,
     "start_time": "2025-07-10T14:58:15.511673",
     "status": "completed"
    },
    "tags": []
   },
   "outputs": [
    {
     "data": {
      "text/plain": [
       "array([[[ 100,  200,  300],\n",
       "        [   1,    1,    1]],\n",
       "\n",
       "       [[ 719,  819,  919],\n",
       "        [1019, 1119, 1129]]])"
      ]
     },
     "execution_count": 5,
     "metadata": {},
     "output_type": "execute_result"
    }
   ],
   "source": [
    "# this is same as i read on slicing in reading-array\n",
    "\n",
    "assign_1d [0:3] = 39 # gives updated array with changed value of 39 in index 1, 2 and 3\n",
    "assign_1d\n",
    "\n",
    "assign_2d [:, 2] = 44 # gives updated array with changed value of 44 in 2nd index of all rows\n",
    "assign_2d\n",
    "\n",
    "assign_3d [0, 1, 0:2] = [1, 1] # changed value of [1, 1] in 0 and 1 index of 2nd row of 1st slice\n",
    "assign_3d"
   ]
  },
  {
   "cell_type": "markdown",
   "id": "bc33d4ab",
   "metadata": {
    "papermill": {
     "duration": 0.007249,
     "end_time": "2025-07-10T14:58:15.544464",
     "exception": false,
     "start_time": "2025-07-10T14:58:15.537215",
     "status": "completed"
    },
    "tags": []
   },
   "source": [
    "### **Boolean Mask Assignment**"
   ]
  },
  {
   "cell_type": "markdown",
   "id": "41c44a6d",
   "metadata": {
    "papermill": {
     "duration": 0.007109,
     "end_time": "2025-07-10T14:58:15.559054",
     "exception": false,
     "start_time": "2025-07-10T14:58:15.551945",
     "status": "completed"
    },
    "tags": []
   },
   "source": [
    "Changing values based on a condition."
   ]
  },
  {
   "cell_type": "code",
   "execution_count": 6,
   "id": "f13fac7d",
   "metadata": {
    "execution": {
     "iopub.execute_input": "2025-07-10T14:58:15.575891Z",
     "iopub.status.busy": "2025-07-10T14:58:15.575100Z",
     "iopub.status.idle": "2025-07-10T14:58:15.581767Z",
     "shell.execute_reply": "2025-07-10T14:58:15.580635Z"
    },
    "papermill": {
     "duration": 0.016449,
     "end_time": "2025-07-10T14:58:15.583174",
     "exception": false,
     "start_time": "2025-07-10T14:58:15.566725",
     "status": "completed"
    },
    "tags": []
   },
   "outputs": [
    {
     "name": "stdout",
     "output_type": "stream",
     "text": [
      "1d: [ 39  39  39  40  50  60  70 999  90 100]\n",
      "2d: [[  1   2  44   4]\n",
      " [  5   6  44 918]\n",
      " [  9  10  44  12]]\n",
      "3d: [[[ 100  200  300]\n",
      "  [   1    1    1]]\n",
      "\n",
      " [[ 719  819  919]\n",
      "  [1019 1119 1129]]]\n"
     ]
    }
   ],
   "source": [
    "print(f\"1d: {assign_1d}\")\n",
    "print(f\"2d: {assign_2d}\")\n",
    "print(f\"3d: {assign_3d}\")"
   ]
  },
  {
   "cell_type": "code",
   "execution_count": 7,
   "id": "ae82871d",
   "metadata": {
    "execution": {
     "iopub.execute_input": "2025-07-10T14:58:15.600514Z",
     "iopub.status.busy": "2025-07-10T14:58:15.600123Z",
     "iopub.status.idle": "2025-07-10T14:58:15.611530Z",
     "shell.execute_reply": "2025-07-10T14:58:15.610603Z"
    },
    "papermill": {
     "duration": 0.021707,
     "end_time": "2025-07-10T14:58:15.612927",
     "exception": false,
     "start_time": "2025-07-10T14:58:15.591220",
     "status": "completed"
    },
    "tags": []
   },
   "outputs": [
    {
     "data": {
      "text/plain": [
       "array([[1, 1, 1, 1],\n",
       "       [1, 1, 1, 1],\n",
       "       [1, 1, 1, 1]])"
      ]
     },
     "execution_count": 7,
     "metadata": {},
     "output_type": "execute_result"
    }
   ],
   "source": [
    "# this is also same as boolean indexing i read\n",
    "\n",
    "assign_1d [assign_1d != 39] = 0\n",
    "assign_1d\n",
    "\n",
    "assign_2d [(assign_2d [1, 2] > 20) & (assign_2d [-1, 1] < 10)] = 0\n",
    "assign_2d\n",
    "\n",
    "assign_2d [(assign_2d [:, 2] == 0) | (assign_2d [:, 2] < 50)] = 1\n",
    "assign_2d"
   ]
  },
  {
   "cell_type": "markdown",
   "id": "7f3d5c0c",
   "metadata": {
    "papermill": {
     "duration": 0.007572,
     "end_time": "2025-07-10T14:58:15.695612",
     "exception": false,
     "start_time": "2025-07-10T14:58:15.688040",
     "status": "completed"
    },
    "tags": []
   },
   "source": [
    "## **2. Reshaping and Dimension Manipulation**"
   ]
  },
  {
   "cell_type": "markdown",
   "id": "71cc6001",
   "metadata": {
    "papermill": {
     "duration": 0.007354,
     "end_time": "2025-07-10T14:58:15.710552",
     "exception": false,
     "start_time": "2025-07-10T14:58:15.703198",
     "status": "completed"
    },
    "tags": []
   },
   "source": [
    "- changing an array's shape and flattening the arr >= 2 to 1d array\n",
    "- adding new dimension/s\n",
    "- transposing"
   ]
  },
  {
   "cell_type": "markdown",
   "id": "3acc4e27",
   "metadata": {
    "papermill": {
     "duration": 0.007408,
     "end_time": "2025-07-10T14:58:15.725523",
     "exception": false,
     "start_time": "2025-07-10T14:58:15.718115",
     "status": "completed"
    },
    "tags": []
   },
   "source": [
    "### **Changing Array Shape**"
   ]
  },
  {
   "cell_type": "code",
   "execution_count": 8,
   "id": "ac501dbf",
   "metadata": {
    "execution": {
     "iopub.execute_input": "2025-07-10T14:58:15.741453Z",
     "iopub.status.busy": "2025-07-10T14:58:15.741098Z",
     "iopub.status.idle": "2025-07-10T14:58:15.747373Z",
     "shell.execute_reply": "2025-07-10T14:58:15.746413Z"
    },
    "papermill": {
     "duration": 0.016165,
     "end_time": "2025-07-10T14:58:15.749011",
     "exception": false,
     "start_time": "2025-07-10T14:58:15.732846",
     "status": "completed"
    },
    "tags": []
   },
   "outputs": [
    {
     "name": "stdout",
     "output_type": "stream",
     "text": [
      "[ 0  1  2  3  4  5  6  7  8  9 10 11 12 13 14 15 16 17 18 19 20 21 22 23]\n",
      "[[ 0  1  2  3  4  5]\n",
      " [ 6  7  8  9 10 11]\n",
      " [12 13 14 15 16 17]\n",
      " [18 19 20 21 22 23]]\n",
      "[[[ 0  1  2  3]\n",
      "  [ 4  5  6  7]\n",
      "  [ 8  9 10 11]]\n",
      "\n",
      " [[12 13 14 15]\n",
      "  [16 17 18 19]\n",
      "  [20 21 22 23]]]\n"
     ]
    }
   ],
   "source": [
    "arr_1d = np.arange(24) # 1d array from 0 to 23\n",
    "arr_2d = np.arange(24).reshape(4, 6) # 2d array with 4 rows and 6 comlumns each from 0 to 23\n",
    "arr_3d = np.arange(24).reshape(2, 3, 4) # 3d array with 2 slices, 3 rows each and 4 columns\n",
    "\n",
    "print(arr_1d)\n",
    "print(arr_2d)\n",
    "print(arr_3d)"
   ]
  },
  {
   "cell_type": "code",
   "execution_count": 9,
   "id": "0220d292",
   "metadata": {
    "execution": {
     "iopub.execute_input": "2025-07-10T14:58:15.765488Z",
     "iopub.status.busy": "2025-07-10T14:58:15.765172Z",
     "iopub.status.idle": "2025-07-10T14:58:15.772238Z",
     "shell.execute_reply": "2025-07-10T14:58:15.771370Z"
    },
    "papermill": {
     "duration": 0.017228,
     "end_time": "2025-07-10T14:58:15.773941",
     "exception": false,
     "start_time": "2025-07-10T14:58:15.756713",
     "status": "completed"
    },
    "tags": []
   },
   "outputs": [
    {
     "data": {
      "text/plain": [
       "array([[[ 0,  1],\n",
       "        [ 2,  3],\n",
       "        [ 4,  5]],\n",
       "\n",
       "       [[ 6,  7],\n",
       "        [ 8,  9],\n",
       "        [10, 11]],\n",
       "\n",
       "       [[12, 13],\n",
       "        [14, 15],\n",
       "        [16, 17]],\n",
       "\n",
       "       [[18, 19],\n",
       "        [20, 21],\n",
       "        [22, 23]]])"
      ]
     },
     "execution_count": 9,
     "metadata": {},
     "output_type": "execute_result"
    }
   ],
   "source": [
    "# changing the shape of 1d array to 2d and 3d array\n",
    "\n",
    "# using .reshape()\n",
    "\n",
    "one_2d = arr_1d.reshape(2, 12) # 2 rows, 12 columns each\n",
    "one_2d\n",
    "\n",
    "one_2d_1 = arr_1d.reshape(3, 8) # 3 rows, 8 columns each\n",
    "one_2d_1\n",
    "\n",
    "one_2d_2 = arr_1d.reshape(12, 2) # 12 rows, 2 columns each\n",
    "one_2d_2\n",
    "\n",
    "one_3d = arr_1d.reshape(2, 4, 3) # 2 slices, 4 rows each with 3 columns\n",
    "one_3d\n",
    "\n",
    "one_3d_1 = arr_1d.reshape(4, 3, 2) # 4 slices, 3 rows each with 2 columns\n",
    "one_3d_1"
   ]
  },
  {
   "cell_type": "code",
   "execution_count": 10,
   "id": "78bd10de",
   "metadata": {
    "execution": {
     "iopub.execute_input": "2025-07-10T14:58:15.796488Z",
     "iopub.status.busy": "2025-07-10T14:58:15.796172Z",
     "iopub.status.idle": "2025-07-10T14:58:15.803084Z",
     "shell.execute_reply": "2025-07-10T14:58:15.802104Z"
    },
    "papermill": {
     "duration": 0.017105,
     "end_time": "2025-07-10T14:58:15.804600",
     "exception": false,
     "start_time": "2025-07-10T14:58:15.787495",
     "status": "completed"
    },
    "tags": []
   },
   "outputs": [
    {
     "data": {
      "text/plain": [
       "array([ 0,  1,  2,  3,  4,  5,  6,  7,  8,  9, 10, 11, 12, 13, 14, 15, 16,\n",
       "       17, 18, 19, 20, 21, 22, 23])"
      ]
     },
     "execution_count": 10,
     "metadata": {},
     "output_type": "execute_result"
    }
   ],
   "source": [
    "# 2d to 3d and 1d\n",
    "\n",
    "two_3d = arr_2d.reshape(3, 4, 2)\n",
    "two_3d\n",
    "\n",
    "two_3d_1 = arr_2d.reshape(6, 2, 2)\n",
    "two_3d_1\n",
    "\n",
    "# 2d to 1d\n",
    "\n",
    "# we can use either .ravel() or .flatten() or .reshape(-1)\n",
    "\n",
    "two_1d = arr_2d.ravel()\n",
    "two_1d\n",
    "\n",
    "two_1d_1 = arr_2d.flatten()\n",
    "two_1d_1\n",
    "\n",
    "two_1d_2 = arr_2d.reshape(-1)\n",
    "two_1d_2"
   ]
  },
  {
   "cell_type": "code",
   "execution_count": 11,
   "id": "b2ec5068",
   "metadata": {
    "execution": {
     "iopub.execute_input": "2025-07-10T14:58:15.821596Z",
     "iopub.status.busy": "2025-07-10T14:58:15.821267Z",
     "iopub.status.idle": "2025-07-10T14:58:15.828044Z",
     "shell.execute_reply": "2025-07-10T14:58:15.827139Z"
    },
    "papermill": {
     "duration": 0.017223,
     "end_time": "2025-07-10T14:58:15.829740",
     "exception": false,
     "start_time": "2025-07-10T14:58:15.812517",
     "status": "completed"
    },
    "tags": []
   },
   "outputs": [
    {
     "data": {
      "text/plain": [
       "array([ 0,  1,  2,  3,  4,  5,  6,  7,  8,  9, 10, 11, 12, 13, 14, 15, 16,\n",
       "       17, 18, 19, 20, 21, 22, 23])"
      ]
     },
     "execution_count": 11,
     "metadata": {},
     "output_type": "execute_result"
    }
   ],
   "source": [
    "# 3d to 2d\n",
    "\n",
    "three_2d = arr_3d.reshape(6, 4)\n",
    "three_2d\n",
    "\n",
    "three_2d_1 = arr_3d.reshape(4, 6)\n",
    "three_2d_1\n",
    "\n",
    "# 3d to 1d\n",
    "\n",
    "three_1d = arr_3d.reshape(-1)\n",
    "three_1d\n",
    "\n",
    "# we can also use .ravel and .flatten"
   ]
  },
  {
   "cell_type": "markdown",
   "id": "d4351ac7",
   "metadata": {
    "papermill": {
     "duration": 0.010598,
     "end_time": "2025-07-10T14:58:15.855196",
     "exception": false,
     "start_time": "2025-07-10T14:58:15.844598",
     "status": "completed"
    },
    "tags": []
   },
   "source": [
    "### **Adding new Dimensions**"
   ]
  },
  {
   "cell_type": "code",
   "execution_count": 12,
   "id": "c0453336",
   "metadata": {
    "execution": {
     "iopub.execute_input": "2025-07-10T14:58:15.873443Z",
     "iopub.status.busy": "2025-07-10T14:58:15.872621Z",
     "iopub.status.idle": "2025-07-10T14:58:15.877613Z",
     "shell.execute_reply": "2025-07-10T14:58:15.876777Z"
    },
    "papermill": {
     "duration": 0.015988,
     "end_time": "2025-07-10T14:58:15.879308",
     "exception": false,
     "start_time": "2025-07-10T14:58:15.863320",
     "status": "completed"
    },
    "tags": []
   },
   "outputs": [],
   "source": [
    "newd_1d = np.arange(24) # 1d array from 0 to 23\n",
    "newd_2d = np.arange(24).reshape(4, 6) # 2d array with 4 rows and 6 comlumns each from 0 to 23\n",
    "newd_3d = np.arange(24).reshape(2, 3, 4) # 3d array with 2 slices, 3 rows each and 4 columns"
   ]
  },
  {
   "cell_type": "code",
   "execution_count": 13,
   "id": "017a4742",
   "metadata": {
    "execution": {
     "iopub.execute_input": "2025-07-10T14:58:15.896772Z",
     "iopub.status.busy": "2025-07-10T14:58:15.896472Z",
     "iopub.status.idle": "2025-07-10T14:58:15.902993Z",
     "shell.execute_reply": "2025-07-10T14:58:15.902131Z"
    },
    "papermill": {
     "duration": 0.016971,
     "end_time": "2025-07-10T14:58:15.904391",
     "exception": false,
     "start_time": "2025-07-10T14:58:15.887420",
     "status": "completed"
    },
    "tags": []
   },
   "outputs": [
    {
     "data": {
      "text/plain": [
       "array([[ 0],\n",
       "       [ 1],\n",
       "       [ 2],\n",
       "       [ 3],\n",
       "       [ 4],\n",
       "       [ 5],\n",
       "       [ 6],\n",
       "       [ 7],\n",
       "       [ 8],\n",
       "       [ 9],\n",
       "       [10],\n",
       "       [11],\n",
       "       [12],\n",
       "       [13],\n",
       "       [14],\n",
       "       [15],\n",
       "       [16],\n",
       "       [17],\n",
       "       [18],\n",
       "       [19],\n",
       "       [20],\n",
       "       [21],\n",
       "       [22],\n",
       "       [23]])"
      ]
     },
     "execution_count": 13,
     "metadata": {},
     "output_type": "execute_result"
    }
   ],
   "source": [
    "# adding new dimension in 1d array, which will make it 2d\n",
    "\n",
    "newd_as_row = newd_1d[None, :]\n",
    "newd_as_row\n",
    "\n",
    "newd_as_col = newd_1d[:, np.newaxis]\n",
    "newd_as_col"
   ]
  },
  {
   "cell_type": "code",
   "execution_count": 14,
   "id": "2c8ddec6",
   "metadata": {
    "execution": {
     "iopub.execute_input": "2025-07-10T14:58:15.921589Z",
     "iopub.status.busy": "2025-07-10T14:58:15.921240Z",
     "iopub.status.idle": "2025-07-10T14:58:15.927454Z",
     "shell.execute_reply": "2025-07-10T14:58:15.926632Z"
    },
    "papermill": {
     "duration": 0.016429,
     "end_time": "2025-07-10T14:58:15.928934",
     "exception": false,
     "start_time": "2025-07-10T14:58:15.912505",
     "status": "completed"
    },
    "tags": []
   },
   "outputs": [
    {
     "data": {
      "text/plain": [
       "array([[[ 0],\n",
       "        [ 1],\n",
       "        [ 2],\n",
       "        [ 3],\n",
       "        [ 4],\n",
       "        [ 5]],\n",
       "\n",
       "       [[ 6],\n",
       "        [ 7],\n",
       "        [ 8],\n",
       "        [ 9],\n",
       "        [10],\n",
       "        [11]],\n",
       "\n",
       "       [[12],\n",
       "        [13],\n",
       "        [14],\n",
       "        [15],\n",
       "        [16],\n",
       "        [17]],\n",
       "\n",
       "       [[18],\n",
       "        [19],\n",
       "        [20],\n",
       "        [21],\n",
       "        [22],\n",
       "        [23]]])"
      ]
     },
     "execution_count": 14,
     "metadata": {},
     "output_type": "execute_result"
    }
   ],
   "source": [
    "# adding new dimension in 2d array, which will make it 3d\n",
    "\n",
    "newd_in_2d_as_row = newd_2d[None, :, :]\n",
    "newd_in_2d_as_row\n",
    "\n",
    "newd_in_2d_as_col = newd_2d[:, :, np.newaxis]\n",
    "newd_in_2d_as_col\n",
    "\n",
    "# same for 3d "
   ]
  },
  {
   "cell_type": "markdown",
   "id": "b359f108",
   "metadata": {
    "papermill": {
     "duration": 0.010291,
     "end_time": "2025-07-10T14:58:15.947442",
     "exception": false,
     "start_time": "2025-07-10T14:58:15.937151",
     "status": "completed"
    },
    "tags": []
   },
   "source": [
    "### **Transposing**"
   ]
  },
  {
   "cell_type": "code",
   "execution_count": 15,
   "id": "b6f9e111",
   "metadata": {
    "execution": {
     "iopub.execute_input": "2025-07-10T14:58:15.964750Z",
     "iopub.status.busy": "2025-07-10T14:58:15.964456Z",
     "iopub.status.idle": "2025-07-10T14:58:15.972473Z",
     "shell.execute_reply": "2025-07-10T14:58:15.971747Z"
    },
    "papermill": {
     "duration": 0.018233,
     "end_time": "2025-07-10T14:58:15.973791",
     "exception": false,
     "start_time": "2025-07-10T14:58:15.955558",
     "status": "completed"
    },
    "tags": []
   },
   "outputs": [
    {
     "data": {
      "text/plain": [
       "array([[[ 0, 12],\n",
       "        [ 3, 15],\n",
       "        [ 6, 18],\n",
       "        [ 9, 21]],\n",
       "\n",
       "       [[ 1, 13],\n",
       "        [ 4, 16],\n",
       "        [ 7, 19],\n",
       "        [10, 22]],\n",
       "\n",
       "       [[ 2, 14],\n",
       "        [ 5, 17],\n",
       "        [ 8, 20],\n",
       "        [11, 23]]])"
      ]
     },
     "execution_count": 15,
     "metadata": {},
     "output_type": "execute_result"
    }
   ],
   "source": [
    "# .T, which transposes the order of axes, rows element to column and vice versa (applies to arr > 1)\n",
    "t_2d = np.arange(24).reshape(4, 6)\n",
    "t_2d.shape\n",
    "t_2d.T.shape # -> from (4,6) to (6,4)\n",
    "\n",
    "t_3d = np.arange(24).reshape(2, 4, 3)\n",
    "t_3d.T # from (2, 4, 3) to (3, 4, 2)"
   ]
  },
  {
   "cell_type": "code",
   "execution_count": 16,
   "id": "5384f43c",
   "metadata": {
    "execution": {
     "iopub.execute_input": "2025-07-10T14:58:15.991402Z",
     "iopub.status.busy": "2025-07-10T14:58:15.991066Z",
     "iopub.status.idle": "2025-07-10T14:58:15.998298Z",
     "shell.execute_reply": "2025-07-10T14:58:15.997496Z"
    },
    "papermill": {
     "duration": 0.017542,
     "end_time": "2025-07-10T14:58:15.999667",
     "exception": false,
     "start_time": "2025-07-10T14:58:15.982125",
     "status": "completed"
    },
    "tags": []
   },
   "outputs": [
    {
     "name": "stdout",
     "output_type": "stream",
     "text": [
      "[[[ 0  1  2]\n",
      "  [ 3  4  5]\n",
      "  [ 6  7  8]\n",
      "  [ 9 10 11]]\n",
      "\n",
      " [[12 13 14]\n",
      "  [15 16 17]\n",
      "  [18 19 20]\n",
      "  [21 22 23]]]\n"
     ]
    },
    {
     "data": {
      "text/plain": [
       "array([[[ 0,  3,  6,  9],\n",
       "        [ 1,  4,  7, 10],\n",
       "        [ 2,  5,  8, 11]],\n",
       "\n",
       "       [[12, 15, 18, 21],\n",
       "        [13, 16, 19, 22],\n",
       "        [14, 17, 20, 23]]])"
      ]
     },
     "execution_count": 16,
     "metadata": {},
     "output_type": "execute_result"
    }
   ],
   "source": [
    "# .transpose, flexible than .T\n",
    "\n",
    "transpose_3d = np.arange(24).reshape(2, 4, 3)\n",
    "print(transpose_3d)\n",
    "\n",
    "new = np.transpose(transpose_3d, axes=(0, 2, 1)) # keep the slices of same number, exchange the number of rows and columns with each other\n",
    "new"
   ]
  },
  {
   "cell_type": "markdown",
   "id": "c8c1f665",
   "metadata": {
    "papermill": {
     "duration": 0.007877,
     "end_time": "2025-07-10T14:58:16.015797",
     "exception": false,
     "start_time": "2025-07-10T14:58:16.007920",
     "status": "completed"
    },
    "tags": []
   },
   "source": [
    "## **3. Array Combination and Alteration**"
   ]
  },
  {
   "cell_type": "markdown",
   "id": "1c20873f",
   "metadata": {
    "papermill": {
     "duration": 0.007998,
     "end_time": "2025-07-10T14:58:16.032050",
     "exception": false,
     "start_time": "2025-07-10T14:58:16.024052",
     "status": "completed"
    },
    "tags": []
   },
   "source": [
    "Focuses on operations that change the size or number of elements in your arrays by combining multiple arrays, or by adding/removing elements. Topics included are:\n",
    "\n",
    "- Concatenation\n",
    "- Vertical Stacking\n",
    "- Horizontal Stacking\n",
    "- adding elements"
   ]
  },
  {
   "cell_type": "markdown",
   "id": "c067b1d7",
   "metadata": {
    "papermill": {
     "duration": 0.008378,
     "end_time": "2025-07-10T14:58:16.048441",
     "exception": false,
     "start_time": "2025-07-10T14:58:16.040063",
     "status": "completed"
    },
    "tags": []
   },
   "source": [
    "### **Concatenation**"
   ]
  },
  {
   "cell_type": "markdown",
   "id": "0cbd7625",
   "metadata": {
    "papermill": {
     "duration": 0.00805,
     "end_time": "2025-07-10T14:58:16.064827",
     "exception": false,
     "start_time": "2025-07-10T14:58:16.056777",
     "status": "completed"
    },
    "tags": []
   },
   "source": [
    "Basically, to add multiple arrays in one single array we use np.concatenate(). But where to add the array if it's multi-dimensional? As row, as column, as slice? That's why we use axes(0, 1, 2, ..., n). But, axes are always not similar in all nd-arrays. For example, for 2d array row is axis-0 where was for 3d arrays it's axis-1.\n",
    "\n",
    "Simply put, axis-0 is always the first dimension for that array. Remember? When we used to slice?\n",
    "For 3-d array we used to say, [x-slice] [y-row] [z-column], we are saying [axis-0] [axis-1] [axis-2]"
   ]
  },
  {
   "cell_type": "code",
   "execution_count": 17,
   "id": "870c4248",
   "metadata": {
    "execution": {
     "iopub.execute_input": "2025-07-10T14:58:16.083248Z",
     "iopub.status.busy": "2025-07-10T14:58:16.082243Z",
     "iopub.status.idle": "2025-07-10T14:58:16.089586Z",
     "shell.execute_reply": "2025-07-10T14:58:16.088543Z"
    },
    "papermill": {
     "duration": 0.018062,
     "end_time": "2025-07-10T14:58:16.091057",
     "exception": false,
     "start_time": "2025-07-10T14:58:16.072995",
     "status": "completed"
    },
    "tags": []
   },
   "outputs": [
    {
     "name": "stdout",
     "output_type": "stream",
     "text": [
      "[0 1 2 3 4 5]\n",
      "[[ 0  1  2]\n",
      " [ 3  4  5]\n",
      " [ 6  7  8]\n",
      " [ 9 10 11]]\n",
      "[[[ 0  1  2  3]\n",
      "  [ 4  5  6  7]]\n",
      "\n",
      " [[ 8  9 10 11]\n",
      "  [12 13 14 15]]\n",
      "\n",
      " [[16 17 18 19]\n",
      "  [20 21 22 23]]]\n"
     ]
    }
   ],
   "source": [
    "x = np.arange(0, 6)\n",
    "y = np.arange(0, 12).reshape(4, 3)\n",
    "z = np.arange(0, 24).reshape(3, 2, 4)\n",
    "\n",
    "print(x)\n",
    "print(y)\n",
    "print(z)\n",
    "\n",
    "a = np.array([1, 2, 3, 4, 5])\n",
    "b = np.array([[9, 9, 9, 9]])\n",
    "c = np.array([100, 100, 100])\n",
    "d = np.array([\n",
    "    [69],\n",
    "    [69],\n",
    "    [69],\n",
    "    [69],\n",
    "])\n"
   ]
  },
  {
   "cell_type": "code",
   "execution_count": 18,
   "id": "683ed4de",
   "metadata": {
    "execution": {
     "iopub.execute_input": "2025-07-10T14:58:16.109341Z",
     "iopub.status.busy": "2025-07-10T14:58:16.109043Z",
     "iopub.status.idle": "2025-07-10T14:58:16.115550Z",
     "shell.execute_reply": "2025-07-10T14:58:16.114505Z"
    },
    "papermill": {
     "duration": 0.017363,
     "end_time": "2025-07-10T14:58:16.116944",
     "exception": false,
     "start_time": "2025-07-10T14:58:16.099581",
     "status": "completed"
    },
    "tags": []
   },
   "outputs": [
    {
     "data": {
      "text/plain": [
       "array([0, 1, 2, 3, 4, 5, 1, 2, 3, 4, 5])"
      ]
     },
     "execution_count": 18,
     "metadata": {},
     "output_type": "execute_result"
    }
   ],
   "source": [
    "x_concat = np.concatenate((x, a))\n",
    "x_concat\n",
    "\n",
    "# y_axis0 = np.concatenate((y, c), axis = 0) # it shows error. because we used 1d array to concatenate with 2d array. hmm interesting i am making such mistakes\n",
    "# y_axis0"
   ]
  },
  {
   "cell_type": "code",
   "execution_count": 19,
   "id": "62998de9",
   "metadata": {
    "execution": {
     "iopub.execute_input": "2025-07-10T14:58:16.135457Z",
     "iopub.status.busy": "2025-07-10T14:58:16.135110Z",
     "iopub.status.idle": "2025-07-10T14:58:16.142053Z",
     "shell.execute_reply": "2025-07-10T14:58:16.141071Z"
    },
    "papermill": {
     "duration": 0.017921,
     "end_time": "2025-07-10T14:58:16.143669",
     "exception": false,
     "start_time": "2025-07-10T14:58:16.125748",
     "status": "completed"
    },
    "tags": []
   },
   "outputs": [
    {
     "data": {
      "text/plain": [
       "array([[  0,   1,   2],\n",
       "       [  3,   4,   5],\n",
       "       [  6,   7,   8],\n",
       "       [  9,  10,  11],\n",
       "       [100, 100, 100]])"
      ]
     },
     "execution_count": 19,
     "metadata": {},
     "output_type": "execute_result"
    }
   ],
   "source": [
    "c = np.array([[100, 100, 100]])\n",
    "\n",
    "y_axis0 = np.concatenate((y, c), axis=0) # add a row \n",
    "y_axis0"
   ]
  },
  {
   "cell_type": "code",
   "execution_count": 20,
   "id": "c0a9a817",
   "metadata": {
    "execution": {
     "iopub.execute_input": "2025-07-10T14:58:16.162553Z",
     "iopub.status.busy": "2025-07-10T14:58:16.161847Z",
     "iopub.status.idle": "2025-07-10T14:58:16.168238Z",
     "shell.execute_reply": "2025-07-10T14:58:16.167060Z"
    },
    "papermill": {
     "duration": 0.017242,
     "end_time": "2025-07-10T14:58:16.169684",
     "exception": false,
     "start_time": "2025-07-10T14:58:16.152442",
     "status": "completed"
    },
    "tags": []
   },
   "outputs": [
    {
     "data": {
      "text/plain": [
       "array([[ 0,  1,  2, 69],\n",
       "       [ 3,  4,  5, 69],\n",
       "       [ 6,  7,  8, 69],\n",
       "       [ 9, 10, 11, 69]])"
      ]
     },
     "execution_count": 20,
     "metadata": {},
     "output_type": "execute_result"
    }
   ],
   "source": [
    "y_axis1 = np.concatenate((y, d), axis=1) # add a column\n",
    "y_axis1"
   ]
  },
  {
   "cell_type": "markdown",
   "id": "231a8d69",
   "metadata": {
    "papermill": {
     "duration": 0.008557,
     "end_time": "2025-07-10T14:58:16.187168",
     "exception": false,
     "start_time": "2025-07-10T14:58:16.178611",
     "status": "completed"
    },
    "tags": []
   },
   "source": [
    "### **Vertical Stacking (.vstack)**"
   ]
  },
  {
   "cell_type": "markdown",
   "id": "ff18c8fa",
   "metadata": {
    "papermill": {
     "duration": 0.008802,
     "end_time": "2025-07-10T14:58:16.205147",
     "exception": false,
     "start_time": "2025-07-10T14:58:16.196345",
     "status": "completed"
    },
    "tags": []
   },
   "source": [
    "It's just the specialized and concise version of np.concatenate((arr, arr2), axis=0) for 2d arrays"
   ]
  },
  {
   "cell_type": "code",
   "execution_count": 21,
   "id": "d7b5d28b",
   "metadata": {
    "execution": {
     "iopub.execute_input": "2025-07-10T14:58:16.223606Z",
     "iopub.status.busy": "2025-07-10T14:58:16.223276Z",
     "iopub.status.idle": "2025-07-10T14:58:16.227931Z",
     "shell.execute_reply": "2025-07-10T14:58:16.226940Z"
    },
    "papermill": {
     "duration": 0.015673,
     "end_time": "2025-07-10T14:58:16.229545",
     "exception": false,
     "start_time": "2025-07-10T14:58:16.213872",
     "status": "completed"
    },
    "tags": []
   },
   "outputs": [],
   "source": [
    "varr = np.arange(0, 12).reshape(3, 4)\n",
    "addin = np.arange(4, 8).reshape(1, 4)"
   ]
  },
  {
   "cell_type": "code",
   "execution_count": 22,
   "id": "6b32bd3d",
   "metadata": {
    "execution": {
     "iopub.execute_input": "2025-07-10T14:58:16.248162Z",
     "iopub.status.busy": "2025-07-10T14:58:16.247738Z",
     "iopub.status.idle": "2025-07-10T14:58:16.254204Z",
     "shell.execute_reply": "2025-07-10T14:58:16.253279Z"
    },
    "papermill": {
     "duration": 0.01726,
     "end_time": "2025-07-10T14:58:16.255706",
     "exception": false,
     "start_time": "2025-07-10T14:58:16.238446",
     "status": "completed"
    },
    "tags": []
   },
   "outputs": [
    {
     "data": {
      "text/plain": [
       "array([[ 0,  1,  2,  3],\n",
       "       [ 4,  5,  6,  7],\n",
       "       [ 8,  9, 10, 11],\n",
       "       [ 4,  5,  6,  7]])"
      ]
     },
     "execution_count": 22,
     "metadata": {},
     "output_type": "execute_result"
    }
   ],
   "source": [
    "vstacked = np.vstack((varr, addin)) # adds rows\n",
    "vstacked"
   ]
  },
  {
   "cell_type": "markdown",
   "id": "8a1bc599",
   "metadata": {
    "papermill": {
     "duration": 0.008214,
     "end_time": "2025-07-10T14:58:16.272890",
     "exception": false,
     "start_time": "2025-07-10T14:58:16.264676",
     "status": "completed"
    },
    "tags": []
   },
   "source": [
    "### **Horizantal Stacking (.hstack)**"
   ]
  },
  {
   "cell_type": "code",
   "execution_count": 23,
   "id": "13f3abaa",
   "metadata": {
    "execution": {
     "iopub.execute_input": "2025-07-10T14:58:16.291173Z",
     "iopub.status.busy": "2025-07-10T14:58:16.290855Z",
     "iopub.status.idle": "2025-07-10T14:58:16.295653Z",
     "shell.execute_reply": "2025-07-10T14:58:16.294745Z"
    },
    "papermill": {
     "duration": 0.015784,
     "end_time": "2025-07-10T14:58:16.297195",
     "exception": false,
     "start_time": "2025-07-10T14:58:16.281411",
     "status": "completed"
    },
    "tags": []
   },
   "outputs": [],
   "source": [
    "harr = np.arange(0, 12).reshape(3, 4)\n",
    "addin = np.arange(4, 7).reshape(3, 1)"
   ]
  },
  {
   "cell_type": "code",
   "execution_count": 24,
   "id": "3fcc985f",
   "metadata": {
    "execution": {
     "iopub.execute_input": "2025-07-10T14:58:16.316174Z",
     "iopub.status.busy": "2025-07-10T14:58:16.315865Z",
     "iopub.status.idle": "2025-07-10T14:58:16.321986Z",
     "shell.execute_reply": "2025-07-10T14:58:16.321285Z"
    },
    "papermill": {
     "duration": 0.017114,
     "end_time": "2025-07-10T14:58:16.323281",
     "exception": false,
     "start_time": "2025-07-10T14:58:16.306167",
     "status": "completed"
    },
    "tags": []
   },
   "outputs": [
    {
     "data": {
      "text/plain": [
       "array([[ 0,  1,  2,  3,  4],\n",
       "       [ 4,  5,  6,  7,  5],\n",
       "       [ 8,  9, 10, 11,  6]])"
      ]
     },
     "execution_count": 24,
     "metadata": {},
     "output_type": "execute_result"
    }
   ],
   "source": [
    "hstacked = np.hstack((harr, addin)) # adds columns but number of rows has to be same \n",
    "hstacked"
   ]
  },
  {
   "cell_type": "markdown",
   "id": "a499349d",
   "metadata": {
    "papermill": {
     "duration": 0.008569,
     "end_time": "2025-07-10T14:58:16.341157",
     "exception": false,
     "start_time": "2025-07-10T14:58:16.332588",
     "status": "completed"
    },
    "tags": []
   },
   "source": [
    "## **5. Element-wise Operations and Broadcasting**"
   ]
  },
  {
   "cell_type": "markdown",
   "id": "0565a805",
   "metadata": {
    "papermill": {
     "duration": 0.008952,
     "end_time": "2025-07-10T14:58:16.358709",
     "exception": false,
     "start_time": "2025-07-10T14:58:16.349757",
     "status": "completed"
    },
    "tags": []
   },
   "source": [
    "We will focus on some arithmetic operations that exists on numpy. And then we will get to broadcasting. \n",
    "\n",
    "- Basic Arithmetic (+, -, *, /, **)\n",
    "- Universal Functions (ufuncs like np.sqrt, np.log, np.exp, np.sin, etc.)\n",
    "- Understanding Broadcasting Rules"
   ]
  },
  {
   "cell_type": "markdown",
   "id": "fc92f312",
   "metadata": {
    "papermill": {
     "duration": 0.008338,
     "end_time": "2025-07-10T14:58:16.375767",
     "exception": false,
     "start_time": "2025-07-10T14:58:16.367429",
     "status": "completed"
    },
    "tags": []
   },
   "source": [
    "### **Arithmetic Operations**"
   ]
  },
  {
   "cell_type": "code",
   "execution_count": 25,
   "id": "65c988ea",
   "metadata": {
    "execution": {
     "iopub.execute_input": "2025-07-10T14:58:16.394830Z",
     "iopub.status.busy": "2025-07-10T14:58:16.394547Z",
     "iopub.status.idle": "2025-07-10T14:58:16.401190Z",
     "shell.execute_reply": "2025-07-10T14:58:16.400195Z"
    },
    "papermill": {
     "duration": 0.018068,
     "end_time": "2025-07-10T14:58:16.402769",
     "exception": false,
     "start_time": "2025-07-10T14:58:16.384701",
     "status": "completed"
    },
    "tags": []
   },
   "outputs": [
    {
     "name": "stdout",
     "output_type": "stream",
     "text": [
      "[1 2 3 4] \n",
      " \n",
      "[5 6 7 8] \n",
      "\n",
      "[[100 105 110 115 120]\n",
      " [125 130 135 140 145]\n",
      " [150 155 160 165 170]\n",
      " [175 180 185 190 195]] \n",
      " \n",
      "[[ 1  6 11 16 21]\n",
      " [26 31 36 41 46]\n",
      " [51 56 61 66 71]\n",
      " [76 81 86 91 96]]\n"
     ]
    }
   ],
   "source": [
    "arith1 = np.array([1, 2, 3, 4])\n",
    "arith2 = np.array([5, 6, 7, 8])\n",
    "print(f\"{arith1} \\n \\n{arith2} \\n\")\n",
    "\n",
    "ar2d1 = np.arange(100, 200, 5).reshape(4, 5)\n",
    "ar2d2 = np.arange(1, 100, 5).reshape(4, 5)\n",
    "print(f\"{ar2d1} \\n \\n{ar2d2}\")"
   ]
  },
  {
   "cell_type": "code",
   "execution_count": 26,
   "id": "89aff261",
   "metadata": {
    "execution": {
     "iopub.execute_input": "2025-07-10T14:58:16.421854Z",
     "iopub.status.busy": "2025-07-10T14:58:16.421581Z",
     "iopub.status.idle": "2025-07-10T14:58:16.434034Z",
     "shell.execute_reply": "2025-07-10T14:58:16.432933Z"
    },
    "papermill": {
     "duration": 0.023768,
     "end_time": "2025-07-10T14:58:16.435475",
     "exception": false,
     "start_time": "2025-07-10T14:58:16.411707",
     "status": "completed"
    },
    "tags": []
   },
   "outputs": [
    {
     "name": "stdout",
     "output_type": "stream",
     "text": [
      "[ 6  8 10 12]\n",
      "\n",
      "\n",
      "[[101 111 121 131 141]\n",
      " [151 161 171 181 191]\n",
      " [201 211 221 231 241]\n",
      " [251 261 271 281 291]]\n",
      "\n",
      "\n",
      "[-4 -4 -4 -4]\n",
      "\n",
      "\n",
      "[[99 99 99 99 99]\n",
      " [99 99 99 99 99]\n",
      " [99 99 99 99 99]\n",
      " [99 99 99 99 99]]\n",
      "\n",
      "\n",
      "[ 5 12 21 32]\n",
      "\n",
      "\n",
      "[[  100   630  1210  1840  2520]\n",
      " [ 3250  4030  4860  5740  6670]\n",
      " [ 7650  8680  9760 10890 12070]\n",
      " [13300 14580 15910 17290 18720]]\n",
      "\n",
      "\n",
      "[0.2        0.33333333 0.42857143 0.5       ]\n",
      "\n",
      "\n",
      "[[100.          17.5         10.           7.1875       5.71428571]\n",
      " [  4.80769231   4.19354839   3.75         3.41463415   3.15217391]\n",
      " [  2.94117647   2.76785714   2.62295082   2.5          2.3943662 ]\n",
      " [  2.30263158   2.22222222   2.15116279   2.08791209   2.03125   ]]\n",
      "\n",
      "\n",
      "[ 1  8 27 64]\n",
      "\n",
      "\n",
      "[[     1    216   1331   4096   9261]\n",
      " [ 17576  29791  46656  68921  97336]\n",
      " [132651 175616 226981 287496 357911]\n",
      " [438976 531441 636056 753571 884736]]\n",
      "\n",
      "\n"
     ]
    }
   ],
   "source": [
    "# adding\n",
    "\n",
    "add1 = np.add(arith1, arith2) # or we can use arr1 + arr2\n",
    "print(add1)\n",
    "print(\"\\n\")\n",
    "\n",
    "add2 = np.add(ar2d1, ar2d2)\n",
    "print(add2)\n",
    "print(\"\\n\")\n",
    "\n",
    "# subtract\n",
    "\n",
    "sub1 = np.subtract(arith1, arith2)\n",
    "print(sub1)\n",
    "print(\"\\n\")\n",
    "\n",
    "sub2 = np.subtract(ar2d1, ar2d2)\n",
    "print(sub2)\n",
    "print(\"\\n\")\n",
    "\n",
    "# multiply\n",
    "\n",
    "mul1 = np.multiply(arith1, arith2)\n",
    "print(mul1)\n",
    "print(\"\\n\")\n",
    "\n",
    "mul2 = np.multiply(ar2d1, ar2d2)\n",
    "print(mul2)\n",
    "print(\"\\n\")\n",
    "\n",
    "# division\n",
    "\n",
    "div1 = np.divide(arith1, arith2)\n",
    "print(div1)\n",
    "print(\"\\n\")\n",
    "\n",
    "div2 = np.divide(ar2d1, ar2d2)\n",
    "print(div2)\n",
    "print(\"\\n\")\n",
    "\n",
    "# power\n",
    "\n",
    "pow1 = arith1 ** 3\n",
    "print(pow1)\n",
    "print(\"\\n\")\n",
    "\n",
    "pow2 = ar2d2 ** 3\n",
    "print(pow2)\n",
    "print(\"\\n\")"
   ]
  },
  {
   "cell_type": "markdown",
   "id": "2d0d5d29",
   "metadata": {
    "papermill": {
     "duration": 0.009613,
     "end_time": "2025-07-10T14:58:16.454332",
     "exception": false,
     "start_time": "2025-07-10T14:58:16.444719",
     "status": "completed"
    },
    "tags": []
   },
   "source": [
    "### **Universal Operations**"
   ]
  },
  {
   "cell_type": "code",
   "execution_count": 27,
   "id": "27d500f6",
   "metadata": {
    "execution": {
     "iopub.execute_input": "2025-07-10T14:58:16.473332Z",
     "iopub.status.busy": "2025-07-10T14:58:16.473053Z",
     "iopub.status.idle": "2025-07-10T14:58:16.478808Z",
     "shell.execute_reply": "2025-07-10T14:58:16.477966Z"
    },
    "papermill": {
     "duration": 0.017257,
     "end_time": "2025-07-10T14:58:16.480531",
     "exception": false,
     "start_time": "2025-07-10T14:58:16.463274",
     "status": "completed"
    },
    "tags": []
   },
   "outputs": [
    {
     "name": "stdout",
     "output_type": "stream",
     "text": [
      "[1 2 3 4] \n",
      " \n",
      "[5 6 7 8] \n",
      "\n",
      "[[100 105 110 115 120]\n",
      " [125 130 135 140 145]\n",
      " [150 155 160 165 170]\n",
      " [175 180 185 190 195]] \n",
      " \n",
      "[[ 1  6 11 16 21]\n",
      " [26 31 36 41 46]\n",
      " [51 56 61 66 71]\n",
      " [76 81 86 91 96]]\n"
     ]
    }
   ],
   "source": [
    "uni1 = np.array([1, 2, 3, 4])\n",
    "uni2 = np.array([5, 6, 7, 8])\n",
    "print(f\"{uni1} \\n \\n{uni2} \\n\")\n",
    "\n",
    "uni2da = np.arange(100, 200, 5).reshape(4, 5)\n",
    "uni2db = np.arange(1, 100, 5).reshape(4, 5)\n",
    "print(f\"{uni2da} \\n \\n{uni2db}\")"
   ]
  },
  {
   "cell_type": "code",
   "execution_count": 28,
   "id": "cb98c6a3",
   "metadata": {
    "execution": {
     "iopub.execute_input": "2025-07-10T14:58:16.501539Z",
     "iopub.status.busy": "2025-07-10T14:58:16.501229Z",
     "iopub.status.idle": "2025-07-10T14:58:16.530982Z",
     "shell.execute_reply": "2025-07-10T14:58:16.529846Z"
    },
    "papermill": {
     "duration": 0.042099,
     "end_time": "2025-07-10T14:58:16.532614",
     "exception": false,
     "start_time": "2025-07-10T14:58:16.490515",
     "status": "completed"
    },
    "tags": []
   },
   "outputs": [
    {
     "name": "stdout",
     "output_type": "stream",
     "text": [
      "[1.         1.41421356 1.73205081 2.        ]\n",
      "\n",
      "\n",
      "[[10.         10.24695077 10.48808848 10.72380529 10.95445115]\n",
      " [11.18033989 11.40175425 11.61895004 11.83215957 12.04159458]\n",
      " [12.24744871 12.4498996  12.64911064 12.84523258 13.03840481]\n",
      " [13.22875656 13.41640786 13.60147051 13.78404875 13.96424004]]\n",
      "\n",
      "\n",
      "[ 2.71828183  7.3890561  20.08553692 54.59815003]\n",
      "\n",
      "\n",
      "[[2.71828183e+00 4.03428793e+02 5.98741417e+04 8.88611052e+06\n",
      "  1.31881573e+09]\n",
      " [1.95729609e+11 2.90488497e+13 4.31123155e+15 6.39843494e+17\n",
      "  9.49611942e+19]\n",
      " [1.40934908e+22 2.09165950e+24 3.10429794e+26 4.60718663e+28\n",
      "  6.83767123e+30]\n",
      " [1.01480039e+33 1.50609731e+35 2.23524660e+37 3.31740010e+39\n",
      "  4.92345829e+41]]\n",
      "\n",
      "\n",
      "[0.         0.69314718 1.09861229 1.38629436]\n",
      "\n",
      "\n",
      "[[4.60517019 4.65396035 4.70048037 4.74493213 4.78749174]\n",
      " [4.82831374 4.86753445 4.90527478 4.94164242 4.97673374]\n",
      " [5.01063529 5.04342512 5.07517382 5.10594547 5.13579844]\n",
      " [5.16478597 5.19295685 5.22035583 5.24702407 5.27299956]]\n",
      "\n",
      "\n",
      "[ 0.84147098  0.90929743  0.14112001 -0.7568025 ]\n",
      "\n",
      "\n",
      "[ 0.28366219  0.96017029  0.75390225 -0.14550003]\n",
      "\n",
      "\n",
      "[[ -0.58721392   4.02780176   0.04428604  -2.90180135   0.71312301]\n",
      " [ -0.78206057   2.53233843  -0.08871576  -4.95537106   0.52920528]\n",
      " [ -1.02234624   1.79265449  -0.22490638 -15.04135305   0.36956439]\n",
      " [ -1.33860605   1.33869021  -0.36953013  15.04820623   0.22493805]]\n",
      "\n",
      "\n"
     ]
    }
   ],
   "source": [
    "# square root\n",
    "\n",
    "sq1 = (np.sqrt(uni1))\n",
    "print(sq1)\n",
    "print(\"\\n\")\n",
    "\n",
    "sq2 = np.sqrt(uni2da)\n",
    "print(sq2)\n",
    "print(\"\\n\")\n",
    "\n",
    "# exponential\n",
    "\n",
    "exp1 = (np.exp(uni1)) # this exponential is not equal to power, but is Euler number (e) founded by Jacob Bernoulii, so it's e^x\n",
    "print(exp1)\n",
    "print(\"\\n\")\n",
    "\n",
    "exp2 = np.exp(uni2db)\n",
    "print(exp2)\n",
    "print(\"\\n\")\n",
    "\n",
    "#logarithm - log(x)\n",
    "\n",
    "log1 = (np.log(uni1))\n",
    "print(log1)\n",
    "print(\"\\n\")\n",
    "\n",
    "log2 = np.log(uni2da)\n",
    "print(log2)\n",
    "print(\"\\n\")\n",
    "\n",
    "# trignometric (sin, cos, tan)\n",
    "\n",
    "sin1 = (np.sin(uni1))\n",
    "print(sin1)\n",
    "print(\"\\n\")\n",
    "\n",
    "cos1 = np.cos(uni2)\n",
    "print(cos1)\n",
    "print(\"\\n\")\n",
    "\n",
    "tan1 = np.tan(uni2da)\n",
    "print(tan1)\n",
    "print(\"\\n\")\n",
    "\n"
   ]
  }
 ],
 "metadata": {
  "kaggle": {
   "accelerator": "none",
   "dataSources": [],
   "dockerImageVersionId": 31040,
   "isGpuEnabled": false,
   "isInternetEnabled": false,
   "language": "python",
   "sourceType": "notebook"
  },
  "kernelspec": {
   "display_name": "Python 3",
   "language": "python",
   "name": "python3"
  },
  "language_info": {
   "codemirror_mode": {
    "name": "ipython",
    "version": 3
   },
   "file_extension": ".py",
   "mimetype": "text/x-python",
   "name": "python",
   "nbconvert_exporter": "python",
   "pygments_lexer": "ipython3",
   "version": "3.11.11"
  },
  "papermill": {
   "default_parameters": {},
   "duration": 8.003226,
   "end_time": "2025-07-10T14:58:16.961434",
   "environment_variables": {},
   "exception": null,
   "input_path": "__notebook__.ipynb",
   "output_path": "__notebook__.ipynb",
   "parameters": {},
   "start_time": "2025-07-10T14:58:08.958208",
   "version": "2.6.0"
  }
 },
 "nbformat": 4,
 "nbformat_minor": 5
}
