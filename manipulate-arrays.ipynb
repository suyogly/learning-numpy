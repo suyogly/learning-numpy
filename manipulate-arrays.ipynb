{
 "cells": [
  {
   "cell_type": "markdown",
   "id": "f569459f",
   "metadata": {
    "papermill": {
     "duration": 0.010099,
     "end_time": "2025-07-11T15:24:24.116320",
     "exception": false,
     "start_time": "2025-07-11T15:24:24.106221",
     "status": "completed"
    },
    "tags": []
   },
   "source": [
    "# **Array Manipulation**"
   ]
  },
  {
   "cell_type": "markdown",
   "id": "9cfe803c",
   "metadata": {
    "papermill": {
     "duration": 0.007496,
     "end_time": "2025-07-11T15:24:24.131774",
     "exception": false,
     "start_time": "2025-07-11T15:24:24.124278",
     "status": "completed"
    },
    "tags": []
   },
   "source": [
    "Here, I will learn different methods of modiying the arrays while also learning about the arithmetic operations. "
   ]
  },
  {
   "cell_type": "markdown",
   "id": "8483b695",
   "metadata": {
    "papermill": {
     "duration": 0.008152,
     "end_time": "2025-07-11T15:24:24.147718",
     "exception": false,
     "start_time": "2025-07-11T15:24:24.139566",
     "status": "completed"
    },
    "tags": []
   },
   "source": [
    "## **1. Value Asignment and Conditional Updates**"
   ]
  },
  {
   "cell_type": "markdown",
   "id": "34e1ed2f",
   "metadata": {
    "papermill": {
     "duration": 0.007401,
     "end_time": "2025-07-11T15:24:24.163325",
     "exception": false,
     "start_time": "2025-07-11T15:24:24.155924",
     "status": "completed"
    },
    "tags": []
   },
   "source": [
    "This is fundamental because it's how you directly alter the data stored within your arrays. With three main ways:\n",
    "\n",
    "- **Direct Element Assignment**: Changing one specific value.\n",
    "- **Slice Assignment**: Changing a range of values.\n",
    "- **Boolean Mask Assignment**: Changing values based on a condition."
   ]
  },
  {
   "cell_type": "code",
   "execution_count": 1,
   "id": "7aa93f91",
   "metadata": {
    "execution": {
     "iopub.execute_input": "2025-07-11T15:24:24.180557Z",
     "iopub.status.busy": "2025-07-11T15:24:24.180192Z",
     "iopub.status.idle": "2025-07-11T15:24:24.188806Z",
     "shell.execute_reply": "2025-07-11T15:24:24.187726Z"
    },
    "papermill": {
     "duration": 0.019176,
     "end_time": "2025-07-11T15:24:24.190535",
     "exception": false,
     "start_time": "2025-07-11T15:24:24.171359",
     "status": "completed"
    },
    "tags": []
   },
   "outputs": [],
   "source": [
    "import numpy as np"
   ]
  },
  {
   "cell_type": "code",
   "execution_count": 2,
   "id": "ec8a1922",
   "metadata": {
    "execution": {
     "iopub.execute_input": "2025-07-11T15:24:24.208339Z",
     "iopub.status.busy": "2025-07-11T15:24:24.207067Z",
     "iopub.status.idle": "2025-07-11T15:24:24.214025Z",
     "shell.execute_reply": "2025-07-11T15:24:24.213001Z"
    },
    "papermill": {
     "duration": 0.017426,
     "end_time": "2025-07-11T15:24:24.215736",
     "exception": false,
     "start_time": "2025-07-11T15:24:24.198310",
     "status": "completed"
    },
    "tags": []
   },
   "outputs": [],
   "source": [
    "assign_1d = np.array([10, 20, 30, 40, 50, 60, 70, 80, 90, 100]) #1d array\n",
    "\n",
    "assign_2d = np.array([ #2d array\n",
    "    [1, 2, 3, 4],\n",
    "    [5, 6, 7, 8],\n",
    "    [9, 10, 11, 12]\n",
    "])\n",
    "\n",
    "assign_3d = np.array([ #3d array\n",
    "    [[100, 200, 300],\n",
    "        [400, 500, 600]],\n",
    "\n",
    "    [[719, 819, 919],\n",
    "    [1019, 1119, 1129]]\n",
    "])"
   ]
  },
  {
   "cell_type": "markdown",
   "id": "f8e6ce31",
   "metadata": {
    "papermill": {
     "duration": 0.008,
     "end_time": "2025-07-11T15:24:24.231997",
     "exception": false,
     "start_time": "2025-07-11T15:24:24.223997",
     "status": "completed"
    },
    "tags": []
   },
   "source": [
    "### **Direct Element Assignment**"
   ]
  },
  {
   "cell_type": "markdown",
   "id": "e3c8da1d",
   "metadata": {
    "papermill": {
     "duration": 0.007538,
     "end_time": "2025-07-11T15:24:24.247748",
     "exception": false,
     "start_time": "2025-07-11T15:24:24.240210",
     "status": "completed"
    },
    "tags": []
   },
   "source": [
    "Changing one specific value"
   ]
  },
  {
   "cell_type": "code",
   "execution_count": 3,
   "id": "2e351d36",
   "metadata": {
    "execution": {
     "iopub.execute_input": "2025-07-11T15:24:24.265781Z",
     "iopub.status.busy": "2025-07-11T15:24:24.265433Z",
     "iopub.status.idle": "2025-07-11T15:24:24.275385Z",
     "shell.execute_reply": "2025-07-11T15:24:24.274277Z"
    },
    "papermill": {
     "duration": 0.021949,
     "end_time": "2025-07-11T15:24:24.277719",
     "exception": false,
     "start_time": "2025-07-11T15:24:24.255770",
     "status": "completed"
    },
    "tags": []
   },
   "outputs": [
    {
     "data": {
      "text/plain": [
       "array([[[ 100,  200,  300],\n",
       "        [ 400,  500,    1]],\n",
       "\n",
       "       [[ 719,  819,  919],\n",
       "        [1019, 1119, 1129]]])"
      ]
     },
     "execution_count": 3,
     "metadata": {},
     "output_type": "execute_result"
    }
   ],
   "source": [
    "# this is easy, same as we did in indexing\n",
    "\n",
    "assign_1d [7] = 999 # changes the 7th index or 8th element -> from 80 to 999\n",
    "assign_1d\n",
    "\n",
    "assign_2d [1, -1] = 918 # changes the last element of the 2nd row -> from 8 to 918\n",
    "assign_2d\n",
    "\n",
    "assign_3d [0, 1, 2] = 1 # changes the 3rd element located in second row of 1st slice -> from 600 to 1\n",
    "assign_3d"
   ]
  },
  {
   "cell_type": "markdown",
   "id": "be0ffe18",
   "metadata": {
    "papermill": {
     "duration": 0.007831,
     "end_time": "2025-07-11T15:24:24.294173",
     "exception": false,
     "start_time": "2025-07-11T15:24:24.286342",
     "status": "completed"
    },
    "tags": []
   },
   "source": [
    "### **Slice Assignment**"
   ]
  },
  {
   "cell_type": "markdown",
   "id": "f9b7c1f8",
   "metadata": {
    "papermill": {
     "duration": 0.007625,
     "end_time": "2025-07-11T15:24:24.309729",
     "exception": false,
     "start_time": "2025-07-11T15:24:24.302104",
     "status": "completed"
    },
    "tags": []
   },
   "source": [
    "What if we want to change the multiple values at once? Like entire rows or from x-index to y-index?"
   ]
  },
  {
   "cell_type": "code",
   "execution_count": 4,
   "id": "bfdc3aec",
   "metadata": {
    "execution": {
     "iopub.execute_input": "2025-07-11T15:24:24.327400Z",
     "iopub.status.busy": "2025-07-11T15:24:24.326939Z",
     "iopub.status.idle": "2025-07-11T15:24:24.333545Z",
     "shell.execute_reply": "2025-07-11T15:24:24.332336Z"
    },
    "papermill": {
     "duration": 0.017693,
     "end_time": "2025-07-11T15:24:24.335347",
     "exception": false,
     "start_time": "2025-07-11T15:24:24.317654",
     "status": "completed"
    },
    "tags": []
   },
   "outputs": [
    {
     "name": "stdout",
     "output_type": "stream",
     "text": [
      "1d: [ 10  20  30  40  50  60  70 999  90 100]\n",
      "2d: [[  1   2   3   4]\n",
      " [  5   6   7 918]\n",
      " [  9  10  11  12]]\n",
      "3d: [[[ 100  200  300]\n",
      "  [ 400  500    1]]\n",
      "\n",
      " [[ 719  819  919]\n",
      "  [1019 1119 1129]]]\n"
     ]
    }
   ],
   "source": [
    "print(f\"1d: {assign_1d}\")\n",
    "print(f\"2d: {assign_2d}\")\n",
    "print(f\"3d: {assign_3d}\")"
   ]
  },
  {
   "cell_type": "code",
   "execution_count": 5,
   "id": "b049eaf0",
   "metadata": {
    "execution": {
     "iopub.execute_input": "2025-07-11T15:24:24.352533Z",
     "iopub.status.busy": "2025-07-11T15:24:24.352230Z",
     "iopub.status.idle": "2025-07-11T15:24:24.359368Z",
     "shell.execute_reply": "2025-07-11T15:24:24.358421Z"
    },
    "papermill": {
     "duration": 0.017774,
     "end_time": "2025-07-11T15:24:24.361242",
     "exception": false,
     "start_time": "2025-07-11T15:24:24.343468",
     "status": "completed"
    },
    "tags": []
   },
   "outputs": [
    {
     "data": {
      "text/plain": [
       "array([[[ 100,  200,  300],\n",
       "        [   1,    1,    1]],\n",
       "\n",
       "       [[ 719,  819,  919],\n",
       "        [1019, 1119, 1129]]])"
      ]
     },
     "execution_count": 5,
     "metadata": {},
     "output_type": "execute_result"
    }
   ],
   "source": [
    "# this is same as i read on slicing in reading-array\n",
    "\n",
    "assign_1d [0:3] = 39 # gives updated array with changed value of 39 in index 1, 2 and 3\n",
    "assign_1d\n",
    "\n",
    "assign_2d [:, 2] = 44 # gives updated array with changed value of 44 in 2nd index of all rows\n",
    "assign_2d\n",
    "\n",
    "assign_3d [0, 1, 0:2] = [1, 1] # changed value of [1, 1] in 0 and 1 index of 2nd row of 1st slice\n",
    "assign_3d"
   ]
  },
  {
   "cell_type": "markdown",
   "id": "449813d1",
   "metadata": {
    "papermill": {
     "duration": 0.008023,
     "end_time": "2025-07-11T15:24:24.377723",
     "exception": false,
     "start_time": "2025-07-11T15:24:24.369700",
     "status": "completed"
    },
    "tags": []
   },
   "source": [
    "### **Boolean Mask Assignment**"
   ]
  },
  {
   "cell_type": "markdown",
   "id": "40e643d4",
   "metadata": {
    "papermill": {
     "duration": 0.00967,
     "end_time": "2025-07-11T15:24:24.395578",
     "exception": false,
     "start_time": "2025-07-11T15:24:24.385908",
     "status": "completed"
    },
    "tags": []
   },
   "source": [
    "Changing values based on a condition."
   ]
  },
  {
   "cell_type": "code",
   "execution_count": 6,
   "id": "404605aa",
   "metadata": {
    "execution": {
     "iopub.execute_input": "2025-07-11T15:24:24.413781Z",
     "iopub.status.busy": "2025-07-11T15:24:24.413426Z",
     "iopub.status.idle": "2025-07-11T15:24:24.419712Z",
     "shell.execute_reply": "2025-07-11T15:24:24.418381Z"
    },
    "papermill": {
     "duration": 0.017443,
     "end_time": "2025-07-11T15:24:24.421479",
     "exception": false,
     "start_time": "2025-07-11T15:24:24.404036",
     "status": "completed"
    },
    "tags": []
   },
   "outputs": [
    {
     "name": "stdout",
     "output_type": "stream",
     "text": [
      "1d: [ 39  39  39  40  50  60  70 999  90 100]\n",
      "2d: [[  1   2  44   4]\n",
      " [  5   6  44 918]\n",
      " [  9  10  44  12]]\n",
      "3d: [[[ 100  200  300]\n",
      "  [   1    1    1]]\n",
      "\n",
      " [[ 719  819  919]\n",
      "  [1019 1119 1129]]]\n"
     ]
    }
   ],
   "source": [
    "print(f\"1d: {assign_1d}\")\n",
    "print(f\"2d: {assign_2d}\")\n",
    "print(f\"3d: {assign_3d}\")"
   ]
  },
  {
   "cell_type": "code",
   "execution_count": 7,
   "id": "d0766918",
   "metadata": {
    "execution": {
     "iopub.execute_input": "2025-07-11T15:24:24.542071Z",
     "iopub.status.busy": "2025-07-11T15:24:24.541728Z",
     "iopub.status.idle": "2025-07-11T15:24:24.551438Z",
     "shell.execute_reply": "2025-07-11T15:24:24.550487Z"
    },
    "papermill": {
     "duration": 0.122269,
     "end_time": "2025-07-11T15:24:24.553050",
     "exception": false,
     "start_time": "2025-07-11T15:24:24.430781",
     "status": "completed"
    },
    "tags": []
   },
   "outputs": [
    {
     "data": {
      "text/plain": [
       "array([[1, 1, 1, 1],\n",
       "       [1, 1, 1, 1],\n",
       "       [1, 1, 1, 1]])"
      ]
     },
     "execution_count": 7,
     "metadata": {},
     "output_type": "execute_result"
    }
   ],
   "source": [
    "# this is also same as boolean indexing i read\n",
    "\n",
    "assign_1d [assign_1d != 39] = 0\n",
    "assign_1d\n",
    "\n",
    "assign_2d [(assign_2d [1, 2] > 20) & (assign_2d [-1, 1] < 10)] = 0\n",
    "assign_2d\n",
    "\n",
    "assign_2d [(assign_2d [:, 2] == 0) | (assign_2d [:, 2] < 50)] = 1\n",
    "assign_2d"
   ]
  },
  {
   "cell_type": "markdown",
   "id": "b67f9c65",
   "metadata": {
    "papermill": {
     "duration": 0.007748,
     "end_time": "2025-07-11T15:24:24.569399",
     "exception": false,
     "start_time": "2025-07-11T15:24:24.561651",
     "status": "completed"
    },
    "tags": []
   },
   "source": [
    "## **2. Reshaping and Dimension Manipulation**"
   ]
  },
  {
   "cell_type": "markdown",
   "id": "5293922d",
   "metadata": {
    "papermill": {
     "duration": 0.007783,
     "end_time": "2025-07-11T15:24:24.585274",
     "exception": false,
     "start_time": "2025-07-11T15:24:24.577491",
     "status": "completed"
    },
    "tags": []
   },
   "source": [
    "- changing an array's shape and flattening the arr >= 2 to 1d array\n",
    "- adding new dimension/s\n",
    "- transposing"
   ]
  },
  {
   "cell_type": "markdown",
   "id": "f9d46b62",
   "metadata": {
    "papermill": {
     "duration": 0.007575,
     "end_time": "2025-07-11T15:24:24.600812",
     "exception": false,
     "start_time": "2025-07-11T15:24:24.593237",
     "status": "completed"
    },
    "tags": []
   },
   "source": [
    "### **Changing Array Shape**"
   ]
  },
  {
   "cell_type": "code",
   "execution_count": 8,
   "id": "a06cca85",
   "metadata": {
    "execution": {
     "iopub.execute_input": "2025-07-11T15:24:24.618333Z",
     "iopub.status.busy": "2025-07-11T15:24:24.618050Z",
     "iopub.status.idle": "2025-07-11T15:24:24.624683Z",
     "shell.execute_reply": "2025-07-11T15:24:24.623669Z"
    },
    "papermill": {
     "duration": 0.017667,
     "end_time": "2025-07-11T15:24:24.626429",
     "exception": false,
     "start_time": "2025-07-11T15:24:24.608762",
     "status": "completed"
    },
    "tags": []
   },
   "outputs": [
    {
     "name": "stdout",
     "output_type": "stream",
     "text": [
      "[ 0  1  2  3  4  5  6  7  8  9 10 11 12 13 14 15 16 17 18 19 20 21 22 23]\n",
      "[[ 0  1  2  3  4  5]\n",
      " [ 6  7  8  9 10 11]\n",
      " [12 13 14 15 16 17]\n",
      " [18 19 20 21 22 23]]\n",
      "[[[ 0  1  2  3]\n",
      "  [ 4  5  6  7]\n",
      "  [ 8  9 10 11]]\n",
      "\n",
      " [[12 13 14 15]\n",
      "  [16 17 18 19]\n",
      "  [20 21 22 23]]]\n"
     ]
    }
   ],
   "source": [
    "arr_1d = np.arange(24) # 1d array from 0 to 23\n",
    "arr_2d = np.arange(24).reshape(4, 6) # 2d array with 4 rows and 6 comlumns each from 0 to 23\n",
    "arr_3d = np.arange(24).reshape(2, 3, 4) # 3d array with 2 slices, 3 rows each and 4 columns\n",
    "\n",
    "print(arr_1d)\n",
    "print(arr_2d)\n",
    "print(arr_3d)"
   ]
  },
  {
   "cell_type": "code",
   "execution_count": 9,
   "id": "7cbf995b",
   "metadata": {
    "execution": {
     "iopub.execute_input": "2025-07-11T15:24:24.645749Z",
     "iopub.status.busy": "2025-07-11T15:24:24.645416Z",
     "iopub.status.idle": "2025-07-11T15:24:24.653623Z",
     "shell.execute_reply": "2025-07-11T15:24:24.652483Z"
    },
    "papermill": {
     "duration": 0.020031,
     "end_time": "2025-07-11T15:24:24.655487",
     "exception": false,
     "start_time": "2025-07-11T15:24:24.635456",
     "status": "completed"
    },
    "tags": []
   },
   "outputs": [
    {
     "data": {
      "text/plain": [
       "array([[[ 0,  1],\n",
       "        [ 2,  3],\n",
       "        [ 4,  5]],\n",
       "\n",
       "       [[ 6,  7],\n",
       "        [ 8,  9],\n",
       "        [10, 11]],\n",
       "\n",
       "       [[12, 13],\n",
       "        [14, 15],\n",
       "        [16, 17]],\n",
       "\n",
       "       [[18, 19],\n",
       "        [20, 21],\n",
       "        [22, 23]]])"
      ]
     },
     "execution_count": 9,
     "metadata": {},
     "output_type": "execute_result"
    }
   ],
   "source": [
    "# changing the shape of 1d array to 2d and 3d array\n",
    "\n",
    "# using .reshape()\n",
    "\n",
    "one_2d = arr_1d.reshape(2, 12) # 2 rows, 12 columns each\n",
    "one_2d\n",
    "\n",
    "one_2d_1 = arr_1d.reshape(3, 8) # 3 rows, 8 columns each\n",
    "one_2d_1\n",
    "\n",
    "one_2d_2 = arr_1d.reshape(12, 2) # 12 rows, 2 columns each\n",
    "one_2d_2\n",
    "\n",
    "one_3d = arr_1d.reshape(2, 4, 3) # 2 slices, 4 rows each with 3 columns\n",
    "one_3d\n",
    "\n",
    "one_3d_1 = arr_1d.reshape(4, 3, 2) # 4 slices, 3 rows each with 2 columns\n",
    "one_3d_1"
   ]
  },
  {
   "cell_type": "code",
   "execution_count": 10,
   "id": "a4b1b3f1",
   "metadata": {
    "execution": {
     "iopub.execute_input": "2025-07-11T15:24:24.677163Z",
     "iopub.status.busy": "2025-07-11T15:24:24.675947Z",
     "iopub.status.idle": "2025-07-11T15:24:24.684508Z",
     "shell.execute_reply": "2025-07-11T15:24:24.683499Z"
    },
    "papermill": {
     "duration": 0.021252,
     "end_time": "2025-07-11T15:24:24.686280",
     "exception": false,
     "start_time": "2025-07-11T15:24:24.665028",
     "status": "completed"
    },
    "tags": []
   },
   "outputs": [
    {
     "data": {
      "text/plain": [
       "array([ 0,  1,  2,  3,  4,  5,  6,  7,  8,  9, 10, 11, 12, 13, 14, 15, 16,\n",
       "       17, 18, 19, 20, 21, 22, 23])"
      ]
     },
     "execution_count": 10,
     "metadata": {},
     "output_type": "execute_result"
    }
   ],
   "source": [
    "# 2d to 3d and 1d\n",
    "\n",
    "two_3d = arr_2d.reshape(3, 4, 2)\n",
    "two_3d\n",
    "\n",
    "two_3d_1 = arr_2d.reshape(6, 2, 2)\n",
    "two_3d_1\n",
    "\n",
    "# 2d to 1d\n",
    "\n",
    "# we can use either .ravel() or .flatten() or .reshape(-1)\n",
    "\n",
    "two_1d = arr_2d.ravel()\n",
    "two_1d\n",
    "\n",
    "two_1d_1 = arr_2d.flatten()\n",
    "two_1d_1\n",
    "\n",
    "two_1d_2 = arr_2d.reshape(-1)\n",
    "two_1d_2"
   ]
  },
  {
   "cell_type": "code",
   "execution_count": 11,
   "id": "a45bd25c",
   "metadata": {
    "execution": {
     "iopub.execute_input": "2025-07-11T15:24:24.705958Z",
     "iopub.status.busy": "2025-07-11T15:24:24.705588Z",
     "iopub.status.idle": "2025-07-11T15:24:24.712804Z",
     "shell.execute_reply": "2025-07-11T15:24:24.711925Z"
    },
    "papermill": {
     "duration": 0.018986,
     "end_time": "2025-07-11T15:24:24.714554",
     "exception": false,
     "start_time": "2025-07-11T15:24:24.695568",
     "status": "completed"
    },
    "tags": []
   },
   "outputs": [
    {
     "data": {
      "text/plain": [
       "array([ 0,  1,  2,  3,  4,  5,  6,  7,  8,  9, 10, 11, 12, 13, 14, 15, 16,\n",
       "       17, 18, 19, 20, 21, 22, 23])"
      ]
     },
     "execution_count": 11,
     "metadata": {},
     "output_type": "execute_result"
    }
   ],
   "source": [
    "# 3d to 2d\n",
    "\n",
    "three_2d = arr_3d.reshape(6, 4)\n",
    "three_2d\n",
    "\n",
    "three_2d_1 = arr_3d.reshape(4, 6)\n",
    "three_2d_1\n",
    "\n",
    "# 3d to 1d\n",
    "\n",
    "three_1d = arr_3d.reshape(-1)\n",
    "three_1d\n",
    "\n",
    "# we can also use .ravel and .flatten"
   ]
  },
  {
   "cell_type": "markdown",
   "id": "b889a1c6",
   "metadata": {
    "papermill": {
     "duration": 0.008842,
     "end_time": "2025-07-11T15:24:24.732630",
     "exception": false,
     "start_time": "2025-07-11T15:24:24.723788",
     "status": "completed"
    },
    "tags": []
   },
   "source": [
    "### **Adding new Dimensions**"
   ]
  },
  {
   "cell_type": "code",
   "execution_count": 12,
   "id": "9f97e1cb",
   "metadata": {
    "execution": {
     "iopub.execute_input": "2025-07-11T15:24:24.752957Z",
     "iopub.status.busy": "2025-07-11T15:24:24.752589Z",
     "iopub.status.idle": "2025-07-11T15:24:24.758336Z",
     "shell.execute_reply": "2025-07-11T15:24:24.757304Z"
    },
    "papermill": {
     "duration": 0.018652,
     "end_time": "2025-07-11T15:24:24.760248",
     "exception": false,
     "start_time": "2025-07-11T15:24:24.741596",
     "status": "completed"
    },
    "tags": []
   },
   "outputs": [],
   "source": [
    "newd_1d = np.arange(24) # 1d array from 0 to 23\n",
    "newd_2d = np.arange(24).reshape(4, 6) # 2d array with 4 rows and 6 comlumns each from 0 to 23\n",
    "newd_3d = np.arange(24).reshape(2, 3, 4) # 3d array with 2 slices, 3 rows each and 4 columns"
   ]
  },
  {
   "cell_type": "code",
   "execution_count": 13,
   "id": "ab5d93bf",
   "metadata": {
    "execution": {
     "iopub.execute_input": "2025-07-11T15:24:24.781190Z",
     "iopub.status.busy": "2025-07-11T15:24:24.780863Z",
     "iopub.status.idle": "2025-07-11T15:24:24.788560Z",
     "shell.execute_reply": "2025-07-11T15:24:24.787519Z"
    },
    "papermill": {
     "duration": 0.019808,
     "end_time": "2025-07-11T15:24:24.790530",
     "exception": false,
     "start_time": "2025-07-11T15:24:24.770722",
     "status": "completed"
    },
    "tags": []
   },
   "outputs": [
    {
     "data": {
      "text/plain": [
       "array([[ 0],\n",
       "       [ 1],\n",
       "       [ 2],\n",
       "       [ 3],\n",
       "       [ 4],\n",
       "       [ 5],\n",
       "       [ 6],\n",
       "       [ 7],\n",
       "       [ 8],\n",
       "       [ 9],\n",
       "       [10],\n",
       "       [11],\n",
       "       [12],\n",
       "       [13],\n",
       "       [14],\n",
       "       [15],\n",
       "       [16],\n",
       "       [17],\n",
       "       [18],\n",
       "       [19],\n",
       "       [20],\n",
       "       [21],\n",
       "       [22],\n",
       "       [23]])"
      ]
     },
     "execution_count": 13,
     "metadata": {},
     "output_type": "execute_result"
    }
   ],
   "source": [
    "# adding new dimension in 1d array, which will make it 2d\n",
    "\n",
    "newd_as_row = newd_1d[None, :]\n",
    "newd_as_row\n",
    "\n",
    "newd_as_col = newd_1d[:, np.newaxis]\n",
    "newd_as_col"
   ]
  },
  {
   "cell_type": "code",
   "execution_count": 14,
   "id": "6800c83c",
   "metadata": {
    "execution": {
     "iopub.execute_input": "2025-07-11T15:24:24.809498Z",
     "iopub.status.busy": "2025-07-11T15:24:24.809192Z",
     "iopub.status.idle": "2025-07-11T15:24:24.816293Z",
     "shell.execute_reply": "2025-07-11T15:24:24.815336Z"
    },
    "papermill": {
     "duration": 0.018666,
     "end_time": "2025-07-11T15:24:24.818228",
     "exception": false,
     "start_time": "2025-07-11T15:24:24.799562",
     "status": "completed"
    },
    "tags": []
   },
   "outputs": [
    {
     "data": {
      "text/plain": [
       "array([[[ 0],\n",
       "        [ 1],\n",
       "        [ 2],\n",
       "        [ 3],\n",
       "        [ 4],\n",
       "        [ 5]],\n",
       "\n",
       "       [[ 6],\n",
       "        [ 7],\n",
       "        [ 8],\n",
       "        [ 9],\n",
       "        [10],\n",
       "        [11]],\n",
       "\n",
       "       [[12],\n",
       "        [13],\n",
       "        [14],\n",
       "        [15],\n",
       "        [16],\n",
       "        [17]],\n",
       "\n",
       "       [[18],\n",
       "        [19],\n",
       "        [20],\n",
       "        [21],\n",
       "        [22],\n",
       "        [23]]])"
      ]
     },
     "execution_count": 14,
     "metadata": {},
     "output_type": "execute_result"
    }
   ],
   "source": [
    "# adding new dimension in 2d array, which will make it 3d\n",
    "\n",
    "newd_in_2d_as_row = newd_2d[None, :, :]\n",
    "newd_in_2d_as_row\n",
    "\n",
    "newd_in_2d_as_col = newd_2d[:, :, np.newaxis]\n",
    "newd_in_2d_as_col\n",
    "\n",
    "# same for 3d "
   ]
  },
  {
   "cell_type": "markdown",
   "id": "f79b8bca",
   "metadata": {
    "papermill": {
     "duration": 0.008838,
     "end_time": "2025-07-11T15:24:24.836775",
     "exception": false,
     "start_time": "2025-07-11T15:24:24.827937",
     "status": "completed"
    },
    "tags": []
   },
   "source": [
    "### **Transposing**"
   ]
  },
  {
   "cell_type": "code",
   "execution_count": 15,
   "id": "1ed5faa3",
   "metadata": {
    "execution": {
     "iopub.execute_input": "2025-07-11T15:24:24.856119Z",
     "iopub.status.busy": "2025-07-11T15:24:24.855760Z",
     "iopub.status.idle": "2025-07-11T15:24:24.863146Z",
     "shell.execute_reply": "2025-07-11T15:24:24.862216Z"
    },
    "papermill": {
     "duration": 0.019308,
     "end_time": "2025-07-11T15:24:24.865044",
     "exception": false,
     "start_time": "2025-07-11T15:24:24.845736",
     "status": "completed"
    },
    "tags": []
   },
   "outputs": [
    {
     "data": {
      "text/plain": [
       "array([[[ 0, 12],\n",
       "        [ 3, 15],\n",
       "        [ 6, 18],\n",
       "        [ 9, 21]],\n",
       "\n",
       "       [[ 1, 13],\n",
       "        [ 4, 16],\n",
       "        [ 7, 19],\n",
       "        [10, 22]],\n",
       "\n",
       "       [[ 2, 14],\n",
       "        [ 5, 17],\n",
       "        [ 8, 20],\n",
       "        [11, 23]]])"
      ]
     },
     "execution_count": 15,
     "metadata": {},
     "output_type": "execute_result"
    }
   ],
   "source": [
    "# .T, which transposes the order of axes, rows element to column and vice versa (applies to arr > 1)\n",
    "t_2d = np.arange(24).reshape(4, 6)\n",
    "t_2d.shape\n",
    "t_2d.T.shape # -> from (4,6) to (6,4)\n",
    "\n",
    "t_3d = np.arange(24).reshape(2, 4, 3)\n",
    "t_3d.T # from (2, 4, 3) to (3, 4, 2)"
   ]
  },
  {
   "cell_type": "code",
   "execution_count": 16,
   "id": "7ef7d291",
   "metadata": {
    "execution": {
     "iopub.execute_input": "2025-07-11T15:24:24.887446Z",
     "iopub.status.busy": "2025-07-11T15:24:24.886559Z",
     "iopub.status.idle": "2025-07-11T15:24:24.895143Z",
     "shell.execute_reply": "2025-07-11T15:24:24.894222Z"
    },
    "papermill": {
     "duration": 0.020893,
     "end_time": "2025-07-11T15:24:24.896551",
     "exception": false,
     "start_time": "2025-07-11T15:24:24.875658",
     "status": "completed"
    },
    "tags": []
   },
   "outputs": [
    {
     "name": "stdout",
     "output_type": "stream",
     "text": [
      "[[[ 0  1  2]\n",
      "  [ 3  4  5]\n",
      "  [ 6  7  8]\n",
      "  [ 9 10 11]]\n",
      "\n",
      " [[12 13 14]\n",
      "  [15 16 17]\n",
      "  [18 19 20]\n",
      "  [21 22 23]]]\n"
     ]
    },
    {
     "data": {
      "text/plain": [
       "array([[[ 0,  3,  6,  9],\n",
       "        [ 1,  4,  7, 10],\n",
       "        [ 2,  5,  8, 11]],\n",
       "\n",
       "       [[12, 15, 18, 21],\n",
       "        [13, 16, 19, 22],\n",
       "        [14, 17, 20, 23]]])"
      ]
     },
     "execution_count": 16,
     "metadata": {},
     "output_type": "execute_result"
    }
   ],
   "source": [
    "# .transpose, flexible than .T\n",
    "\n",
    "transpose_3d = np.arange(24).reshape(2, 4, 3)\n",
    "print(transpose_3d)\n",
    "\n",
    "new = np.transpose(transpose_3d, axes=(0, 2, 1)) # keep the slices of same number, exchange the number of rows and columns with each other\n",
    "new"
   ]
  },
  {
   "cell_type": "markdown",
   "id": "23affefc",
   "metadata": {
    "papermill": {
     "duration": 0.00854,
     "end_time": "2025-07-11T15:24:24.914071",
     "exception": false,
     "start_time": "2025-07-11T15:24:24.905531",
     "status": "completed"
    },
    "tags": []
   },
   "source": [
    "## **3. Array Combination and Alteration**"
   ]
  },
  {
   "cell_type": "markdown",
   "id": "43d58dd9",
   "metadata": {
    "papermill": {
     "duration": 0.008481,
     "end_time": "2025-07-11T15:24:24.931370",
     "exception": false,
     "start_time": "2025-07-11T15:24:24.922889",
     "status": "completed"
    },
    "tags": []
   },
   "source": [
    "Focuses on operations that change the size or number of elements in your arrays by combining multiple arrays, or by adding/removing elements. Topics included are:\n",
    "\n",
    "- Concatenation\n",
    "- Vertical Stacking\n",
    "- Horizontal Stacking\n",
    "- adding elements"
   ]
  },
  {
   "cell_type": "markdown",
   "id": "7a8a9500",
   "metadata": {
    "papermill": {
     "duration": 0.008491,
     "end_time": "2025-07-11T15:24:24.949102",
     "exception": false,
     "start_time": "2025-07-11T15:24:24.940611",
     "status": "completed"
    },
    "tags": []
   },
   "source": [
    "### **Concatenation**"
   ]
  },
  {
   "cell_type": "markdown",
   "id": "da05699a",
   "metadata": {
    "papermill": {
     "duration": 0.008432,
     "end_time": "2025-07-11T15:24:24.966486",
     "exception": false,
     "start_time": "2025-07-11T15:24:24.958054",
     "status": "completed"
    },
    "tags": []
   },
   "source": [
    "Basically, to add multiple arrays in one single array we use np.concatenate(). But where to add the array if it's multi-dimensional? As row, as column, as slice? That's why we use axes(0, 1, 2, ..., n). But, axes are always not similar in all nd-arrays. For example, for 2d array row is axis-0 where was for 3d arrays it's axis-1.\n",
    "\n",
    "Simply put, axis-0 is always the first dimension for that array. Remember? When we used to slice?\n",
    "For 3-d array we used to say, [x-slice] [y-row] [z-column], we are saying [axis-0] [axis-1] [axis-2]"
   ]
  },
  {
   "cell_type": "code",
   "execution_count": 17,
   "id": "1a7b687f",
   "metadata": {
    "execution": {
     "iopub.execute_input": "2025-07-11T15:24:24.993331Z",
     "iopub.status.busy": "2025-07-11T15:24:24.992164Z",
     "iopub.status.idle": "2025-07-11T15:24:25.000929Z",
     "shell.execute_reply": "2025-07-11T15:24:24.999843Z"
    },
    "papermill": {
     "duration": 0.021767,
     "end_time": "2025-07-11T15:24:25.002690",
     "exception": false,
     "start_time": "2025-07-11T15:24:24.980923",
     "status": "completed"
    },
    "tags": []
   },
   "outputs": [
    {
     "name": "stdout",
     "output_type": "stream",
     "text": [
      "[0 1 2 3 4 5]\n",
      "[[ 0  1  2]\n",
      " [ 3  4  5]\n",
      " [ 6  7  8]\n",
      " [ 9 10 11]]\n",
      "[[[ 0  1  2  3]\n",
      "  [ 4  5  6  7]]\n",
      "\n",
      " [[ 8  9 10 11]\n",
      "  [12 13 14 15]]\n",
      "\n",
      " [[16 17 18 19]\n",
      "  [20 21 22 23]]]\n"
     ]
    }
   ],
   "source": [
    "x = np.arange(0, 6)\n",
    "y = np.arange(0, 12).reshape(4, 3)\n",
    "z = np.arange(0, 24).reshape(3, 2, 4)\n",
    "\n",
    "print(x)\n",
    "print(y)\n",
    "print(z)\n",
    "\n",
    "a = np.array([1, 2, 3, 4, 5])\n",
    "b = np.array([[9, 9, 9, 9]])\n",
    "c = np.array([100, 100, 100])\n",
    "d = np.array([\n",
    "    [69],\n",
    "    [69],\n",
    "    [69],\n",
    "    [69],\n",
    "])\n"
   ]
  },
  {
   "cell_type": "code",
   "execution_count": 18,
   "id": "20a20579",
   "metadata": {
    "execution": {
     "iopub.execute_input": "2025-07-11T15:24:25.037652Z",
     "iopub.status.busy": "2025-07-11T15:24:25.037301Z",
     "iopub.status.idle": "2025-07-11T15:24:25.044430Z",
     "shell.execute_reply": "2025-07-11T15:24:25.043415Z"
    },
    "papermill": {
     "duration": 0.026249,
     "end_time": "2025-07-11T15:24:25.046249",
     "exception": false,
     "start_time": "2025-07-11T15:24:25.020000",
     "status": "completed"
    },
    "tags": []
   },
   "outputs": [
    {
     "data": {
      "text/plain": [
       "array([0, 1, 2, 3, 4, 5, 1, 2, 3, 4, 5])"
      ]
     },
     "execution_count": 18,
     "metadata": {},
     "output_type": "execute_result"
    }
   ],
   "source": [
    "x_concat = np.concatenate((x, a))\n",
    "x_concat\n",
    "\n",
    "# y_axis0 = np.concatenate((y, c), axis = 0) # it shows error. because we used 1d array to concatenate with 2d array. hmm interesting i am making such mistakes\n",
    "# y_axis0"
   ]
  },
  {
   "cell_type": "code",
   "execution_count": 19,
   "id": "a714d497",
   "metadata": {
    "execution": {
     "iopub.execute_input": "2025-07-11T15:24:25.073566Z",
     "iopub.status.busy": "2025-07-11T15:24:25.073161Z",
     "iopub.status.idle": "2025-07-11T15:24:25.082374Z",
     "shell.execute_reply": "2025-07-11T15:24:25.081324Z"
    },
    "papermill": {
     "duration": 0.022864,
     "end_time": "2025-07-11T15:24:25.084223",
     "exception": false,
     "start_time": "2025-07-11T15:24:25.061359",
     "status": "completed"
    },
    "tags": []
   },
   "outputs": [
    {
     "data": {
      "text/plain": [
       "array([[  0,   1,   2],\n",
       "       [  3,   4,   5],\n",
       "       [  6,   7,   8],\n",
       "       [  9,  10,  11],\n",
       "       [100, 100, 100]])"
      ]
     },
     "execution_count": 19,
     "metadata": {},
     "output_type": "execute_result"
    }
   ],
   "source": [
    "c = np.array([[100, 100, 100]])\n",
    "\n",
    "y_axis0 = np.concatenate((y, c), axis=0) # add a row \n",
    "y_axis0"
   ]
  },
  {
   "cell_type": "code",
   "execution_count": 20,
   "id": "08c7229a",
   "metadata": {
    "execution": {
     "iopub.execute_input": "2025-07-11T15:24:25.105967Z",
     "iopub.status.busy": "2025-07-11T15:24:25.105598Z",
     "iopub.status.idle": "2025-07-11T15:24:25.113108Z",
     "shell.execute_reply": "2025-07-11T15:24:25.111956Z"
    },
    "papermill": {
     "duration": 0.019792,
     "end_time": "2025-07-11T15:24:25.114684",
     "exception": false,
     "start_time": "2025-07-11T15:24:25.094892",
     "status": "completed"
    },
    "tags": []
   },
   "outputs": [
    {
     "data": {
      "text/plain": [
       "array([[ 0,  1,  2, 69],\n",
       "       [ 3,  4,  5, 69],\n",
       "       [ 6,  7,  8, 69],\n",
       "       [ 9, 10, 11, 69]])"
      ]
     },
     "execution_count": 20,
     "metadata": {},
     "output_type": "execute_result"
    }
   ],
   "source": [
    "y_axis1 = np.concatenate((y, d), axis=1) # add a column\n",
    "y_axis1"
   ]
  },
  {
   "cell_type": "markdown",
   "id": "0eeb25c1",
   "metadata": {
    "papermill": {
     "duration": 0.009626,
     "end_time": "2025-07-11T15:24:25.135594",
     "exception": false,
     "start_time": "2025-07-11T15:24:25.125968",
     "status": "completed"
    },
    "tags": []
   },
   "source": [
    "### **Vertical Stacking (.vstack)**"
   ]
  },
  {
   "cell_type": "markdown",
   "id": "7db1a44b",
   "metadata": {
    "papermill": {
     "duration": 0.014231,
     "end_time": "2025-07-11T15:24:25.159401",
     "exception": false,
     "start_time": "2025-07-11T15:24:25.145170",
     "status": "completed"
    },
    "tags": []
   },
   "source": [
    "It's just the specialized and concise version of np.concatenate((arr, arr2), axis=0) for 2d arrays"
   ]
  },
  {
   "cell_type": "code",
   "execution_count": 21,
   "id": "869fa6f3",
   "metadata": {
    "execution": {
     "iopub.execute_input": "2025-07-11T15:24:25.188764Z",
     "iopub.status.busy": "2025-07-11T15:24:25.187887Z",
     "iopub.status.idle": "2025-07-11T15:24:25.193646Z",
     "shell.execute_reply": "2025-07-11T15:24:25.192706Z"
    },
    "papermill": {
     "duration": 0.019503,
     "end_time": "2025-07-11T15:24:25.195225",
     "exception": false,
     "start_time": "2025-07-11T15:24:25.175722",
     "status": "completed"
    },
    "tags": []
   },
   "outputs": [],
   "source": [
    "varr = np.arange(0, 12).reshape(3, 4)\n",
    "addin = np.arange(4, 8).reshape(1, 4)"
   ]
  },
  {
   "cell_type": "code",
   "execution_count": 22,
   "id": "0dc00a19",
   "metadata": {
    "execution": {
     "iopub.execute_input": "2025-07-11T15:24:25.218641Z",
     "iopub.status.busy": "2025-07-11T15:24:25.217610Z",
     "iopub.status.idle": "2025-07-11T15:24:25.225702Z",
     "shell.execute_reply": "2025-07-11T15:24:25.224774Z"
    },
    "papermill": {
     "duration": 0.020902,
     "end_time": "2025-07-11T15:24:25.227489",
     "exception": false,
     "start_time": "2025-07-11T15:24:25.206587",
     "status": "completed"
    },
    "tags": []
   },
   "outputs": [
    {
     "data": {
      "text/plain": [
       "array([[ 0,  1,  2,  3],\n",
       "       [ 4,  5,  6,  7],\n",
       "       [ 8,  9, 10, 11],\n",
       "       [ 4,  5,  6,  7]])"
      ]
     },
     "execution_count": 22,
     "metadata": {},
     "output_type": "execute_result"
    }
   ],
   "source": [
    "vstacked = np.vstack((varr, addin)) # adds rows\n",
    "vstacked"
   ]
  },
  {
   "cell_type": "markdown",
   "id": "ebe2e004",
   "metadata": {
    "papermill": {
     "duration": 0.010611,
     "end_time": "2025-07-11T15:24:25.250000",
     "exception": false,
     "start_time": "2025-07-11T15:24:25.239389",
     "status": "completed"
    },
    "tags": []
   },
   "source": [
    "### **Horizantal Stacking (.hstack)**"
   ]
  },
  {
   "cell_type": "code",
   "execution_count": 23,
   "id": "b30e8242",
   "metadata": {
    "execution": {
     "iopub.execute_input": "2025-07-11T15:24:25.273475Z",
     "iopub.status.busy": "2025-07-11T15:24:25.273066Z",
     "iopub.status.idle": "2025-07-11T15:24:25.278894Z",
     "shell.execute_reply": "2025-07-11T15:24:25.277623Z"
    },
    "papermill": {
     "duration": 0.019732,
     "end_time": "2025-07-11T15:24:25.281417",
     "exception": false,
     "start_time": "2025-07-11T15:24:25.261685",
     "status": "completed"
    },
    "tags": []
   },
   "outputs": [],
   "source": [
    "harr = np.arange(0, 12).reshape(3, 4)\n",
    "addin = np.arange(4, 7).reshape(3, 1)"
   ]
  },
  {
   "cell_type": "code",
   "execution_count": 24,
   "id": "8a04d293",
   "metadata": {
    "execution": {
     "iopub.execute_input": "2025-07-11T15:24:25.313718Z",
     "iopub.status.busy": "2025-07-11T15:24:25.312078Z",
     "iopub.status.idle": "2025-07-11T15:24:25.319645Z",
     "shell.execute_reply": "2025-07-11T15:24:25.318642Z"
    },
    "papermill": {
     "duration": 0.021341,
     "end_time": "2025-07-11T15:24:25.321360",
     "exception": false,
     "start_time": "2025-07-11T15:24:25.300019",
     "status": "completed"
    },
    "tags": []
   },
   "outputs": [
    {
     "data": {
      "text/plain": [
       "array([[ 0,  1,  2,  3,  4],\n",
       "       [ 4,  5,  6,  7,  5],\n",
       "       [ 8,  9, 10, 11,  6]])"
      ]
     },
     "execution_count": 24,
     "metadata": {},
     "output_type": "execute_result"
    }
   ],
   "source": [
    "hstacked = np.hstack((harr, addin)) # adds columns but number of rows has to be same \n",
    "hstacked"
   ]
  },
  {
   "cell_type": "markdown",
   "id": "048d3005",
   "metadata": {
    "papermill": {
     "duration": 0.009926,
     "end_time": "2025-07-11T15:24:25.342379",
     "exception": false,
     "start_time": "2025-07-11T15:24:25.332453",
     "status": "completed"
    },
    "tags": []
   },
   "source": [
    "## **5. Element-wise Operations and Broadcasting**"
   ]
  },
  {
   "cell_type": "markdown",
   "id": "4a066c9e",
   "metadata": {
    "papermill": {
     "duration": 0.014991,
     "end_time": "2025-07-11T15:24:25.369113",
     "exception": false,
     "start_time": "2025-07-11T15:24:25.354122",
     "status": "completed"
    },
    "tags": []
   },
   "source": [
    "We will focus on some arithmetic operations that exists on numpy. And then we will get to broadcasting. \n",
    "\n",
    "- Basic Arithmetic (+, -, *, /, **)\n",
    "- Universal Functions (ufuncs like np.sqrt, np.log, np.exp, np.sin, etc.)\n",
    "- Understanding Broadcasting Rules"
   ]
  },
  {
   "cell_type": "markdown",
   "id": "ed7da822",
   "metadata": {
    "papermill": {
     "duration": 0.011787,
     "end_time": "2025-07-11T15:24:25.397963",
     "exception": false,
     "start_time": "2025-07-11T15:24:25.386176",
     "status": "completed"
    },
    "tags": []
   },
   "source": [
    "### **Arithmetic Operations**"
   ]
  },
  {
   "cell_type": "code",
   "execution_count": 25,
   "id": "69e9854f",
   "metadata": {
    "execution": {
     "iopub.execute_input": "2025-07-11T15:24:25.419223Z",
     "iopub.status.busy": "2025-07-11T15:24:25.418716Z",
     "iopub.status.idle": "2025-07-11T15:24:25.428322Z",
     "shell.execute_reply": "2025-07-11T15:24:25.427016Z"
    },
    "papermill": {
     "duration": 0.022775,
     "end_time": "2025-07-11T15:24:25.430441",
     "exception": false,
     "start_time": "2025-07-11T15:24:25.407666",
     "status": "completed"
    },
    "tags": []
   },
   "outputs": [
    {
     "name": "stdout",
     "output_type": "stream",
     "text": [
      "[1 2 3 4] \n",
      " \n",
      "[5 6 7 8] \n",
      "\n",
      "[[100 105 110 115 120]\n",
      " [125 130 135 140 145]\n",
      " [150 155 160 165 170]\n",
      " [175 180 185 190 195]] \n",
      " \n",
      "[[ 1  6 11 16 21]\n",
      " [26 31 36 41 46]\n",
      " [51 56 61 66 71]\n",
      " [76 81 86 91 96]]\n"
     ]
    }
   ],
   "source": [
    "arith1 = np.array([1, 2, 3, 4])\n",
    "arith2 = np.array([5, 6, 7, 8])\n",
    "print(f\"{arith1} \\n \\n{arith2} \\n\")\n",
    "\n",
    "ar2d1 = np.arange(100, 200, 5).reshape(4, 5)\n",
    "ar2d2 = np.arange(1, 100, 5).reshape(4, 5)\n",
    "print(f\"{ar2d1} \\n \\n{ar2d2}\")"
   ]
  },
  {
   "cell_type": "code",
   "execution_count": 26,
   "id": "7e507b7d",
   "metadata": {
    "execution": {
     "iopub.execute_input": "2025-07-11T15:24:25.467151Z",
     "iopub.status.busy": "2025-07-11T15:24:25.466850Z",
     "iopub.status.idle": "2025-07-11T15:24:25.478687Z",
     "shell.execute_reply": "2025-07-11T15:24:25.477783Z"
    },
    "papermill": {
     "duration": 0.032285,
     "end_time": "2025-07-11T15:24:25.480678",
     "exception": false,
     "start_time": "2025-07-11T15:24:25.448393",
     "status": "completed"
    },
    "tags": []
   },
   "outputs": [
    {
     "name": "stdout",
     "output_type": "stream",
     "text": [
      "[ 6  8 10 12]\n",
      "\n",
      "\n",
      "[[101 111 121 131 141]\n",
      " [151 161 171 181 191]\n",
      " [201 211 221 231 241]\n",
      " [251 261 271 281 291]]\n",
      "\n",
      "\n",
      "[-4 -4 -4 -4]\n",
      "\n",
      "\n",
      "[[99 99 99 99 99]\n",
      " [99 99 99 99 99]\n",
      " [99 99 99 99 99]\n",
      " [99 99 99 99 99]]\n",
      "\n",
      "\n",
      "[ 5 12 21 32]\n",
      "\n",
      "\n",
      "[[  100   630  1210  1840  2520]\n",
      " [ 3250  4030  4860  5740  6670]\n",
      " [ 7650  8680  9760 10890 12070]\n",
      " [13300 14580 15910 17290 18720]]\n",
      "\n",
      "\n",
      "[0.2        0.33333333 0.42857143 0.5       ]\n",
      "\n",
      "\n",
      "[[100.          17.5         10.           7.1875       5.71428571]\n",
      " [  4.80769231   4.19354839   3.75         3.41463415   3.15217391]\n",
      " [  2.94117647   2.76785714   2.62295082   2.5          2.3943662 ]\n",
      " [  2.30263158   2.22222222   2.15116279   2.08791209   2.03125   ]]\n",
      "\n",
      "\n",
      "[ 1  8 27 64]\n",
      "\n",
      "\n",
      "[[     1    216   1331   4096   9261]\n",
      " [ 17576  29791  46656  68921  97336]\n",
      " [132651 175616 226981 287496 357911]\n",
      " [438976 531441 636056 753571 884736]]\n",
      "\n",
      "\n"
     ]
    }
   ],
   "source": [
    "# adding\n",
    "\n",
    "add1 = np.add(arith1, arith2) # or we can use arr1 + arr2\n",
    "print(add1)\n",
    "print(\"\\n\")\n",
    "\n",
    "add2 = np.add(ar2d1, ar2d2)\n",
    "print(add2)\n",
    "print(\"\\n\")\n",
    "\n",
    "# subtract\n",
    "\n",
    "sub1 = np.subtract(arith1, arith2)\n",
    "print(sub1)\n",
    "print(\"\\n\")\n",
    "\n",
    "sub2 = np.subtract(ar2d1, ar2d2)\n",
    "print(sub2)\n",
    "print(\"\\n\")\n",
    "\n",
    "# multiply\n",
    "\n",
    "mul1 = np.multiply(arith1, arith2)\n",
    "print(mul1)\n",
    "print(\"\\n\")\n",
    "\n",
    "mul2 = np.multiply(ar2d1, ar2d2)\n",
    "print(mul2)\n",
    "print(\"\\n\")\n",
    "\n",
    "# division\n",
    "\n",
    "div1 = np.divide(arith1, arith2)\n",
    "print(div1)\n",
    "print(\"\\n\")\n",
    "\n",
    "div2 = np.divide(ar2d1, ar2d2)\n",
    "print(div2)\n",
    "print(\"\\n\")\n",
    "\n",
    "# power\n",
    "\n",
    "pow1 = arith1 ** 3\n",
    "print(pow1)\n",
    "print(\"\\n\")\n",
    "\n",
    "pow2 = ar2d2 ** 3\n",
    "print(pow2)\n",
    "print(\"\\n\")"
   ]
  },
  {
   "cell_type": "markdown",
   "id": "ccf997e6",
   "metadata": {
    "papermill": {
     "duration": 0.011936,
     "end_time": "2025-07-11T15:24:25.504898",
     "exception": false,
     "start_time": "2025-07-11T15:24:25.492962",
     "status": "completed"
    },
    "tags": []
   },
   "source": [
    "### **Universal Operations**"
   ]
  },
  {
   "cell_type": "code",
   "execution_count": 27,
   "id": "f94d3f6b",
   "metadata": {
    "execution": {
     "iopub.execute_input": "2025-07-11T15:24:25.527598Z",
     "iopub.status.busy": "2025-07-11T15:24:25.527294Z",
     "iopub.status.idle": "2025-07-11T15:24:25.534708Z",
     "shell.execute_reply": "2025-07-11T15:24:25.533232Z"
    },
    "papermill": {
     "duration": 0.021175,
     "end_time": "2025-07-11T15:24:25.536923",
     "exception": false,
     "start_time": "2025-07-11T15:24:25.515748",
     "status": "completed"
    },
    "tags": []
   },
   "outputs": [
    {
     "name": "stdout",
     "output_type": "stream",
     "text": [
      "[1 2 3 4] \n",
      " \n",
      "[5 6 7 8] \n",
      "\n",
      "[[100 105 110 115 120]\n",
      " [125 130 135 140 145]\n",
      " [150 155 160 165 170]\n",
      " [175 180 185 190 195]] \n",
      " \n",
      "[[ 1  6 11 16 21]\n",
      " [26 31 36 41 46]\n",
      " [51 56 61 66 71]\n",
      " [76 81 86 91 96]]\n"
     ]
    }
   ],
   "source": [
    "uni1 = np.array([1, 2, 3, 4])\n",
    "uni2 = np.array([5, 6, 7, 8])\n",
    "print(f\"{uni1} \\n \\n{uni2} \\n\")\n",
    "\n",
    "uni2da = np.arange(100, 200, 5).reshape(4, 5)\n",
    "uni2db = np.arange(1, 100, 5).reshape(4, 5)\n",
    "print(f\"{uni2da} \\n \\n{uni2db}\")"
   ]
  },
  {
   "cell_type": "code",
   "execution_count": 28,
   "id": "2a55df15",
   "metadata": {
    "execution": {
     "iopub.execute_input": "2025-07-11T15:24:25.570033Z",
     "iopub.status.busy": "2025-07-11T15:24:25.569463Z",
     "iopub.status.idle": "2025-07-11T15:24:25.608900Z",
     "shell.execute_reply": "2025-07-11T15:24:25.607584Z"
    },
    "papermill": {
     "duration": 0.058599,
     "end_time": "2025-07-11T15:24:25.610736",
     "exception": false,
     "start_time": "2025-07-11T15:24:25.552137",
     "status": "completed"
    },
    "tags": []
   },
   "outputs": [
    {
     "name": "stdout",
     "output_type": "stream",
     "text": [
      "[1.         1.41421356 1.73205081 2.        ]\n",
      "\n",
      "\n",
      "[[10.         10.24695077 10.48808848 10.72380529 10.95445115]\n",
      " [11.18033989 11.40175425 11.61895004 11.83215957 12.04159458]\n",
      " [12.24744871 12.4498996  12.64911064 12.84523258 13.03840481]\n",
      " [13.22875656 13.41640786 13.60147051 13.78404875 13.96424004]]\n",
      "\n",
      "\n",
      "[ 2.71828183  7.3890561  20.08553692 54.59815003]\n",
      "\n",
      "\n",
      "[[2.71828183e+00 4.03428793e+02 5.98741417e+04 8.88611052e+06\n",
      "  1.31881573e+09]\n",
      " [1.95729609e+11 2.90488497e+13 4.31123155e+15 6.39843494e+17\n",
      "  9.49611942e+19]\n",
      " [1.40934908e+22 2.09165950e+24 3.10429794e+26 4.60718663e+28\n",
      "  6.83767123e+30]\n",
      " [1.01480039e+33 1.50609731e+35 2.23524660e+37 3.31740010e+39\n",
      "  4.92345829e+41]]\n",
      "\n",
      "\n",
      "[0.         0.69314718 1.09861229 1.38629436]\n",
      "\n",
      "\n",
      "[[4.60517019 4.65396035 4.70048037 4.74493213 4.78749174]\n",
      " [4.82831374 4.86753445 4.90527478 4.94164242 4.97673374]\n",
      " [5.01063529 5.04342512 5.07517382 5.10594547 5.13579844]\n",
      " [5.16478597 5.19295685 5.22035583 5.24702407 5.27299956]]\n",
      "\n",
      "\n",
      "[ 0.84147098  0.90929743  0.14112001 -0.7568025 ]\n",
      "\n",
      "\n",
      "[ 0.28366219  0.96017029  0.75390225 -0.14550003]\n",
      "\n",
      "\n",
      "[[ -0.58721392   4.02780176   0.04428604  -2.90180135   0.71312301]\n",
      " [ -0.78206057   2.53233843  -0.08871576  -4.95537106   0.52920528]\n",
      " [ -1.02234624   1.79265449  -0.22490638 -15.04135305   0.36956439]\n",
      " [ -1.33860605   1.33869021  -0.36953013  15.04820623   0.22493805]]\n",
      "\n",
      "\n",
      "[1 2 8 9 0]\n",
      "\n",
      "\n",
      "[[18.4386105  13.19065181 15.0174332 ]\n",
      " [19.64164922 17.20776206 15.71846287]]\n",
      "[[19. 14. 16.]\n",
      " [20. 18. 16.]]\n",
      "\n",
      "\n",
      "3.0\n",
      "\n",
      "\n",
      "4.0\n",
      "\n",
      "\n",
      "[[13 10 13]\n",
      " [14 16 16]] \n",
      "[[27 22 27]\n",
      " [21 23 24]]\n",
      "\n",
      "[[27 22 27]\n",
      " [21 23 24]]\n",
      "\n",
      "[[13 10 13]\n",
      " [14 16 16]]\n",
      "\n"
     ]
    }
   ],
   "source": [
    "# square root\n",
    "\n",
    "sq1 = (np.sqrt(uni1))\n",
    "print(sq1)\n",
    "print(\"\\n\")\n",
    "\n",
    "sq2 = np.sqrt(uni2da)\n",
    "print(sq2)\n",
    "print(\"\\n\")\n",
    "\n",
    "# exponential\n",
    "\n",
    "exp1 = (np.exp(uni1)) # this exponential is not equal to power, but is Euler number (e) founded by Jacob Bernoulii, so it's e^x\n",
    "print(exp1)\n",
    "print(\"\\n\")\n",
    "\n",
    "exp2 = np.exp(uni2db)\n",
    "print(exp2)\n",
    "print(\"\\n\")\n",
    "\n",
    "#logarithm - log(x)\n",
    "\n",
    "log1 = (np.log(uni1))\n",
    "print(log1)\n",
    "print(\"\\n\")\n",
    "\n",
    "log2 = np.log(uni2da)\n",
    "print(log2)\n",
    "print(\"\\n\")\n",
    "\n",
    "# trignometric (sin, cos, tan)\n",
    "\n",
    "sin1 = (np.sin(uni1))\n",
    "print(sin1)\n",
    "print(\"\\n\")\n",
    "\n",
    "cos1 = np.cos(uni2)\n",
    "print(cos1)\n",
    "print(\"\\n\")\n",
    "\n",
    "tan1 = np.tan(uni2da)\n",
    "print(tan1)\n",
    "print(\"\\n\")\n",
    "\n",
    "# absolute (abs) Removes the negative sign from negative numbers. For complex numbers, it returns the magnitude.\n",
    "\n",
    "abs1 = np.array([-1, -2, 8, -9, 0])\n",
    "res_abs1 = np.abs(abs1)\n",
    "print(res_abs1)\n",
    "print(\"\\n\")\n",
    "\n",
    "# ceiling (.ceil) roundoffs to the nearest smallest integer greater or euqal to it, if 3.123, it will round off to 14\n",
    "\n",
    "ceil1 = np.random.uniform(10, 20, size=(2, 3)) # generates the random float numbers from 10 to 20 with 2d array\n",
    "print(ceil1)\n",
    "result = np.ceil(ceil1)\n",
    "print(result)\n",
    "print(\"\\n\")\n",
    "\n",
    "# flooring (.floor) just opposite to ceil, it will roundoff to nearest integer smaller to it. if 2.9, it will be 2\n",
    "\n",
    "floor1 = np.floor(3.1415)\n",
    "print(floor1)\n",
    "print(\"\\n\")\n",
    "\n",
    "# rounding (.round) \n",
    "\n",
    "round1 = np.round(3.657, decimals=0) # rounds off to the nearest possible integer\n",
    "print(round1)\n",
    "print(\"\\n\")\n",
    "\n",
    "# maximum and minimum, it does the element-wise ops in two arrays and find the maximum/minimum between two indexes of each array (takes two arguments and the array dimensions should be the same)\n",
    "\n",
    "max1 = np.random.randint(10, 20, size=(2,3))\n",
    "max2 = np.random.randint(20, 30, size=(2,3))\n",
    "print(f\"{max1} \\n{max2}\\n\")\n",
    "\n",
    "res1 = np.maximum(max1, max2)\n",
    "print(f\"{res1}\\n\")\n",
    "\n",
    "res2 = np.minimum(max1, max2)\n",
    "print(f\"{res2}\\n\")"
   ]
  },
  {
   "cell_type": "markdown",
   "id": "1cae24e7",
   "metadata": {
    "papermill": {
     "duration": 0.009436,
     "end_time": "2025-07-11T15:24:25.635420",
     "exception": false,
     "start_time": "2025-07-11T15:24:25.625984",
     "status": "completed"
    },
    "tags": []
   },
   "source": [
    "### **Broadcasting**"
   ]
  },
  {
   "cell_type": "markdown",
   "id": "5d2b8399",
   "metadata": {
    "papermill": {
     "duration": 0.009444,
     "end_time": "2025-07-11T15:24:25.654491",
     "exception": false,
     "start_time": "2025-07-11T15:24:25.645047",
     "status": "completed"
    },
    "tags": []
   },
   "source": [
    "The numpy way to deal with the arithmetic operations of different shapes and dimensions.\n",
    "\n",
    "The Broadcasting Rules:\n",
    "\n",
    "To determine if two arrays (Array A and Array B) are compatible for broadcasting, NumPy compares their shapes dimension by dimension, starting from the trailing (rightmost) dimension and moving left.\n",
    "\n",
    "Two dimensions are compatible if:\n",
    "\n",
    "    They are equal, OR\n",
    "\n",
    "    One of the dimensions is 1.\n",
    "\n",
    "If these rules are met, the arrays can be broadcast. If not, a ValueError (specifically, \"operands could not be broadcast together\") is raised.\n",
    "\n",
    "The resulting array's shape will be the maximum size along each dimension of the input arrays.\n",
    "\n",
    "Examples of Broadcasting Rules in Action\n",
    "\n",
    "Example 1: Compatible Shapes (Equal Dimensions)\n",
    "\n",
    "    A: (4, 3)\n",
    "\n",
    "    B: (4, 3)\n",
    "\n",
    "    Trailing dimensions: 3 and 3 (Equal) - Compatible.\n",
    "\n",
    "    Next dimensions: 4 and 4 (Equal) - Compatible.\n",
    "\n",
    "Result: (4, 3)\n",
    "\n",
    "Example 2: Compatible (One dimension is 1)\n",
    "\n",
    "    A: (4, 3)\n",
    "\n",
    "    B: (1, 3)\n",
    "\n",
    "    Trailing dimensions: 3 and 3 (Equal) - Compatible.\n",
    "\n",
    "    Next dimensions: 4 and 1 (One is 1) - Compatible.\n",
    "\n",
    "Result: (4, 3) (The dimension of size 1 is stretched to 4).\n",
    "\n",
    "Example 3: Compatible (Scalar or 1D array with matching trailing dimension)\n",
    "\n",
    "    A: (4, 3)\n",
    "\n",
    "    B: (3,) (NumPy implicitly treats this as (1, 3) when broadcasting against 2D)\n",
    "\n",
    "    Trailing dimensions: 3 and 3 (Equal) - Compatible.\n",
    "\n",
    "    Next dimensions: 4 and 1 (One is 1) - Compatible.\n",
    "\n",
    "Result: (4, 3)\n",
    "\n",
    "Example 4: Incompatible Shapes\n",
    "\n",
    "    A: (4, 3)\n",
    "\n",
    "    B: (4,)\n",
    "\n",
    "    Trailing dimensions: 3 and 4 (Not equal, neither is 1) - Incompatible.\n",
    "\n",
    "Result: ValueError: operands could not be broadcast together with shapes (4,3) (4,)"
   ]
  },
  {
   "cell_type": "code",
   "execution_count": 29,
   "id": "f880a777",
   "metadata": {
    "execution": {
     "iopub.execute_input": "2025-07-11T15:24:25.676086Z",
     "iopub.status.busy": "2025-07-11T15:24:25.675622Z",
     "iopub.status.idle": "2025-07-11T15:24:25.683432Z",
     "shell.execute_reply": "2025-07-11T15:24:25.682619Z"
    },
    "papermill": {
     "duration": 0.021039,
     "end_time": "2025-07-11T15:24:25.685377",
     "exception": false,
     "start_time": "2025-07-11T15:24:25.664338",
     "status": "completed"
    },
    "tags": []
   },
   "outputs": [
    {
     "name": "stdout",
     "output_type": "stream",
     "text": [
      "[[17 13 22]\n",
      " [19 20 28]]\n",
      "[11 22 21]\n",
      "(3,)\n"
     ]
    }
   ],
   "source": [
    "bro1 = np.random.randint(10, 30, size=(2, 3))\n",
    "print(bro1)\n",
    "bro2 = np.random.randint(10, 30, size=(3, ))\n",
    "print(bro2)\n",
    "print(bro2.shape)"
   ]
  },
  {
   "cell_type": "code",
   "execution_count": 30,
   "id": "85e241fa",
   "metadata": {
    "execution": {
     "iopub.execute_input": "2025-07-11T15:24:25.713291Z",
     "iopub.status.busy": "2025-07-11T15:24:25.712888Z",
     "iopub.status.idle": "2025-07-11T15:24:25.721906Z",
     "shell.execute_reply": "2025-07-11T15:24:25.720808Z"
    },
    "papermill": {
     "duration": 0.022753,
     "end_time": "2025-07-11T15:24:25.724037",
     "exception": false,
     "start_time": "2025-07-11T15:24:25.701284",
     "status": "completed"
    },
    "tags": []
   },
   "outputs": [
    {
     "name": "stdout",
     "output_type": "stream",
     "text": [
      "[[28 35 43]\n",
      " [30 42 49]]\n",
      "\n",
      "\n",
      "[[17 13]\n",
      " [22 19]\n",
      " [20 28]]\n",
      "(3, 2)\n",
      "\n",
      "\n",
      "[[11]\n",
      " [22]\n",
      " [21]]\n",
      "(3, 1)\n",
      "\n",
      "\n",
      "[[28 24]\n",
      " [44 41]\n",
      " [41 49]]\n"
     ]
    }
   ],
   "source": [
    "# to do the ops between 2d and 1d array, first we will do row to row and then column to column\n",
    "\n",
    "row = bro1 + bro2 # success because 1d array is (3, ) which numpy takes as (1, 3)\n",
    "print(row)\n",
    "print(\"\\n\")\n",
    "\n",
    "# but for bro1 and bro2 to be operated columnwise, we have to reshape our bro1 and add column to bro2\n",
    "\n",
    "bro1reshape = bro1.reshape(3,2)\n",
    "print(bro1reshape)\n",
    "print(bro1reshape.shape)\n",
    "print(\"\\n\")\n",
    "\n",
    "bro2reshape = bro2[:, None]\n",
    "print(bro2reshape)\n",
    "print(bro2reshape.shape)\n",
    "print(\"\\n\")\n",
    "\n",
    "add = bro1reshape + bro2reshape\n",
    "print(add)"
   ]
  }
 ],
 "metadata": {
  "kaggle": {
   "accelerator": "none",
   "dataSources": [],
   "dockerImageVersionId": 31040,
   "isGpuEnabled": false,
   "isInternetEnabled": false,
   "language": "python",
   "sourceType": "notebook"
  },
  "kernelspec": {
   "display_name": "Python 3",
   "language": "python",
   "name": "python3"
  },
  "language_info": {
   "codemirror_mode": {
    "name": "ipython",
    "version": 3
   },
   "file_extension": ".py",
   "mimetype": "text/x-python",
   "name": "python",
   "nbconvert_exporter": "python",
   "pygments_lexer": "ipython3",
   "version": "3.11.11"
  },
  "papermill": {
   "default_parameters": {},
   "duration": 8.130561,
   "end_time": "2025-07-11T15:24:26.365120",
   "environment_variables": {},
   "exception": null,
   "input_path": "__notebook__.ipynb",
   "output_path": "__notebook__.ipynb",
   "parameters": {},
   "start_time": "2025-07-11T15:24:18.234559",
   "version": "2.6.0"
  }
 },
 "nbformat": 4,
 "nbformat_minor": 5
}
