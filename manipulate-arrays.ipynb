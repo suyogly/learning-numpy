{
 "cells": [
  {
   "cell_type": "markdown",
   "id": "505f28fb",
   "metadata": {
    "papermill": {
     "duration": 0.006165,
     "end_time": "2025-07-03T15:56:45.925540",
     "exception": false,
     "start_time": "2025-07-03T15:56:45.919375",
     "status": "completed"
    },
    "tags": []
   },
   "source": [
    "# **Array Manipulation**"
   ]
  },
  {
   "cell_type": "markdown",
   "id": "cf413967",
   "metadata": {
    "papermill": {
     "duration": 0.00457,
     "end_time": "2025-07-03T15:56:45.935819",
     "exception": false,
     "start_time": "2025-07-03T15:56:45.931249",
     "status": "completed"
    },
    "tags": []
   },
   "source": [
    "Here, I will learn different methods of modiying the arrays while also learning about the arithmetic operations. "
   ]
  },
  {
   "cell_type": "markdown",
   "id": "0c365adf",
   "metadata": {
    "papermill": {
     "duration": 0.004283,
     "end_time": "2025-07-03T15:56:45.944684",
     "exception": false,
     "start_time": "2025-07-03T15:56:45.940401",
     "status": "completed"
    },
    "tags": []
   },
   "source": [
    "## **1. Value Asignment and Conditional Updates**"
   ]
  },
  {
   "cell_type": "markdown",
   "id": "fe6209d5",
   "metadata": {
    "papermill": {
     "duration": 0.004278,
     "end_time": "2025-07-03T15:56:45.953455",
     "exception": false,
     "start_time": "2025-07-03T15:56:45.949177",
     "status": "completed"
    },
    "tags": []
   },
   "source": [
    "This is fundamental because it's how you directly alter the data stored within your arrays. With three main ways:\n",
    "\n",
    "- **Direct Element Assignment**: Changing one specific value.\n",
    "- **Slice Assignment**: Changing a range of values.\n",
    "- **Boolean Mask Assignment**: Changing values based on a condition."
   ]
  },
  {
   "cell_type": "code",
   "execution_count": 1,
   "id": "7cb07662",
   "metadata": {
    "execution": {
     "iopub.execute_input": "2025-07-03T15:56:45.963899Z",
     "iopub.status.busy": "2025-07-03T15:56:45.963463Z",
     "iopub.status.idle": "2025-07-03T15:56:45.972023Z",
     "shell.execute_reply": "2025-07-03T15:56:45.971031Z"
    },
    "papermill": {
     "duration": 0.0159,
     "end_time": "2025-07-03T15:56:45.973781",
     "exception": false,
     "start_time": "2025-07-03T15:56:45.957881",
     "status": "completed"
    },
    "tags": []
   },
   "outputs": [],
   "source": [
    "import numpy as np"
   ]
  },
  {
   "cell_type": "code",
   "execution_count": 2,
   "id": "80a18bed",
   "metadata": {
    "execution": {
     "iopub.execute_input": "2025-07-03T15:56:45.984415Z",
     "iopub.status.busy": "2025-07-03T15:56:45.984124Z",
     "iopub.status.idle": "2025-07-03T15:56:45.989495Z",
     "shell.execute_reply": "2025-07-03T15:56:45.988750Z"
    },
    "papermill": {
     "duration": 0.01246,
     "end_time": "2025-07-03T15:56:45.990969",
     "exception": false,
     "start_time": "2025-07-03T15:56:45.978509",
     "status": "completed"
    },
    "tags": []
   },
   "outputs": [],
   "source": [
    "assign_1d = np.array([10, 20, 30, 40, 50, 60, 70, 80, 90, 100]) #1d array\n",
    "\n",
    "assign_2d = np.array([ #2d array\n",
    "    [1, 2, 3, 4],\n",
    "    [5, 6, 7, 8],\n",
    "    [9, 10, 11, 12]\n",
    "])\n",
    "\n",
    "assign_3d = np.array([ #3d array\n",
    "    [[100, 200, 300],\n",
    "        [400, 500, 600]],\n",
    "\n",
    "    [[719, 819, 919],\n",
    "    [1019, 1119, 1129]]\n",
    "])"
   ]
  },
  {
   "cell_type": "markdown",
   "id": "902ae9ae",
   "metadata": {
    "papermill": {
     "duration": 0.004396,
     "end_time": "2025-07-03T15:56:46.000005",
     "exception": false,
     "start_time": "2025-07-03T15:56:45.995609",
     "status": "completed"
    },
    "tags": []
   },
   "source": [
    "### **Direct Element Assignment**"
   ]
  },
  {
   "cell_type": "markdown",
   "id": "5985313f",
   "metadata": {
    "papermill": {
     "duration": 0.004218,
     "end_time": "2025-07-03T15:56:46.008656",
     "exception": false,
     "start_time": "2025-07-03T15:56:46.004438",
     "status": "completed"
    },
    "tags": []
   },
   "source": [
    "Changing one specific value"
   ]
  },
  {
   "cell_type": "code",
   "execution_count": 3,
   "id": "12662afb",
   "metadata": {
    "execution": {
     "iopub.execute_input": "2025-07-03T15:56:46.019224Z",
     "iopub.status.busy": "2025-07-03T15:56:46.018526Z",
     "iopub.status.idle": "2025-07-03T15:56:46.027440Z",
     "shell.execute_reply": "2025-07-03T15:56:46.026713Z"
    },
    "papermill": {
     "duration": 0.015742,
     "end_time": "2025-07-03T15:56:46.028870",
     "exception": false,
     "start_time": "2025-07-03T15:56:46.013128",
     "status": "completed"
    },
    "tags": []
   },
   "outputs": [
    {
     "data": {
      "text/plain": [
       "array([[[ 100,  200,  300],\n",
       "        [ 400,  500,    1]],\n",
       "\n",
       "       [[ 719,  819,  919],\n",
       "        [1019, 1119, 1129]]])"
      ]
     },
     "execution_count": 3,
     "metadata": {},
     "output_type": "execute_result"
    }
   ],
   "source": [
    "# this is easy, same as we did in indexing\n",
    "\n",
    "assign_1d [7] = 999 # changes the 7th index or 8th element -> from 80 to 999\n",
    "assign_1d\n",
    "\n",
    "assign_2d [1, -1] = 918 # changes the last element of the 2nd row -> from 8 to 918\n",
    "assign_2d\n",
    "\n",
    "assign_3d [0, 1, 2] = 1 # changes the 3rd element located in second row of 1st slice -> from 600 to 1\n",
    "assign_3d"
   ]
  },
  {
   "cell_type": "markdown",
   "id": "e453a4ac",
   "metadata": {
    "papermill": {
     "duration": 0.005614,
     "end_time": "2025-07-03T15:56:46.039829",
     "exception": false,
     "start_time": "2025-07-03T15:56:46.034215",
     "status": "completed"
    },
    "tags": []
   },
   "source": [
    "### **Slice Assignment**"
   ]
  },
  {
   "cell_type": "markdown",
   "id": "c089418f",
   "metadata": {
    "papermill": {
     "duration": 0.004403,
     "end_time": "2025-07-03T15:56:46.049062",
     "exception": false,
     "start_time": "2025-07-03T15:56:46.044659",
     "status": "completed"
    },
    "tags": []
   },
   "source": [
    "What if we want to change the multiple values at once? Like entire rows or from x-index to y-index?"
   ]
  },
  {
   "cell_type": "code",
   "execution_count": 4,
   "id": "2406255e",
   "metadata": {
    "execution": {
     "iopub.execute_input": "2025-07-03T15:56:46.060094Z",
     "iopub.status.busy": "2025-07-03T15:56:46.059330Z",
     "iopub.status.idle": "2025-07-03T15:56:46.065088Z",
     "shell.execute_reply": "2025-07-03T15:56:46.064170Z"
    },
    "papermill": {
     "duration": 0.0128,
     "end_time": "2025-07-03T15:56:46.066516",
     "exception": false,
     "start_time": "2025-07-03T15:56:46.053716",
     "status": "completed"
    },
    "tags": []
   },
   "outputs": [
    {
     "name": "stdout",
     "output_type": "stream",
     "text": [
      "1d: [ 10  20  30  40  50  60  70 999  90 100]\n",
      "2d: [[  1   2   3   4]\n",
      " [  5   6   7 918]\n",
      " [  9  10  11  12]]\n",
      "3d: [[[ 100  200  300]\n",
      "  [ 400  500    1]]\n",
      "\n",
      " [[ 719  819  919]\n",
      "  [1019 1119 1129]]]\n"
     ]
    }
   ],
   "source": [
    "print(f\"1d: {assign_1d}\")\n",
    "print(f\"2d: {assign_2d}\")\n",
    "print(f\"3d: {assign_3d}\")"
   ]
  },
  {
   "cell_type": "code",
   "execution_count": 5,
   "id": "bb353204",
   "metadata": {
    "execution": {
     "iopub.execute_input": "2025-07-03T15:56:46.077447Z",
     "iopub.status.busy": "2025-07-03T15:56:46.077122Z",
     "iopub.status.idle": "2025-07-03T15:56:46.084196Z",
     "shell.execute_reply": "2025-07-03T15:56:46.083140Z"
    },
    "papermill": {
     "duration": 0.014404,
     "end_time": "2025-07-03T15:56:46.085682",
     "exception": false,
     "start_time": "2025-07-03T15:56:46.071278",
     "status": "completed"
    },
    "tags": []
   },
   "outputs": [
    {
     "data": {
      "text/plain": [
       "array([[[ 100,  200,  300],\n",
       "        [   1,    1,    1]],\n",
       "\n",
       "       [[ 719,  819,  919],\n",
       "        [1019, 1119, 1129]]])"
      ]
     },
     "execution_count": 5,
     "metadata": {},
     "output_type": "execute_result"
    }
   ],
   "source": [
    "# this is same as i read on slicing in reading-array\n",
    "\n",
    "assign_1d [0:3] = 39 # gives updated array with changed value of 39 in index 1, 2 and 3\n",
    "assign_1d\n",
    "\n",
    "assign_2d [:, 2] = 44 # gives updated array with changed value of 44 in 2nd index of all rows\n",
    "assign_2d\n",
    "\n",
    "assign_3d [0, 1, 0:2] = [1, 1] # changed value of [1, 1] in 0 and 1 index of 2nd row of 1st slice\n",
    "assign_3d"
   ]
  },
  {
   "cell_type": "markdown",
   "id": "39a57ee7",
   "metadata": {
    "papermill": {
     "duration": 0.004633,
     "end_time": "2025-07-03T15:56:46.095396",
     "exception": false,
     "start_time": "2025-07-03T15:56:46.090763",
     "status": "completed"
    },
    "tags": []
   },
   "source": [
    "### **Boolean Mask Assignment**"
   ]
  },
  {
   "cell_type": "markdown",
   "id": "1bca311d",
   "metadata": {
    "papermill": {
     "duration": 0.004459,
     "end_time": "2025-07-03T15:56:46.104620",
     "exception": false,
     "start_time": "2025-07-03T15:56:46.100161",
     "status": "completed"
    },
    "tags": []
   },
   "source": [
    "Changing values based on a condition."
   ]
  },
  {
   "cell_type": "code",
   "execution_count": 6,
   "id": "7ef01146",
   "metadata": {
    "execution": {
     "iopub.execute_input": "2025-07-03T15:56:46.115419Z",
     "iopub.status.busy": "2025-07-03T15:56:46.115075Z",
     "iopub.status.idle": "2025-07-03T15:56:46.120775Z",
     "shell.execute_reply": "2025-07-03T15:56:46.119919Z"
    },
    "papermill": {
     "duration": 0.012858,
     "end_time": "2025-07-03T15:56:46.122239",
     "exception": false,
     "start_time": "2025-07-03T15:56:46.109381",
     "status": "completed"
    },
    "tags": []
   },
   "outputs": [
    {
     "name": "stdout",
     "output_type": "stream",
     "text": [
      "1d: [ 39  39  39  40  50  60  70 999  90 100]\n",
      "2d: [[  1   2  44   4]\n",
      " [  5   6  44 918]\n",
      " [  9  10  44  12]]\n",
      "3d: [[[ 100  200  300]\n",
      "  [   1    1    1]]\n",
      "\n",
      " [[ 719  819  919]\n",
      "  [1019 1119 1129]]]\n"
     ]
    }
   ],
   "source": [
    "print(f\"1d: {assign_1d}\")\n",
    "print(f\"2d: {assign_2d}\")\n",
    "print(f\"3d: {assign_3d}\")"
   ]
  },
  {
   "cell_type": "code",
   "execution_count": 7,
   "id": "0120d3fb",
   "metadata": {
    "execution": {
     "iopub.execute_input": "2025-07-03T15:56:46.133776Z",
     "iopub.status.busy": "2025-07-03T15:56:46.133459Z",
     "iopub.status.idle": "2025-07-03T15:56:46.142791Z",
     "shell.execute_reply": "2025-07-03T15:56:46.141893Z"
    },
    "papermill": {
     "duration": 0.01692,
     "end_time": "2025-07-03T15:56:46.144288",
     "exception": false,
     "start_time": "2025-07-03T15:56:46.127368",
     "status": "completed"
    },
    "tags": []
   },
   "outputs": [
    {
     "data": {
      "text/plain": [
       "array([[1, 1, 1, 1],\n",
       "       [1, 1, 1, 1],\n",
       "       [1, 1, 1, 1]])"
      ]
     },
     "execution_count": 7,
     "metadata": {},
     "output_type": "execute_result"
    }
   ],
   "source": [
    "# this is also same as boolean indexing i read\n",
    "\n",
    "assign_1d [assign_1d != 39] = 0\n",
    "assign_1d\n",
    "\n",
    "assign_2d [(assign_2d [1, 2] > 20) & (assign_2d [-1, 1] < 10)] = 0\n",
    "assign_2d\n",
    "\n",
    "assign_2d [(assign_2d [:, 2] == 0) | (assign_2d [:, 2] < 50)] = 1\n",
    "assign_2d"
   ]
  },
  {
   "cell_type": "markdown",
   "id": "8195d982",
   "metadata": {
    "papermill": {
     "duration": 0.004749,
     "end_time": "2025-07-03T15:56:46.154247",
     "exception": false,
     "start_time": "2025-07-03T15:56:46.149498",
     "status": "completed"
    },
    "tags": []
   },
   "source": [
    "## **2. Reshaping and Dimension Manipulation**"
   ]
  },
  {
   "cell_type": "markdown",
   "id": "ea31b802",
   "metadata": {
    "papermill": {
     "duration": 0.004715,
     "end_time": "2025-07-03T15:56:46.163862",
     "exception": false,
     "start_time": "2025-07-03T15:56:46.159147",
     "status": "completed"
    },
    "tags": []
   },
   "source": [
    "- changing an array's shape and flattening the arr >= 2 to 1d array\n",
    "- adding new dimension/s\n",
    "- transposing"
   ]
  },
  {
   "cell_type": "markdown",
   "id": "35535313",
   "metadata": {
    "papermill": {
     "duration": 0.004735,
     "end_time": "2025-07-03T15:56:46.173413",
     "exception": false,
     "start_time": "2025-07-03T15:56:46.168678",
     "status": "completed"
    },
    "tags": []
   },
   "source": [
    "### **Changing Array Shape**"
   ]
  },
  {
   "cell_type": "code",
   "execution_count": 8,
   "id": "ff76d20a",
   "metadata": {
    "execution": {
     "iopub.execute_input": "2025-07-03T15:56:46.184972Z",
     "iopub.status.busy": "2025-07-03T15:56:46.184633Z",
     "iopub.status.idle": "2025-07-03T15:56:46.190790Z",
     "shell.execute_reply": "2025-07-03T15:56:46.189781Z"
    },
    "papermill": {
     "duration": 0.013901,
     "end_time": "2025-07-03T15:56:46.192250",
     "exception": false,
     "start_time": "2025-07-03T15:56:46.178349",
     "status": "completed"
    },
    "tags": []
   },
   "outputs": [
    {
     "name": "stdout",
     "output_type": "stream",
     "text": [
      "[ 0  1  2  3  4  5  6  7  8  9 10 11 12 13 14 15 16 17 18 19 20 21 22 23]\n",
      "[[ 0  1  2  3  4  5]\n",
      " [ 6  7  8  9 10 11]\n",
      " [12 13 14 15 16 17]\n",
      " [18 19 20 21 22 23]]\n",
      "[[[ 0  1  2  3]\n",
      "  [ 4  5  6  7]\n",
      "  [ 8  9 10 11]]\n",
      "\n",
      " [[12 13 14 15]\n",
      "  [16 17 18 19]\n",
      "  [20 21 22 23]]]\n"
     ]
    }
   ],
   "source": [
    "arr_1d = np.arange(24) # 1d array from 0 to 23\n",
    "arr_2d = np.arange(24).reshape(4, 6) # 2d array with 4 rows and 6 comlumns each from 0 to 23\n",
    "arr_3d = np.arange(24).reshape(2, 3, 4) # 3d array with 2 slices, 3 rows each and 4 columns\n",
    "\n",
    "print(arr_1d)\n",
    "print(arr_2d)\n",
    "print(arr_3d)"
   ]
  },
  {
   "cell_type": "code",
   "execution_count": 9,
   "id": "b362059a",
   "metadata": {
    "execution": {
     "iopub.execute_input": "2025-07-03T15:56:46.203900Z",
     "iopub.status.busy": "2025-07-03T15:56:46.203567Z",
     "iopub.status.idle": "2025-07-03T15:56:46.210619Z",
     "shell.execute_reply": "2025-07-03T15:56:46.209884Z"
    },
    "papermill": {
     "duration": 0.01462,
     "end_time": "2025-07-03T15:56:46.212050",
     "exception": false,
     "start_time": "2025-07-03T15:56:46.197430",
     "status": "completed"
    },
    "tags": []
   },
   "outputs": [
    {
     "data": {
      "text/plain": [
       "array([[[ 0,  1],\n",
       "        [ 2,  3],\n",
       "        [ 4,  5]],\n",
       "\n",
       "       [[ 6,  7],\n",
       "        [ 8,  9],\n",
       "        [10, 11]],\n",
       "\n",
       "       [[12, 13],\n",
       "        [14, 15],\n",
       "        [16, 17]],\n",
       "\n",
       "       [[18, 19],\n",
       "        [20, 21],\n",
       "        [22, 23]]])"
      ]
     },
     "execution_count": 9,
     "metadata": {},
     "output_type": "execute_result"
    }
   ],
   "source": [
    "# changing the shape of 1d array to 2d and 3d array\n",
    "\n",
    "# using .reshape()\n",
    "\n",
    "one_2d = arr_1d.reshape(2, 12) # 2 rows, 12 columns each\n",
    "one_2d\n",
    "\n",
    "one_2d_1 = arr_1d.reshape(3, 8) # 3 rows, 8 columns each\n",
    "one_2d_1\n",
    "\n",
    "one_2d_2 = arr_1d.reshape(12, 2) # 12 rows, 2 columns each\n",
    "one_2d_2\n",
    "\n",
    "one_3d = arr_1d.reshape(2, 4, 3) # 2 slices, 4 rows each with 3 columns\n",
    "one_3d\n",
    "\n",
    "one_3d_1 = arr_1d.reshape(4, 3, 2) # 4 slices, 3 rows each with 2 columns\n",
    "one_3d_1"
   ]
  },
  {
   "cell_type": "code",
   "execution_count": 10,
   "id": "c14ca280",
   "metadata": {
    "execution": {
     "iopub.execute_input": "2025-07-03T15:56:46.223562Z",
     "iopub.status.busy": "2025-07-03T15:56:46.223290Z",
     "iopub.status.idle": "2025-07-03T15:56:46.230431Z",
     "shell.execute_reply": "2025-07-03T15:56:46.229463Z"
    },
    "papermill": {
     "duration": 0.014794,
     "end_time": "2025-07-03T15:56:46.232111",
     "exception": false,
     "start_time": "2025-07-03T15:56:46.217317",
     "status": "completed"
    },
    "tags": []
   },
   "outputs": [
    {
     "data": {
      "text/plain": [
       "array([ 0,  1,  2,  3,  4,  5,  6,  7,  8,  9, 10, 11, 12, 13, 14, 15, 16,\n",
       "       17, 18, 19, 20, 21, 22, 23])"
      ]
     },
     "execution_count": 10,
     "metadata": {},
     "output_type": "execute_result"
    }
   ],
   "source": [
    "# 2d to 3d and 1d\n",
    "\n",
    "two_3d = arr_2d.reshape(3, 4, 2)\n",
    "two_3d\n",
    "\n",
    "two_3d_1 = arr_2d.reshape(6, 2, 2)\n",
    "two_3d_1\n",
    "\n",
    "# 2d to 1d\n",
    "\n",
    "# we can use either .ravel() or .flatten() or .reshape(-1)\n",
    "\n",
    "two_1d = arr_2d.ravel()\n",
    "two_1d\n",
    "\n",
    "two_1d_1 = arr_2d.flatten()\n",
    "two_1d_1\n",
    "\n",
    "two_1d_2 = arr_2d.reshape(-1)\n",
    "two_1d_2"
   ]
  },
  {
   "cell_type": "code",
   "execution_count": 11,
   "id": "060807b6",
   "metadata": {
    "execution": {
     "iopub.execute_input": "2025-07-03T15:56:46.244344Z",
     "iopub.status.busy": "2025-07-03T15:56:46.244006Z",
     "iopub.status.idle": "2025-07-03T15:56:46.250484Z",
     "shell.execute_reply": "2025-07-03T15:56:46.249721Z"
    },
    "papermill": {
     "duration": 0.014141,
     "end_time": "2025-07-03T15:56:46.251770",
     "exception": false,
     "start_time": "2025-07-03T15:56:46.237629",
     "status": "completed"
    },
    "tags": []
   },
   "outputs": [
    {
     "data": {
      "text/plain": [
       "array([ 0,  1,  2,  3,  4,  5,  6,  7,  8,  9, 10, 11, 12, 13, 14, 15, 16,\n",
       "       17, 18, 19, 20, 21, 22, 23])"
      ]
     },
     "execution_count": 11,
     "metadata": {},
     "output_type": "execute_result"
    }
   ],
   "source": [
    "# 3d to 2d\n",
    "\n",
    "three_2d = arr_3d.reshape(6, 4)\n",
    "three_2d\n",
    "\n",
    "three_2d_1 = arr_3d.reshape(4, 6)\n",
    "three_2d_1\n",
    "\n",
    "# 3d to 1d\n",
    "\n",
    "three_1d = arr_3d.reshape(-1)\n",
    "three_1d\n",
    "\n",
    "# we can also use .ravel and .flatten"
   ]
  },
  {
   "cell_type": "markdown",
   "id": "e6447ae7",
   "metadata": {
    "papermill": {
     "duration": 0.005492,
     "end_time": "2025-07-03T15:56:46.262701",
     "exception": false,
     "start_time": "2025-07-03T15:56:46.257209",
     "status": "completed"
    },
    "tags": []
   },
   "source": [
    "### **Adding new Dimensions**"
   ]
  },
  {
   "cell_type": "code",
   "execution_count": 12,
   "id": "b72a064e",
   "metadata": {
    "execution": {
     "iopub.execute_input": "2025-07-03T15:56:46.274697Z",
     "iopub.status.busy": "2025-07-03T15:56:46.274381Z",
     "iopub.status.idle": "2025-07-03T15:56:46.278891Z",
     "shell.execute_reply": "2025-07-03T15:56:46.278149Z"
    },
    "papermill": {
     "duration": 0.012322,
     "end_time": "2025-07-03T15:56:46.280407",
     "exception": false,
     "start_time": "2025-07-03T15:56:46.268085",
     "status": "completed"
    },
    "tags": []
   },
   "outputs": [],
   "source": [
    "newd_1d = np.arange(24) # 1d array from 0 to 23\n",
    "newd_2d = np.arange(24).reshape(4, 6) # 2d array with 4 rows and 6 comlumns each from 0 to 23\n",
    "newd_3d = np.arange(24).reshape(2, 3, 4) # 3d array with 2 slices, 3 rows each and 4 columns"
   ]
  },
  {
   "cell_type": "code",
   "execution_count": 13,
   "id": "be658bce",
   "metadata": {
    "execution": {
     "iopub.execute_input": "2025-07-03T15:56:46.292428Z",
     "iopub.status.busy": "2025-07-03T15:56:46.292103Z",
     "iopub.status.idle": "2025-07-03T15:56:46.298452Z",
     "shell.execute_reply": "2025-07-03T15:56:46.297668Z"
    },
    "papermill": {
     "duration": 0.013987,
     "end_time": "2025-07-03T15:56:46.299876",
     "exception": false,
     "start_time": "2025-07-03T15:56:46.285889",
     "status": "completed"
    },
    "tags": []
   },
   "outputs": [
    {
     "data": {
      "text/plain": [
       "array([[ 0],\n",
       "       [ 1],\n",
       "       [ 2],\n",
       "       [ 3],\n",
       "       [ 4],\n",
       "       [ 5],\n",
       "       [ 6],\n",
       "       [ 7],\n",
       "       [ 8],\n",
       "       [ 9],\n",
       "       [10],\n",
       "       [11],\n",
       "       [12],\n",
       "       [13],\n",
       "       [14],\n",
       "       [15],\n",
       "       [16],\n",
       "       [17],\n",
       "       [18],\n",
       "       [19],\n",
       "       [20],\n",
       "       [21],\n",
       "       [22],\n",
       "       [23]])"
      ]
     },
     "execution_count": 13,
     "metadata": {},
     "output_type": "execute_result"
    }
   ],
   "source": [
    "# adding new dimension in 1d array, which will make it 2d\n",
    "\n",
    "newd_as_row = newd_1d[None, :]\n",
    "newd_as_row\n",
    "\n",
    "newd_as_col = newd_1d[:, np.newaxis]\n",
    "newd_as_col"
   ]
  },
  {
   "cell_type": "code",
   "execution_count": 14,
   "id": "f2359973",
   "metadata": {
    "execution": {
     "iopub.execute_input": "2025-07-03T15:56:46.312637Z",
     "iopub.status.busy": "2025-07-03T15:56:46.311786Z",
     "iopub.status.idle": "2025-07-03T15:56:46.318265Z",
     "shell.execute_reply": "2025-07-03T15:56:46.317495Z"
    },
    "papermill": {
     "duration": 0.014249,
     "end_time": "2025-07-03T15:56:46.319694",
     "exception": false,
     "start_time": "2025-07-03T15:56:46.305445",
     "status": "completed"
    },
    "tags": []
   },
   "outputs": [
    {
     "data": {
      "text/plain": [
       "array([[[ 0],\n",
       "        [ 1],\n",
       "        [ 2],\n",
       "        [ 3],\n",
       "        [ 4],\n",
       "        [ 5]],\n",
       "\n",
       "       [[ 6],\n",
       "        [ 7],\n",
       "        [ 8],\n",
       "        [ 9],\n",
       "        [10],\n",
       "        [11]],\n",
       "\n",
       "       [[12],\n",
       "        [13],\n",
       "        [14],\n",
       "        [15],\n",
       "        [16],\n",
       "        [17]],\n",
       "\n",
       "       [[18],\n",
       "        [19],\n",
       "        [20],\n",
       "        [21],\n",
       "        [22],\n",
       "        [23]]])"
      ]
     },
     "execution_count": 14,
     "metadata": {},
     "output_type": "execute_result"
    }
   ],
   "source": [
    "# adding new dimension in 2d array, which will make it 3d\n",
    "\n",
    "newd_in_2d_as_row = newd_2d[None, :, :]\n",
    "newd_in_2d_as_row\n",
    "\n",
    "newd_in_2d_as_col = newd_2d[:, :, np.newaxis]\n",
    "newd_in_2d_as_col\n",
    "\n",
    "# same for 3d "
   ]
  },
  {
   "cell_type": "markdown",
   "id": "f979e723",
   "metadata": {
    "papermill": {
     "duration": 0.00519,
     "end_time": "2025-07-03T15:56:46.330682",
     "exception": false,
     "start_time": "2025-07-03T15:56:46.325492",
     "status": "completed"
    },
    "tags": []
   },
   "source": [
    "### **Transposing**"
   ]
  },
  {
   "cell_type": "code",
   "execution_count": 15,
   "id": "0e806490",
   "metadata": {
    "execution": {
     "iopub.execute_input": "2025-07-03T15:56:46.343580Z",
     "iopub.status.busy": "2025-07-03T15:56:46.343300Z",
     "iopub.status.idle": "2025-07-03T15:56:46.349801Z",
     "shell.execute_reply": "2025-07-03T15:56:46.348976Z"
    },
    "papermill": {
     "duration": 0.014744,
     "end_time": "2025-07-03T15:56:46.351158",
     "exception": false,
     "start_time": "2025-07-03T15:56:46.336414",
     "status": "completed"
    },
    "tags": []
   },
   "outputs": [
    {
     "data": {
      "text/plain": [
       "array([[[ 0, 12],\n",
       "        [ 3, 15],\n",
       "        [ 6, 18],\n",
       "        [ 9, 21]],\n",
       "\n",
       "       [[ 1, 13],\n",
       "        [ 4, 16],\n",
       "        [ 7, 19],\n",
       "        [10, 22]],\n",
       "\n",
       "       [[ 2, 14],\n",
       "        [ 5, 17],\n",
       "        [ 8, 20],\n",
       "        [11, 23]]])"
      ]
     },
     "execution_count": 15,
     "metadata": {},
     "output_type": "execute_result"
    }
   ],
   "source": [
    "# .T, which transposes the order of axes, rows element to column and vice versa (applies to arr > 1)\n",
    "t_2d = np.arange(24).reshape(4, 6)\n",
    "t_2d.shape\n",
    "t_2d.T.shape # -> from (4,6) to (6,4)\n",
    "\n",
    "t_3d = np.arange(24).reshape(2, 4, 3)\n",
    "t_3d.T # from (2, 4, 3) to (3, 4, 2)"
   ]
  },
  {
   "cell_type": "code",
   "execution_count": 16,
   "id": "0b52c465",
   "metadata": {
    "execution": {
     "iopub.execute_input": "2025-07-03T15:56:46.363809Z",
     "iopub.status.busy": "2025-07-03T15:56:46.363534Z",
     "iopub.status.idle": "2025-07-03T15:56:46.370646Z",
     "shell.execute_reply": "2025-07-03T15:56:46.369779Z"
    },
    "papermill": {
     "duration": 0.015043,
     "end_time": "2025-07-03T15:56:46.372007",
     "exception": false,
     "start_time": "2025-07-03T15:56:46.356964",
     "status": "completed"
    },
    "tags": []
   },
   "outputs": [
    {
     "name": "stdout",
     "output_type": "stream",
     "text": [
      "[[[ 0  1  2]\n",
      "  [ 3  4  5]\n",
      "  [ 6  7  8]\n",
      "  [ 9 10 11]]\n",
      "\n",
      " [[12 13 14]\n",
      "  [15 16 17]\n",
      "  [18 19 20]\n",
      "  [21 22 23]]]\n"
     ]
    },
    {
     "data": {
      "text/plain": [
       "array([[[ 0,  3,  6,  9],\n",
       "        [ 1,  4,  7, 10],\n",
       "        [ 2,  5,  8, 11]],\n",
       "\n",
       "       [[12, 15, 18, 21],\n",
       "        [13, 16, 19, 22],\n",
       "        [14, 17, 20, 23]]])"
      ]
     },
     "execution_count": 16,
     "metadata": {},
     "output_type": "execute_result"
    }
   ],
   "source": [
    "# .transpose, flexible than .T\n",
    "\n",
    "transpose_3d = np.arange(24).reshape(2, 4, 3)\n",
    "print(transpose_3d)\n",
    "\n",
    "new = np.transpose(transpose_3d, axes=(0, 2, 1)) # keep the slices of same number, exchange the number of rows and columns with each other\n",
    "new"
   ]
  }
 ],
 "metadata": {
  "kaggle": {
   "accelerator": "none",
   "dataSources": [],
   "dockerImageVersionId": 31040,
   "isGpuEnabled": false,
   "isInternetEnabled": false,
   "language": "python",
   "sourceType": "notebook"
  },
  "kernelspec": {
   "display_name": "Python 3",
   "language": "python",
   "name": "python3"
  },
  "language_info": {
   "codemirror_mode": {
    "name": "ipython",
    "version": 3
   },
   "file_extension": ".py",
   "mimetype": "text/x-python",
   "name": "python",
   "nbconvert_exporter": "python",
   "pygments_lexer": "ipython3",
   "version": "3.11.11"
  },
  "papermill": {
   "default_parameters": {},
   "duration": 6.628304,
   "end_time": "2025-07-03T15:56:46.798556",
   "environment_variables": {},
   "exception": null,
   "input_path": "__notebook__.ipynb",
   "output_path": "__notebook__.ipynb",
   "parameters": {},
   "start_time": "2025-07-03T15:56:40.170252",
   "version": "2.6.0"
  }
 },
 "nbformat": 4,
 "nbformat_minor": 5
}
